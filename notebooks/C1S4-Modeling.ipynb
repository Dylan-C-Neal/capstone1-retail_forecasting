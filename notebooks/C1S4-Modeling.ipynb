{
 "cells": [
  {
   "cell_type": "code",
   "execution_count": 1,
   "metadata": {},
   "outputs": [],
   "source": [
    "# Import standard packages\n",
    "import pandas as pd\n",
    "import numpy as np\n",
    "import matplotlib.pyplot as plt\n",
    "%matplotlib inline\n",
    "import seaborn as sns\n",
    "import os"
   ]
  },
  {
   "cell_type": "code",
   "execution_count": 2,
   "metadata": {},
   "outputs": [],
   "source": [
    "os.chdir('../data/interim')"
   ]
  },
  {
   "cell_type": "code",
   "execution_count": 3,
   "metadata": {
    "scrolled": true
   },
   "outputs": [
    {
     "data": {
      "text/plain": [
       "['.gitkeep',\n",
       " 'data post-eda.csv',\n",
       " 'joined data full.csv',\n",
       " 'joined data post-markdowns.csv',\n",
       " 'joined data pre-markdowns.csv']"
      ]
     },
     "execution_count": 3,
     "metadata": {},
     "output_type": "execute_result"
    }
   ],
   "source": [
    "os.listdir()"
   ]
  },
  {
   "cell_type": "markdown",
   "metadata": {},
   "source": [
    "### Generate Dummy Features"
   ]
  },
  {
   "cell_type": "markdown",
   "metadata": {},
   "source": [
    "My approach is going to be dropping the markdown columns in order to have access to the entire data set for training."
   ]
  },
  {
   "cell_type": "code",
   "execution_count": 4,
   "metadata": {},
   "outputs": [
    {
     "data": {
      "text/html": [
       "<div>\n",
       "<style scoped>\n",
       "    .dataframe tbody tr th:only-of-type {\n",
       "        vertical-align: middle;\n",
       "    }\n",
       "\n",
       "    .dataframe tbody tr th {\n",
       "        vertical-align: top;\n",
       "    }\n",
       "\n",
       "    .dataframe thead th {\n",
       "        text-align: right;\n",
       "    }\n",
       "</style>\n",
       "<table border=\"1\" class=\"dataframe\">\n",
       "  <thead>\n",
       "    <tr style=\"text-align: right;\">\n",
       "      <th></th>\n",
       "      <th>Store</th>\n",
       "      <th>Dept</th>\n",
       "      <th>Date</th>\n",
       "      <th>Weekly_Sales</th>\n",
       "      <th>IsHoliday</th>\n",
       "      <th>Temperature</th>\n",
       "      <th>Fuel_Price</th>\n",
       "      <th>MarkDown1</th>\n",
       "      <th>MarkDown2</th>\n",
       "      <th>MarkDown3</th>\n",
       "      <th>MarkDown4</th>\n",
       "      <th>MarkDown5</th>\n",
       "      <th>CPI</th>\n",
       "      <th>Unemployment</th>\n",
       "      <th>Type</th>\n",
       "      <th>Size</th>\n",
       "      <th>Month</th>\n",
       "      <th>Week</th>\n",
       "    </tr>\n",
       "  </thead>\n",
       "  <tbody>\n",
       "    <tr>\n",
       "      <th>0</th>\n",
       "      <td>1</td>\n",
       "      <td>1</td>\n",
       "      <td>2010-01-10</td>\n",
       "      <td>20094.19</td>\n",
       "      <td>0</td>\n",
       "      <td>71.89</td>\n",
       "      <td>2.603</td>\n",
       "      <td>NaN</td>\n",
       "      <td>NaN</td>\n",
       "      <td>NaN</td>\n",
       "      <td>NaN</td>\n",
       "      <td>NaN</td>\n",
       "      <td>211.671989</td>\n",
       "      <td>7.838</td>\n",
       "      <td>2</td>\n",
       "      <td>151315</td>\n",
       "      <td>1</td>\n",
       "      <td>1</td>\n",
       "    </tr>\n",
       "    <tr>\n",
       "      <th>1</th>\n",
       "      <td>1</td>\n",
       "      <td>2</td>\n",
       "      <td>2010-01-10</td>\n",
       "      <td>45829.02</td>\n",
       "      <td>0</td>\n",
       "      <td>71.89</td>\n",
       "      <td>2.603</td>\n",
       "      <td>NaN</td>\n",
       "      <td>NaN</td>\n",
       "      <td>NaN</td>\n",
       "      <td>NaN</td>\n",
       "      <td>NaN</td>\n",
       "      <td>211.671989</td>\n",
       "      <td>7.838</td>\n",
       "      <td>2</td>\n",
       "      <td>151315</td>\n",
       "      <td>1</td>\n",
       "      <td>1</td>\n",
       "    </tr>\n",
       "    <tr>\n",
       "      <th>2</th>\n",
       "      <td>1</td>\n",
       "      <td>3</td>\n",
       "      <td>2010-01-10</td>\n",
       "      <td>9775.17</td>\n",
       "      <td>0</td>\n",
       "      <td>71.89</td>\n",
       "      <td>2.603</td>\n",
       "      <td>NaN</td>\n",
       "      <td>NaN</td>\n",
       "      <td>NaN</td>\n",
       "      <td>NaN</td>\n",
       "      <td>NaN</td>\n",
       "      <td>211.671989</td>\n",
       "      <td>7.838</td>\n",
       "      <td>2</td>\n",
       "      <td>151315</td>\n",
       "      <td>1</td>\n",
       "      <td>1</td>\n",
       "    </tr>\n",
       "    <tr>\n",
       "      <th>3</th>\n",
       "      <td>1</td>\n",
       "      <td>4</td>\n",
       "      <td>2010-01-10</td>\n",
       "      <td>34912.45</td>\n",
       "      <td>0</td>\n",
       "      <td>71.89</td>\n",
       "      <td>2.603</td>\n",
       "      <td>NaN</td>\n",
       "      <td>NaN</td>\n",
       "      <td>NaN</td>\n",
       "      <td>NaN</td>\n",
       "      <td>NaN</td>\n",
       "      <td>211.671989</td>\n",
       "      <td>7.838</td>\n",
       "      <td>2</td>\n",
       "      <td>151315</td>\n",
       "      <td>1</td>\n",
       "      <td>1</td>\n",
       "    </tr>\n",
       "    <tr>\n",
       "      <th>4</th>\n",
       "      <td>1</td>\n",
       "      <td>5</td>\n",
       "      <td>2010-01-10</td>\n",
       "      <td>23381.38</td>\n",
       "      <td>0</td>\n",
       "      <td>71.89</td>\n",
       "      <td>2.603</td>\n",
       "      <td>NaN</td>\n",
       "      <td>NaN</td>\n",
       "      <td>NaN</td>\n",
       "      <td>NaN</td>\n",
       "      <td>NaN</td>\n",
       "      <td>211.671989</td>\n",
       "      <td>7.838</td>\n",
       "      <td>2</td>\n",
       "      <td>151315</td>\n",
       "      <td>1</td>\n",
       "      <td>1</td>\n",
       "    </tr>\n",
       "  </tbody>\n",
       "</table>\n",
       "</div>"
      ],
      "text/plain": [
       "   Store  Dept        Date  Weekly_Sales  IsHoliday  Temperature  Fuel_Price  \\\n",
       "0      1     1  2010-01-10      20094.19          0        71.89       2.603   \n",
       "1      1     2  2010-01-10      45829.02          0        71.89       2.603   \n",
       "2      1     3  2010-01-10       9775.17          0        71.89       2.603   \n",
       "3      1     4  2010-01-10      34912.45          0        71.89       2.603   \n",
       "4      1     5  2010-01-10      23381.38          0        71.89       2.603   \n",
       "\n",
       "   MarkDown1  MarkDown2  MarkDown3  MarkDown4  MarkDown5         CPI  \\\n",
       "0        NaN        NaN        NaN        NaN        NaN  211.671989   \n",
       "1        NaN        NaN        NaN        NaN        NaN  211.671989   \n",
       "2        NaN        NaN        NaN        NaN        NaN  211.671989   \n",
       "3        NaN        NaN        NaN        NaN        NaN  211.671989   \n",
       "4        NaN        NaN        NaN        NaN        NaN  211.671989   \n",
       "\n",
       "   Unemployment  Type    Size  Month  Week  \n",
       "0         7.838     2  151315      1     1  \n",
       "1         7.838     2  151315      1     1  \n",
       "2         7.838     2  151315      1     1  \n",
       "3         7.838     2  151315      1     1  \n",
       "4         7.838     2  151315      1     1  "
      ]
     },
     "execution_count": 4,
     "metadata": {},
     "output_type": "execute_result"
    }
   ],
   "source": [
    "# Loading full joined data as df\n",
    "df = pd.read_csv('data post-eda.csv')\n",
    "df.head()"
   ]
  },
  {
   "cell_type": "code",
   "execution_count": 5,
   "metadata": {},
   "outputs": [],
   "source": [
    "# Dropping markdown columns\n",
    "df.drop(columns=['MarkDown1', 'MarkDown2', 'MarkDown3', 'MarkDown4', 'MarkDown5'], inplace=True)"
   ]
  },
  {
   "cell_type": "code",
   "execution_count": 6,
   "metadata": {},
   "outputs": [
    {
     "name": "stdout",
     "output_type": "stream",
     "text": [
      "<class 'pandas.core.frame.DataFrame'>\n",
      "RangeIndex: 421570 entries, 0 to 421569\n",
      "Data columns (total 13 columns):\n",
      " #   Column        Non-Null Count   Dtype  \n",
      "---  ------        --------------   -----  \n",
      " 0   Store         421570 non-null  int64  \n",
      " 1   Dept          421570 non-null  int64  \n",
      " 2   Date          421570 non-null  object \n",
      " 3   Weekly_Sales  421570 non-null  float64\n",
      " 4   IsHoliday     421570 non-null  int64  \n",
      " 5   Temperature   421570 non-null  float64\n",
      " 6   Fuel_Price    421570 non-null  float64\n",
      " 7   CPI           421570 non-null  float64\n",
      " 8   Unemployment  421570 non-null  float64\n",
      " 9   Type          421570 non-null  int64  \n",
      " 10  Size          421570 non-null  int64  \n",
      " 11  Month         421570 non-null  int64  \n",
      " 12  Week          421570 non-null  int64  \n",
      "dtypes: float64(5), int64(7), object(1)\n",
      "memory usage: 41.8+ MB\n"
     ]
    }
   ],
   "source": [
    "# Show info of remaining columns\n",
    "df.info()"
   ]
  },
  {
   "cell_type": "markdown",
   "metadata": {},
   "source": [
    "Columns that should have dummy features encoded:\n",
    "- Store\n",
    "- Dept\n",
    "- Type\n",
    "- Month\n",
    "- Week"
   ]
  },
  {
   "cell_type": "code",
   "execution_count": 7,
   "metadata": {
    "scrolled": true
   },
   "outputs": [
    {
     "data": {
      "text/html": [
       "<div>\n",
       "<style scoped>\n",
       "    .dataframe tbody tr th:only-of-type {\n",
       "        vertical-align: middle;\n",
       "    }\n",
       "\n",
       "    .dataframe tbody tr th {\n",
       "        vertical-align: top;\n",
       "    }\n",
       "\n",
       "    .dataframe thead th {\n",
       "        text-align: right;\n",
       "    }\n",
       "</style>\n",
       "<table border=\"1\" class=\"dataframe\">\n",
       "  <thead>\n",
       "    <tr style=\"text-align: right;\">\n",
       "      <th></th>\n",
       "      <th>Store</th>\n",
       "      <th>Dept</th>\n",
       "      <th>Date</th>\n",
       "      <th>Weekly_Sales</th>\n",
       "      <th>IsHoliday</th>\n",
       "      <th>Temperature</th>\n",
       "      <th>Fuel_Price</th>\n",
       "      <th>CPI</th>\n",
       "      <th>Unemployment</th>\n",
       "      <th>Type</th>\n",
       "      <th>Size</th>\n",
       "      <th>Month</th>\n",
       "      <th>Week</th>\n",
       "    </tr>\n",
       "  </thead>\n",
       "  <tbody>\n",
       "    <tr>\n",
       "      <th>0</th>\n",
       "      <td>1</td>\n",
       "      <td>1</td>\n",
       "      <td>2010-01-10</td>\n",
       "      <td>20094.19</td>\n",
       "      <td>0</td>\n",
       "      <td>71.89</td>\n",
       "      <td>2.603</td>\n",
       "      <td>211.671989</td>\n",
       "      <td>7.838</td>\n",
       "      <td>2</td>\n",
       "      <td>151315</td>\n",
       "      <td>1</td>\n",
       "      <td>1</td>\n",
       "    </tr>\n",
       "    <tr>\n",
       "      <th>1</th>\n",
       "      <td>1</td>\n",
       "      <td>2</td>\n",
       "      <td>2010-01-10</td>\n",
       "      <td>45829.02</td>\n",
       "      <td>0</td>\n",
       "      <td>71.89</td>\n",
       "      <td>2.603</td>\n",
       "      <td>211.671989</td>\n",
       "      <td>7.838</td>\n",
       "      <td>2</td>\n",
       "      <td>151315</td>\n",
       "      <td>1</td>\n",
       "      <td>1</td>\n",
       "    </tr>\n",
       "    <tr>\n",
       "      <th>2</th>\n",
       "      <td>1</td>\n",
       "      <td>3</td>\n",
       "      <td>2010-01-10</td>\n",
       "      <td>9775.17</td>\n",
       "      <td>0</td>\n",
       "      <td>71.89</td>\n",
       "      <td>2.603</td>\n",
       "      <td>211.671989</td>\n",
       "      <td>7.838</td>\n",
       "      <td>2</td>\n",
       "      <td>151315</td>\n",
       "      <td>1</td>\n",
       "      <td>1</td>\n",
       "    </tr>\n",
       "    <tr>\n",
       "      <th>3</th>\n",
       "      <td>1</td>\n",
       "      <td>4</td>\n",
       "      <td>2010-01-10</td>\n",
       "      <td>34912.45</td>\n",
       "      <td>0</td>\n",
       "      <td>71.89</td>\n",
       "      <td>2.603</td>\n",
       "      <td>211.671989</td>\n",
       "      <td>7.838</td>\n",
       "      <td>2</td>\n",
       "      <td>151315</td>\n",
       "      <td>1</td>\n",
       "      <td>1</td>\n",
       "    </tr>\n",
       "    <tr>\n",
       "      <th>4</th>\n",
       "      <td>1</td>\n",
       "      <td>5</td>\n",
       "      <td>2010-01-10</td>\n",
       "      <td>23381.38</td>\n",
       "      <td>0</td>\n",
       "      <td>71.89</td>\n",
       "      <td>2.603</td>\n",
       "      <td>211.671989</td>\n",
       "      <td>7.838</td>\n",
       "      <td>2</td>\n",
       "      <td>151315</td>\n",
       "      <td>1</td>\n",
       "      <td>1</td>\n",
       "    </tr>\n",
       "  </tbody>\n",
       "</table>\n",
       "</div>"
      ],
      "text/plain": [
       "   Store  Dept        Date  Weekly_Sales  IsHoliday  Temperature  Fuel_Price  \\\n",
       "0      1     1  2010-01-10      20094.19          0        71.89       2.603   \n",
       "1      1     2  2010-01-10      45829.02          0        71.89       2.603   \n",
       "2      1     3  2010-01-10       9775.17          0        71.89       2.603   \n",
       "3      1     4  2010-01-10      34912.45          0        71.89       2.603   \n",
       "4      1     5  2010-01-10      23381.38          0        71.89       2.603   \n",
       "\n",
       "          CPI  Unemployment  Type    Size  Month  Week  \n",
       "0  211.671989         7.838     2  151315      1     1  \n",
       "1  211.671989         7.838     2  151315      1     1  \n",
       "2  211.671989         7.838     2  151315      1     1  \n",
       "3  211.671989         7.838     2  151315      1     1  \n",
       "4  211.671989         7.838     2  151315      1     1  "
      ]
     },
     "execution_count": 7,
     "metadata": {},
     "output_type": "execute_result"
    }
   ],
   "source": [
    "df.head()"
   ]
  },
  {
   "cell_type": "markdown",
   "metadata": {},
   "source": [
    "I plan to create 3 separate models. One for each of the different store types."
   ]
  },
  {
   "cell_type": "code",
   "execution_count": 8,
   "metadata": {},
   "outputs": [],
   "source": [
    "# Create dummy features\n",
    "deptDummies = pd.get_dummies(df['Dept'], prefix='Dept', drop_first=True)\n",
    "monthDummies = pd.get_dummies(df['Month'], prefix='Month', drop_first=True)\n",
    "weekDummies = pd.get_dummies(df['Week'], prefix='Week', drop_first=True)"
   ]
  },
  {
   "cell_type": "code",
   "execution_count": 9,
   "metadata": {},
   "outputs": [],
   "source": [
    "# Join dummy features onto dataframe\n",
    "df = df.join([deptDummies, monthDummies, weekDummies])"
   ]
  },
  {
   "cell_type": "code",
   "execution_count": 10,
   "metadata": {},
   "outputs": [],
   "source": [
    "# Drop original features\n",
    "df.drop(columns=['Dept', 'Month', 'Week'], inplace=True)"
   ]
  },
  {
   "cell_type": "code",
   "execution_count": 11,
   "metadata": {},
   "outputs": [],
   "source": [
    "# Split the data by 3 store types\n",
    "df0 = df.loc[df.Type == 0]\n",
    "df1 = df.loc[df.Type == 1]\n",
    "df2 = df.loc[df.Type == 2]"
   ]
  },
  {
   "cell_type": "code",
   "execution_count": 12,
   "metadata": {},
   "outputs": [],
   "source": [
    "# Drop Type and Date features\n",
    "df0 = df0.drop(columns=['Type'])\n",
    "df1 = df1.drop(columns=['Type'])\n",
    "df2 = df2.drop(columns=['Type'])"
   ]
  },
  {
   "cell_type": "code",
   "execution_count": 13,
   "metadata": {},
   "outputs": [],
   "source": [
    "# Create Store Dummy Features\n",
    "storeDummies0 = pd.get_dummies(df0['Store'], prefix='Store', drop_first=True)\n",
    "storeDummies1 = pd.get_dummies(df1['Store'], prefix='Store', drop_first=True)\n",
    "storeDummies2 = pd.get_dummies(df2['Store'], prefix='Store', drop_first=True)"
   ]
  },
  {
   "cell_type": "code",
   "execution_count": 14,
   "metadata": {},
   "outputs": [],
   "source": [
    "# Join Store dummes to dataframes\n",
    "df0 = df0.join(storeDummies0)\n",
    "df1 = df1.join(storeDummies1)\n",
    "df2 = df2.join(storeDummies2)"
   ]
  },
  {
   "cell_type": "code",
   "execution_count": 15,
   "metadata": {},
   "outputs": [],
   "source": [
    "# Drop Store columns from dataframes\n",
    "df0 = df0.drop(columns=['Store'])\n",
    "df1 = df1.drop(columns=['Store'])\n",
    "df2 = df2.drop(columns=['Store'])"
   ]
  },
  {
   "cell_type": "code",
   "execution_count": 16,
   "metadata": {
    "scrolled": true
   },
   "outputs": [
    {
     "name": "stdout",
     "output_type": "stream",
     "text": [
      "(42597, 155)\n",
      "(163495, 166)\n",
      "(215478, 171)\n"
     ]
    }
   ],
   "source": [
    "# Print dataframe shapes\n",
    "print(df0.shape)\n",
    "print(df1.shape)\n",
    "print(df2.shape)"
   ]
  },
  {
   "cell_type": "markdown",
   "metadata": {},
   "source": [
    "### Train Test Split"
   ]
  },
  {
   "cell_type": "markdown",
   "metadata": {},
   "source": [
    "We want to perform a train test split prior to scaling the data to prevent data leakage"
   ]
  },
  {
   "cell_type": "code",
   "execution_count": 17,
   "metadata": {},
   "outputs": [],
   "source": [
    "trainmask0 = df0.Date < '2012-01-01'\n",
    "testmask0 = df0.Date >= '2012-01-01'\n",
    "trainmask1 = df1.Date < '2012-01-01'\n",
    "testmask1 = df1.Date >= '2012-01-01'\n",
    "trainmask2 = df2.Date < '2012-01-01'\n",
    "testmask2 = df2.Date >= '2012-01-01'"
   ]
  },
  {
   "cell_type": "code",
   "execution_count": 18,
   "metadata": {},
   "outputs": [],
   "source": [
    "dftrain0 = df0.loc[trainmask0]\n",
    "dftest0 = df0.loc[testmask0]\n",
    "dftrain1 = df1.loc[trainmask1]\n",
    "dftest1 = df1.loc[testmask1]\n",
    "dftrain2 = df2.loc[trainmask2]\n",
    "dftest2 = df2.loc[testmask2]"
   ]
  },
  {
   "cell_type": "code",
   "execution_count": 19,
   "metadata": {},
   "outputs": [],
   "source": [
    "X_train0 = dftrain0.drop(columns=['Date', 'Weekly_Sales'])\n",
    "y_train0 = dftrain0[['Weekly_Sales']]\n",
    "X_test0 = dftest0.drop(columns=['Date', 'Weekly_Sales'])\n",
    "y_test0 = dftest0[['Weekly_Sales']]\n",
    "X_train1 = dftrain1.drop(columns=['Date', 'Weekly_Sales'])\n",
    "y_train1 = dftrain1[['Weekly_Sales']]\n",
    "X_test1 = dftest1.drop(columns=['Date', 'Weekly_Sales'])\n",
    "y_test1 = dftest1[['Weekly_Sales']]\n",
    "X_train2 = dftrain2.drop(columns=['Date', 'Weekly_Sales'])\n",
    "y_train2 = dftrain2[['Weekly_Sales']]\n",
    "X_test2 = dftest2.drop(columns=['Date', 'Weekly_Sales'])\n",
    "y_test2 = dftest2[['Weekly_Sales']]"
   ]
  },
  {
   "cell_type": "markdown",
   "metadata": {},
   "source": [
    "### Apply Scaler Transformation to X_train"
   ]
  },
  {
   "cell_type": "code",
   "execution_count": 20,
   "metadata": {},
   "outputs": [],
   "source": [
    "# Import StandardScaler\n",
    "from sklearn.preprocessing import StandardScaler"
   ]
  },
  {
   "cell_type": "code",
   "execution_count": 21,
   "metadata": {},
   "outputs": [],
   "source": [
    "# Initialize scaler and fit_transform X_train\n",
    "scaler0 = StandardScaler()\n",
    "scaler1 = StandardScaler()\n",
    "scaler2 = StandardScaler()\n",
    "X_train0[['Temperature', 'Fuel_Price', 'CPI', 'Unemployment', 'Size']] = scaler0.fit_transform(X_train0[['Temperature', 'Fuel_Price', 'CPI', 'Unemployment', 'Size']])\n",
    "X_train1[['Temperature', 'Fuel_Price', 'CPI', 'Unemployment', 'Size']] = scaler1.fit_transform(X_train1[['Temperature', 'Fuel_Price', 'CPI', 'Unemployment', 'Size']])\n",
    "X_train2[['Temperature', 'Fuel_Price', 'CPI', 'Unemployment', 'Size']] = scaler2.fit_transform(X_train2[['Temperature', 'Fuel_Price', 'CPI', 'Unemployment', 'Size']])"
   ]
  },
  {
   "cell_type": "code",
   "execution_count": 22,
   "metadata": {},
   "outputs": [
    {
     "data": {
      "text/html": [
       "<div>\n",
       "<style scoped>\n",
       "    .dataframe tbody tr th:only-of-type {\n",
       "        vertical-align: middle;\n",
       "    }\n",
       "\n",
       "    .dataframe tbody tr th {\n",
       "        vertical-align: top;\n",
       "    }\n",
       "\n",
       "    .dataframe thead th {\n",
       "        text-align: right;\n",
       "    }\n",
       "</style>\n",
       "<table border=\"1\" class=\"dataframe\">\n",
       "  <thead>\n",
       "    <tr style=\"text-align: right;\">\n",
       "      <th></th>\n",
       "      <th>IsHoliday</th>\n",
       "      <th>Temperature</th>\n",
       "      <th>Fuel_Price</th>\n",
       "      <th>CPI</th>\n",
       "      <th>Unemployment</th>\n",
       "      <th>Size</th>\n",
       "      <th>Dept_2</th>\n",
       "      <th>Dept_3</th>\n",
       "      <th>Dept_4</th>\n",
       "      <th>Dept_5</th>\n",
       "      <th>...</th>\n",
       "      <th>Week_48</th>\n",
       "      <th>Week_49</th>\n",
       "      <th>Week_50</th>\n",
       "      <th>Week_51</th>\n",
       "      <th>Week_52</th>\n",
       "      <th>Store_37</th>\n",
       "      <th>Store_38</th>\n",
       "      <th>Store_42</th>\n",
       "      <th>Store_43</th>\n",
       "      <th>Store_44</th>\n",
       "    </tr>\n",
       "  </thead>\n",
       "  <tbody>\n",
       "    <tr>\n",
       "      <th>1993</th>\n",
       "      <td>0</td>\n",
       "      <td>0.232973</td>\n",
       "      <td>-1.410129</td>\n",
       "      <td>1.021646</td>\n",
       "      <td>-0.546596</td>\n",
       "      <td>2.039619</td>\n",
       "      <td>0</td>\n",
       "      <td>0</td>\n",
       "      <td>0</td>\n",
       "      <td>0</td>\n",
       "      <td>...</td>\n",
       "      <td>0</td>\n",
       "      <td>0</td>\n",
       "      <td>0</td>\n",
       "      <td>0</td>\n",
       "      <td>0</td>\n",
       "      <td>0</td>\n",
       "      <td>0</td>\n",
       "      <td>0</td>\n",
       "      <td>0</td>\n",
       "      <td>0</td>\n",
       "    </tr>\n",
       "    <tr>\n",
       "      <th>1994</th>\n",
       "      <td>0</td>\n",
       "      <td>0.232973</td>\n",
       "      <td>-1.410129</td>\n",
       "      <td>1.021646</td>\n",
       "      <td>-0.546596</td>\n",
       "      <td>2.039619</td>\n",
       "      <td>1</td>\n",
       "      <td>0</td>\n",
       "      <td>0</td>\n",
       "      <td>0</td>\n",
       "      <td>...</td>\n",
       "      <td>0</td>\n",
       "      <td>0</td>\n",
       "      <td>0</td>\n",
       "      <td>0</td>\n",
       "      <td>0</td>\n",
       "      <td>0</td>\n",
       "      <td>0</td>\n",
       "      <td>0</td>\n",
       "      <td>0</td>\n",
       "      <td>0</td>\n",
       "    </tr>\n",
       "    <tr>\n",
       "      <th>1995</th>\n",
       "      <td>0</td>\n",
       "      <td>0.232973</td>\n",
       "      <td>-1.410129</td>\n",
       "      <td>1.021646</td>\n",
       "      <td>-0.546596</td>\n",
       "      <td>2.039619</td>\n",
       "      <td>0</td>\n",
       "      <td>1</td>\n",
       "      <td>0</td>\n",
       "      <td>0</td>\n",
       "      <td>...</td>\n",
       "      <td>0</td>\n",
       "      <td>0</td>\n",
       "      <td>0</td>\n",
       "      <td>0</td>\n",
       "      <td>0</td>\n",
       "      <td>0</td>\n",
       "      <td>0</td>\n",
       "      <td>0</td>\n",
       "      <td>0</td>\n",
       "      <td>0</td>\n",
       "    </tr>\n",
       "    <tr>\n",
       "      <th>1996</th>\n",
       "      <td>0</td>\n",
       "      <td>0.232973</td>\n",
       "      <td>-1.410129</td>\n",
       "      <td>1.021646</td>\n",
       "      <td>-0.546596</td>\n",
       "      <td>2.039619</td>\n",
       "      <td>0</td>\n",
       "      <td>0</td>\n",
       "      <td>1</td>\n",
       "      <td>0</td>\n",
       "      <td>...</td>\n",
       "      <td>0</td>\n",
       "      <td>0</td>\n",
       "      <td>0</td>\n",
       "      <td>0</td>\n",
       "      <td>0</td>\n",
       "      <td>0</td>\n",
       "      <td>0</td>\n",
       "      <td>0</td>\n",
       "      <td>0</td>\n",
       "      <td>0</td>\n",
       "    </tr>\n",
       "    <tr>\n",
       "      <th>1997</th>\n",
       "      <td>0</td>\n",
       "      <td>0.232973</td>\n",
       "      <td>-1.410129</td>\n",
       "      <td>1.021646</td>\n",
       "      <td>-0.546596</td>\n",
       "      <td>2.039619</td>\n",
       "      <td>0</td>\n",
       "      <td>0</td>\n",
       "      <td>0</td>\n",
       "      <td>1</td>\n",
       "      <td>...</td>\n",
       "      <td>0</td>\n",
       "      <td>0</td>\n",
       "      <td>0</td>\n",
       "      <td>0</td>\n",
       "      <td>0</td>\n",
       "      <td>0</td>\n",
       "      <td>0</td>\n",
       "      <td>0</td>\n",
       "      <td>0</td>\n",
       "      <td>0</td>\n",
       "    </tr>\n",
       "  </tbody>\n",
       "</table>\n",
       "<p>5 rows × 153 columns</p>\n",
       "</div>"
      ],
      "text/plain": [
       "      IsHoliday  Temperature  Fuel_Price       CPI  Unemployment      Size  \\\n",
       "1993          0     0.232973   -1.410129  1.021646     -0.546596  2.039619   \n",
       "1994          0     0.232973   -1.410129  1.021646     -0.546596  2.039619   \n",
       "1995          0     0.232973   -1.410129  1.021646     -0.546596  2.039619   \n",
       "1996          0     0.232973   -1.410129  1.021646     -0.546596  2.039619   \n",
       "1997          0     0.232973   -1.410129  1.021646     -0.546596  2.039619   \n",
       "\n",
       "      Dept_2  Dept_3  Dept_4  Dept_5  ...  Week_48  Week_49  Week_50  Week_51  \\\n",
       "1993       0       0       0       0  ...        0        0        0        0   \n",
       "1994       1       0       0       0  ...        0        0        0        0   \n",
       "1995       0       1       0       0  ...        0        0        0        0   \n",
       "1996       0       0       1       0  ...        0        0        0        0   \n",
       "1997       0       0       0       1  ...        0        0        0        0   \n",
       "\n",
       "      Week_52  Store_37  Store_38  Store_42  Store_43  Store_44  \n",
       "1993        0         0         0         0         0         0  \n",
       "1994        0         0         0         0         0         0  \n",
       "1995        0         0         0         0         0         0  \n",
       "1996        0         0         0         0         0         0  \n",
       "1997        0         0         0         0         0         0  \n",
       "\n",
       "[5 rows x 153 columns]"
      ]
     },
     "execution_count": 22,
     "metadata": {},
     "output_type": "execute_result"
    }
   ],
   "source": [
    "# Verify that tranformation was successful\n",
    "X_train0.head()"
   ]
  },
  {
   "cell_type": "code",
   "execution_count": 23,
   "metadata": {},
   "outputs": [],
   "source": [
    "# Apply scaler transformation to test data\n",
    "X_test0[['Temperature', 'Fuel_Price', 'CPI', 'Unemployment', 'Size']] = scaler0.transform(X_test0[['Temperature', 'Fuel_Price', 'CPI', 'Unemployment', 'Size']])\n",
    "X_test1[['Temperature', 'Fuel_Price', 'CPI', 'Unemployment', 'Size']] = scaler1.transform(X_test1[['Temperature', 'Fuel_Price', 'CPI', 'Unemployment', 'Size']])\n",
    "X_test2[['Temperature', 'Fuel_Price', 'CPI', 'Unemployment', 'Size']] = scaler2.transform(X_test2[['Temperature', 'Fuel_Price', 'CPI', 'Unemployment', 'Size']])"
   ]
  },
  {
   "cell_type": "markdown",
   "metadata": {},
   "source": [
    "### Modeling\n",
    "#### I will initially focus on store Type 0 and then apply successful modeling strategy to Type 1 and Type 2 once established"
   ]
  },
  {
   "cell_type": "markdown",
   "metadata": {},
   "source": [
    "Let's try a standard linear regression to start"
   ]
  },
  {
   "cell_type": "code",
   "execution_count": 24,
   "metadata": {},
   "outputs": [],
   "source": [
    "# Import module\n",
    "from sklearn.linear_model import LinearRegression"
   ]
  },
  {
   "cell_type": "code",
   "execution_count": 25,
   "metadata": {},
   "outputs": [],
   "source": [
    "# Instantiate regressor\n",
    "reg = LinearRegression()"
   ]
  },
  {
   "cell_type": "code",
   "execution_count": 26,
   "metadata": {},
   "outputs": [
    {
     "data": {
      "text/plain": [
       "LinearRegression()"
      ]
     },
     "execution_count": 26,
     "metadata": {},
     "output_type": "execute_result"
    }
   ],
   "source": [
    "# Fit to training data\n",
    "reg.fit(X_train0, y_train0)"
   ]
  },
  {
   "cell_type": "code",
   "execution_count": 27,
   "metadata": {},
   "outputs": [],
   "source": [
    "# Predict on test data\n",
    "y_pred0 = reg.predict(X_test0)"
   ]
  },
  {
   "cell_type": "code",
   "execution_count": 28,
   "metadata": {},
   "outputs": [
    {
     "data": {
      "text/plain": [
       "0.9016022666941474"
      ]
     },
     "execution_count": 28,
     "metadata": {},
     "output_type": "execute_result"
    }
   ],
   "source": [
    "# R2 score of training data\n",
    "reg.score(X_train0, y_train0)"
   ]
  },
  {
   "cell_type": "code",
   "execution_count": 29,
   "metadata": {},
   "outputs": [],
   "source": [
    "from sklearn.metrics import mean_squared_error"
   ]
  },
  {
   "cell_type": "code",
   "execution_count": 30,
   "metadata": {},
   "outputs": [
    {
     "data": {
      "text/plain": [
       "741271290723242.8"
      ]
     },
     "execution_count": 30,
     "metadata": {},
     "output_type": "execute_result"
    }
   ],
   "source": [
    "# Root-mean-squared error score\n",
    "mean_squared_error(y_test0, y_pred0, squared=False)"
   ]
  },
  {
   "cell_type": "code",
   "execution_count": 31,
   "metadata": {},
   "outputs": [],
   "source": [
    "from sklearn.metrics import r2_score"
   ]
  },
  {
   "cell_type": "code",
   "execution_count": 32,
   "metadata": {
    "scrolled": false
   },
   "outputs": [
    {
     "data": {
      "text/plain": [
       "-2.045229849306764e+21"
      ]
     },
     "execution_count": 32,
     "metadata": {},
     "output_type": "execute_result"
    }
   ],
   "source": [
    "# R2 score of test data\n",
    "r2_score(y_test0, y_pred0)"
   ]
  },
  {
   "cell_type": "markdown",
   "metadata": {},
   "source": [
    "Standard linear regression performed very poorly"
   ]
  },
  {
   "cell_type": "markdown",
   "metadata": {},
   "source": [
    "Let's try a Random Forest Regression to see if it does any better"
   ]
  },
  {
   "cell_type": "code",
   "execution_count": 33,
   "metadata": {},
   "outputs": [],
   "source": [
    "from sklearn.ensemble import RandomForestRegressor"
   ]
  },
  {
   "cell_type": "code",
   "execution_count": 161,
   "metadata": {},
   "outputs": [],
   "source": [
    "# Elbow plot to determine appropriate max_depth to use\n",
    "\n",
    "ndepth = []\n",
    "nrmse = []\n",
    "\n",
    "for i in range(2, 31):\n",
    "    reg = RandomForestRegressor(max_depth=i, random_state=42)\n",
    "    reg.fit(X_train0, np.ravel(y_train0))\n",
    "    y_pred0 = reg.predict(X_test0)\n",
    "    nrmse.append(mean_squared_error(y_test0, y_pred0, squared=False))\n",
    "    ndepth.append(i)"
   ]
  },
  {
   "cell_type": "code",
   "execution_count": 162,
   "metadata": {},
   "outputs": [],
   "source": [
    "RFElbow = pd.DataFrame({'Max Depth':ndepth, 'Root-Mean-Squared Error':nrmse})"
   ]
  },
  {
   "cell_type": "code",
   "execution_count": 178,
   "metadata": {},
   "outputs": [
    {
     "data": {
      "image/png": "[encoded data removed]",
      "text/plain": [
       "<Figure size 1080x504 with 1 Axes>"
      ]
     },
     "metadata": {},
     "output_type": "display_data"
    }
   ],
   "source": [
    "fig = plt.figure(figsize=(15,7))\n",
    "_ = sns.lineplot(x='Max Depth', y='Root-Mean-Squared Error', data=RFElbow)\n",
    "_ = plt.title('Max Depth Elbow Plot - Store 0')"
   ]
  },
  {
   "cell_type": "markdown",
   "metadata": {},
   "source": [
    "It looks like 19 is a good max depth for Random Forest Regression"
   ]
  },
  {
   "cell_type": "code",
   "execution_count": 56,
   "metadata": {},
   "outputs": [
    {
     "name": "stdout",
     "output_type": "stream",
     "text": [
      "Random Forest - Max Depth 19 - Store Type 0\n",
      "R2 training score = 0.9868\n",
      "R2 testing score = 0.9719\n",
      "Root-mean-squared test score 2747.0\n"
     ]
    }
   ],
   "source": [
    "# Let's try max_depth = 19 on df0\n",
    "reg0 = RandomForestRegressor(max_depth=19, random_state=42)\n",
    "reg0.fit(X_train0, np.ravel(y_train0))\n",
    "y_pred0 = reg0.predict(X_test0)\n",
    "print('Random Forest - Max Depth 19 - Store Type 0')\n",
    "print('R2 training score = ' + str(round(reg0.score(X_train0, y_train0), 4)))\n",
    "print('R2 testing score = ' + str(round(r2_score(y_test0, y_pred0), 4)))\n",
    "print('Root-mean-squared test score ' + str(round(mean_squared_error(y_test0, y_pred0, squared=False))))"
   ]
  },
  {
   "cell_type": "markdown",
   "metadata": {},
   "source": [
    "Let's do the same operations for for df1"
   ]
  },
  {
   "cell_type": "code",
   "execution_count": 186,
   "metadata": {},
   "outputs": [],
   "source": [
    "# Elbow plot to determine appropriate max_depth to use\n",
    "\n",
    "ndepth = []\n",
    "nrmse = []\n",
    "\n",
    "for i in range(3, 25):\n",
    "    reg = RandomForestRegressor(max_depth=i, random_state=42)\n",
    "    reg.fit(X_train1, np.ravel(y_train1))\n",
    "    y_pred1 = reg.predict(X_test1)\n",
    "    nrmse.append(mean_squared_error(y_test1, y_pred1, squared=False))\n",
    "    ndepth.append(i)"
   ]
  },
  {
   "cell_type": "code",
   "execution_count": 187,
   "metadata": {},
   "outputs": [],
   "source": [
    "RFElbow = pd.DataFrame({'Max Depth':ndepth, 'Root-Mean-Squared Error':nrmse})"
   ]
  },
  {
   "cell_type": "code",
   "execution_count": 188,
   "metadata": {
    "scrolled": false
   },
   "outputs": [
    {
     "data": {
      "image/png": "[encoded data removed]",
      "text/plain": [
       "<Figure size 1080x504 with 1 Axes>"
      ]
     },
     "metadata": {},
     "output_type": "display_data"
    }
   ],
   "source": [
    "fig = plt.figure(figsize=(15,7))\n",
    "_ = sns.lineplot(x='Max Depth', y='Root-Mean-Squared Error', data=RFElbow)\n",
    "_ = plt.title('Max Depth Elbow Plot - Store 1')"
   ]
  },
  {
   "cell_type": "markdown",
   "metadata": {},
   "source": [
    "Hmm, doesn't seem to level out, let's try a few more iterations."
   ]
  },
  {
   "cell_type": "code",
   "execution_count": 189,
   "metadata": {},
   "outputs": [
    {
     "data": {
      "image/png": "[encoded data removed]",
      "text/plain": [
       "<Figure size 1080x504 with 1 Axes>"
      ]
     },
     "metadata": {},
     "output_type": "display_data"
    }
   ],
   "source": [
    "# Elbow plot to determine appropriate max_depth to use\n",
    "\n",
    "ndepth = []\n",
    "nrmse = []\n",
    "\n",
    "for i in range(25, 35):\n",
    "    reg = RandomForestRegressor(max_depth=i, random_state=42)\n",
    "    reg.fit(X_train1, np.ravel(y_train1))\n",
    "    y_pred1 = reg.predict(X_test1)\n",
    "    nrmse.append(mean_squared_error(y_test1, y_pred1, squared=False))\n",
    "    ndepth.append(i)\n",
    "\n",
    "RFElbow = pd.DataFrame({'Max Depth':ndepth, 'Root-Mean-Squared Error':nrmse})\n",
    "\n",
    "fig = plt.figure(figsize=(15,7))\n",
    "_ = sns.lineplot(x='Max Depth', y='Root-Mean-Squared Error', data=RFElbow)\n",
    "_ = plt.title('Max Depth Elbow Plot - Store 1')"
   ]
  },
  {
   "cell_type": "markdown",
   "metadata": {},
   "source": [
    "Seemed to level off around 30. Let's stick with max depth 19 for store 1"
   ]
  },
  {
   "cell_type": "code",
   "execution_count": 190,
   "metadata": {},
   "outputs": [
    {
     "name": "stdout",
     "output_type": "stream",
     "text": [
      "Random Forest - Max Depth 19 - Store Type 1\n",
      "R2 training score = 0.8609\n",
      "R2 testing score = 0.7577\n",
      "Root-mean-squared test score 7794.0\n"
     ]
    }
   ],
   "source": [
    "# Let's try max_depth = 19 on df1\n",
    "reg1 = RandomForestRegressor(max_depth=19, random_state=42)\n",
    "reg1.fit(X_train1, np.ravel(y_train1))\n",
    "y_pred1 = reg1.predict(X_test1)\n",
    "print('Random Forest - Max Depth 19 - Store Type 1')\n",
    "print('R2 training score = ' + str(round(reg1.score(X_train1, y_train1), 4)))\n",
    "print('R2 testing score = ' + str(round(r2_score(y_test1, y_pred1), 4)))\n",
    "print('Root-mean-squared test score ' + str(round(mean_squared_error(y_test1, y_pred1, squared=False))))"
   ]
  },
  {
   "cell_type": "code",
   "execution_count": 34,
   "metadata": {},
   "outputs": [
    {
     "name": "stdout",
     "output_type": "stream",
     "text": [
      "Random Forest - Max Depth 30 - Store Type 1\n",
      "R2 training score = 0.9302\n",
      "R2 testing score = 0.8108\n",
      "Root-mean-squared test score 6887.0\n"
     ]
    }
   ],
   "source": [
    "# Let's try max_depth = 30 on df1 just to see how much it improves\n",
    "reg1 = RandomForestRegressor(max_depth=30, random_state=42)\n",
    "reg1.fit(X_train1, np.ravel(y_train1))\n",
    "y_pred1 = reg1.predict(X_test1)\n",
    "print('Random Forest - Max Depth 30 - Store Type 1')\n",
    "print('R2 training score = ' + str(round(reg1.score(X_train1, y_train1), 4)))\n",
    "print('R2 testing score = ' + str(round(r2_score(y_test1, y_pred1), 4)))\n",
    "print('Root-mean-squared test score ' + str(round(mean_squared_error(y_test1, y_pred1, squared=False))))"
   ]
  },
  {
   "cell_type": "markdown",
   "metadata": {},
   "source": [
    "Decent improvement from 19 to 30 for Store 1"
   ]
  },
  {
   "cell_type": "markdown",
   "metadata": {},
   "source": [
    "Not as good as store 0"
   ]
  },
  {
   "cell_type": "code",
   "execution_count": 192,
   "metadata": {},
   "outputs": [
    {
     "name": "stdout",
     "output_type": "stream",
     "text": [
      "Random Forest - Max Depth 19 - Store Type 2\n",
      "R2 training score = 0.8776\n",
      "R2 testing score = 0.8609\n",
      "Root-mean-squared test score 9725.0\n"
     ]
    }
   ],
   "source": [
    "# Let's try max_depth = 19 on df2\n",
    "reg2 = RandomForestRegressor(max_depth=19, random_state=42)\n",
    "reg2.fit(X_train2, np.ravel(y_train2))\n",
    "y_pred2 = reg2.predict(X_test2)\n",
    "print('Random Forest - Max Depth 19 - Store Type 2')\n",
    "print('R2 training score = ' + str(round(reg2.score(X_train2, y_train2), 4)))\n",
    "print('R2 testing score = ' + str(round(r2_score(y_test2, y_pred2), 4)))\n",
    "print('Root-mean-squared test score ' + str(round(mean_squared_error(y_test2, y_pred2, squared=False))))"
   ]
  },
  {
   "cell_type": "code",
   "execution_count": 35,
   "metadata": {},
   "outputs": [
    {
     "name": "stdout",
     "output_type": "stream",
     "text": [
      "Random Forest - Max Depth 30 - Store Type 2\n",
      "R2 training score = 0.9416\n",
      "R2 testing score = 0.9089\n",
      "Root-mean-squared test score 7870.0\n"
     ]
    }
   ],
   "source": [
    "# Let's try max_depth = 30 on df2\n",
    "reg2 = RandomForestRegressor(max_depth=30, random_state=42)\n",
    "reg2.fit(X_train2, np.ravel(y_train2))\n",
    "y_pred2 = reg2.predict(X_test2)\n",
    "print('Random Forest - Max Depth 30 - Store Type 2')\n",
    "print('R2 training score = ' + str(round(reg2.score(X_train2, y_train2), 4)))\n",
    "print('R2 testing score = ' + str(round(r2_score(y_test2, y_pred2), 4)))\n",
    "print('Root-mean-squared test score ' + str(round(mean_squared_error(y_test2, y_pred2, squared=False))))"
   ]
  },
  {
   "cell_type": "markdown",
   "metadata": {},
   "source": [
    "Decent improvement, but not sure it's worth the cost\n",
    "\n",
    "\n"
   ]
  },
  {
   "cell_type": "markdown",
   "metadata": {},
   "source": [
    "#### Let's try picking one specific store and department and testing the model to see how it performs"
   ]
  },
  {
   "cell_type": "markdown",
   "metadata": {},
   "source": [
    "Lets test on Store 37 (Type 0), Department 2"
   ]
  },
  {
   "cell_type": "code",
   "execution_count": 53,
   "metadata": {},
   "outputs": [],
   "source": [
    "S37mask0 = X_test0.Store_37 == 1\n",
    "D2mask0 = X_test0.Dept_2 == 1"
   ]
  },
  {
   "cell_type": "code",
   "execution_count": 54,
   "metadata": {},
   "outputs": [],
   "source": [
    "S37D2X_test0 = X_test0.loc[S37mask0].loc[D2mask0]\n",
    "S37D2X_test0IDX = S37D2X_test0.index"
   ]
  },
  {
   "cell_type": "code",
   "execution_count": 55,
   "metadata": {},
   "outputs": [],
   "source": [
    "S37D2y_test0 = y_test0.loc[S37D2X_test0IDX]"
   ]
  },
  {
   "cell_type": "code",
   "execution_count": 57,
   "metadata": {},
   "outputs": [],
   "source": [
    "S37D2y_pred0 = reg0.predict(S37D2X_test0)"
   ]
  },
  {
   "cell_type": "code",
   "execution_count": 58,
   "metadata": {},
   "outputs": [
    {
     "name": "stdout",
     "output_type": "stream",
     "text": [
      "Store 37 - Department 2 - reg0 Model Score\n",
      "R2 testing score = -0.4374\n",
      "Root-mean-squared test score 979.0\n"
     ]
    }
   ],
   "source": [
    "print('Store 37 - Department 2 - reg0 Model Score')\n",
    "print('R2 testing score = ' + str(round(r2_score(S37D2y_test0, S37D2y_pred0), 4)))\n",
    "print('Root-mean-squared test score ' + str(round(mean_squared_error(S37D2y_test0, S37D2y_pred0, squared=False))))"
   ]
  },
  {
   "cell_type": "code",
   "execution_count": 62,
   "metadata": {},
   "outputs": [],
   "source": [
    "S37D2df = pd.DataFrame({'y_test':np.ravel(S37D2y_test0), 'y_pred':S37D2y_pred0})"
   ]
  },
  {
   "cell_type": "code",
   "execution_count": 69,
   "metadata": {
    "scrolled": false
   },
   "outputs": [
    {
     "data": {
      "image/png": "[encoded data removed]",
      "text/plain": [
       "<Figure size 720x720 with 1 Axes>"
      ]
     },
     "metadata": {
      "needs_background": "light"
     },
     "output_type": "display_data"
    }
   ],
   "source": [
    "_ = plt.figure(figsize=(10,10))\n",
    "_ = sns.scatterplot(x='y_test', y='y_pred', data=S37D2df)\n",
    "_ = plt.xlim(14000, 18000)\n",
    "_ = plt.ylim(14000, 18000)"
   ]
  },
  {
   "cell_type": "code",
   "execution_count": null,
   "metadata": {},
   "outputs": [],
   "source": []
  },
  {
   "cell_type": "code",
   "execution_count": 74,
   "metadata": {},
   "outputs": [
    {
     "name": "stdout",
     "output_type": "stream",
     "text": [
      "Store 5 - Department 2 - reg1 Model Score\n",
      "R2 testing score = -0.0971\n",
      "Root-mean-squared test score 795.0\n"
     ]
    },
    {
     "data": {
      "image/png": "[encoded data removed]",
      "text/plain": [
       "<Figure size 720x720 with 1 Axes>"
      ]
     },
     "metadata": {
      "needs_background": "light"
     },
     "output_type": "display_data"
    }
   ],
   "source": [
    "# Lets test on Store 5 (Type 0), Department 2\n",
    "\n",
    "S5mask1 = X_test1.Store_5 == 1\n",
    "D2mask1 = X_test1.Dept_2 == 1\n",
    "\n",
    "S5D2X_test1 = X_test1.loc[S5mask1].loc[D2mask1]\n",
    "S5D2X_test1IDX = S5D2X_test1.index\n",
    "\n",
    "S5D2y_test1 = y_test1.loc[S5D2X_test1IDX]\n",
    "\n",
    "S5D2y_pred1 = reg1.predict(S5D2X_test1)\n",
    "\n",
    "print('Store 5 - Department 2 - reg1 Model Score')\n",
    "print('R2 testing score = ' + str(round(r2_score(S5D2y_test1, S5D2y_pred1), 4)))\n",
    "print('Root-mean-squared test score ' + str(round(mean_squared_error(S5D2y_test1, S5D2y_pred1, squared=False))))\n",
    "\n",
    "S5D2df = pd.DataFrame({'y_test':np.ravel(S5D2y_test1), 'y_pred':S5D2y_pred1})\n",
    "\n",
    "_ = plt.figure(figsize=(10,10))\n",
    "_ = sns.scatterplot(x='y_test', y='y_pred', data=S5D2df)"
   ]
  },
  {
   "cell_type": "code",
   "execution_count": null,
   "metadata": {},
   "outputs": [],
   "source": []
  },
  {
   "cell_type": "markdown",
   "metadata": {},
   "source": [
    "Let's build a function to do this for each department in each store\n"
   ]
  },
  {
   "cell_type": "code",
   "execution_count": 79,
   "metadata": {},
   "outputs": [],
   "source": [
    "def storedepttest(store, dept, reg, X_test, y_test):\n",
    "    smask = X_test['Store_' + str(store)] == 1\n",
    "    dmask = X_test['Dept_' + str(dept)] == 1\n",
    "\n",
    "    SDX_test = X_test.loc[smask].loc[dmask]\n",
    "    SDX_testIDX = SDX_test.index\n",
    "\n",
    "    SDy_test = y_test.loc[SDX_testIDX]\n",
    "\n",
    "    SDy_pred = reg.predict(SDX_test)\n",
    "\n",
    "    print('Store ' + str(store) + ' - Department ' + str(dept) + ' - Model Score')\n",
    "    print('R2 testing score = ' + str(round(r2_score(SDy_test, SDy_pred), 4)))\n",
    "    print('Root-mean-squared test score ' + str(round(mean_squared_error(SDy_test, SDy_pred, squared=False))))\n",
    "\n",
    "    SDdf = pd.DataFrame({'y_test':np.ravel(SDy_test), 'y_pred':SDy_pred})\n",
    "\n",
    "    _ = plt.figure(figsize=(10,10))\n",
    "    _ = sns.scatterplot(x='y_test', y='y_pred', data=SDdf)"
   ]
  },
  {
   "cell_type": "code",
   "execution_count": 99,
   "metadata": {},
   "outputs": [],
   "source": [
    "type0Stores = [col for col in X_test0.columns if 'Store' in col]\n",
    "type0Depts = [col for col in X_test0.columns if 'Dept' in col]\n",
    "type1Stores = [col for col in X_test1.columns if 'Store' in col]\n",
    "type1Depts = [col for col in X_test1.columns if 'Dept' in col]\n",
    "type2Stores = [col for col in X_test2.columns if 'Store' in col]\n",
    "type2Depts = [col for col in X_test2.columns if 'Dept' in col]"
   ]
  },
  {
   "cell_type": "code",
   "execution_count": 116,
   "metadata": {},
   "outputs": [
    {
     "data": {
      "text/plain": [
       "'5'"
      ]
     },
     "execution_count": 116,
     "metadata": {},
     "output_type": "execute_result"
    }
   ],
   "source": [
    "type1Stores[0].split('_')[1]"
   ]
  },
  {
   "cell_type": "code",
   "execution_count": 115,
   "metadata": {},
   "outputs": [
    {
     "name": "stdout",
     "output_type": "stream",
     "text": [
      "Store 17 - Department 2 - Model Score\n",
      "R2 testing score = -1.6668\n",
      "Root-mean-squared test score 11690.0\n"
     ]
    },
    {
     "data": {
      "image/png": "[encoded data removed]",
      "text/plain": [
       "<Figure size 720x720 with 1 Axes>"
      ]
     },
     "metadata": {
      "needs_background": "light"
     },
     "output_type": "display_data"
    }
   ],
   "source": [
    "storedepttest(17, 2, reg1, X_test1, y_test1)"
   ]
  },
  {
   "cell_type": "code",
   "execution_count": null,
   "metadata": {},
   "outputs": [],
   "source": []
  },
  {
   "cell_type": "code",
   "execution_count": null,
   "metadata": {},
   "outputs": [],
   "source": []
  },
  {
   "cell_type": "markdown",
   "metadata": {},
   "source": [
    "*I'm not happy with how this performs on specific stores and departments. I should create different models fit by store Type.*"
   ]
  }
 ],
 "metadata": {
  "kernelspec": {
   "display_name": "Python 3",
   "language": "python",
   "name": "python3"
  },
  "language_info": {
   "codemirror_mode": {
    "name": "ipython",
    "version": 3
   },
   "file_extension": ".py",
   "mimetype": "text/x-python",
   "name": "python",
   "nbconvert_exporter": "python",
   "pygments_lexer": "ipython3",
   "version": "3.7.7"
  }
 },
 "nbformat": 4,
 "nbformat_minor": 4
}
