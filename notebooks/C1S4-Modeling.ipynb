{
 "cells": [
  {
   "cell_type": "code",
   "execution_count": 2,
   "metadata": {},
   "outputs": [],
   "source": [
    "# Import standard packages\n",
    "import pandas as pd\n",
    "import numpy as np\n",
    "import matplotlib.pyplot as plt\n",
    "%matplotlib inline\n",
    "import seaborn as sns\n",
    "sns.set()\n",
    "import os"
   ]
  },
  {
   "cell_type": "code",
   "execution_count": 3,
   "metadata": {},
   "outputs": [],
   "source": [
    "# Turn off setting with copy warning\n",
    "pd.set_option('mode.chained_assignment', None)"
   ]
  },
  {
   "cell_type": "code",
   "execution_count": 4,
   "metadata": {},
   "outputs": [],
   "source": [
    "from notify_run import Notify"
   ]
  },
  {
   "cell_type": "code",
   "execution_count": 5,
   "metadata": {},
   "outputs": [],
   "source": [
    "notify = Notify()"
   ]
  },
  {
   "cell_type": "code",
   "execution_count": 6,
   "metadata": {},
   "outputs": [
    {
     "data": {
      "text/html": [
       "<p>Endpoint: <samp>https://notify.run/8aBXwpmT8gF9WK4S</samp></p>\n",
       "<p>To subscribe, open: <a href=\"https://notify.run/c/8aBXwpmT8gF9WK4S\">https://notify.run/c/8aBXwpmT8gF9WK4S</a></p>\n",
       "<p>Or scan this QR code:</p>\n",
       "<?xml version=\"1.0\" encoding=\"UTF-8\"?>\n",
       "<svg xmlns=\"http://www.w3.org/2000/svg\" height=\"222\" width=\"222\" class=\"pyqrcode\"><path transform=\"scale(6)\" stroke=\"#000\" class=\"pyqrline\" d=\"M4 4.5h7m1 0h2m4 0h3m1 0h3m1 0h7m-29 1h1m5 0h1m6 0h2m2 0h1m2 0h1m1 0h1m5 0h1m-29 1h1m1 0h3m1 0h1m1 0h1m2 0h4m3 0h2m2 0h1m1 0h3m1 0h1m-29 1h1m1 0h3m1 0h1m1 0h2m1 0h1m3 0h2m2 0h2m1 0h1m1 0h3m1 0h1m-29 1h1m1 0h3m1 0h1m1 0h4m1 0h3m1 0h1m1 0h2m1 0h1m1 0h3m1 0h1m-29 1h1m5 0h1m2 0h1m2 0h1m1 0h1m2 0h1m1 0h2m1 0h1m5 0h1m-29 1h7m1 0h1m1 0h1m1 0h1m1 0h1m1 0h1m1 0h1m1 0h1m1 0h7m-20 1h1m1 0h1m1 0h3m1 0h1m1 0h1m-20 1h4m2 0h1m1 0h1m4 0h4m1 0h1m2 0h1m2 0h3m1 0h1m-29 1h1m1 0h1m4 0h1m1 0h1m5 0h3m1 0h1m1 0h4m3 0h1m-27 1h1m2 0h2m7 0h1m1 0h2m3 0h1m4 0h2m-28 1h1m3 0h1m2 0h2m2 0h5m8 0h1m3 0h1m-27 1h1m1 0h3m1 0h2m1 0h1m3 0h3m7 0h2m-27 1h5m2 0h1m2 0h2m1 0h1m2 0h4m1 0h2m3 0h3m-27 1h2m2 0h1m1 0h2m2 0h1m1 0h1m2 0h4m5 0h3m-29 1h3m2 0h1m1 0h2m3 0h2m1 0h1m3 0h2m2 0h2m2 0h1m-28 1h1m1 0h6m1 0h3m3 0h2m1 0h3m3 0h2m1 0h1m-26 1h2m3 0h2m3 0h2m1 0h2m1 0h1m4 0h1m1 0h3m-28 1h1m1 0h3m1 0h2m1 0h4m2 0h1m2 0h1m3 0h2m2 0h1m-24 1h3m1 0h4m1 0h1m2 0h3m1 0h1m2 0h1m1 0h1m1 0h1m-26 1h3m1 0h2m3 0h4m2 0h3m1 0h7m-19 1h2m2 0h7m1 0h1m3 0h5m-29 1h7m4 0h3m2 0h5m1 0h1m1 0h2m1 0h1m-28 1h1m5 0h1m2 0h1m5 0h1m2 0h1m1 0h1m3 0h2m1 0h2m-29 1h1m1 0h3m1 0h1m2 0h1m2 0h1m1 0h2m4 0h5m1 0h1m-27 1h1m1 0h3m1 0h1m1 0h2m1 0h2m1 0h8m1 0h3m2 0h1m-29 1h1m1 0h3m1 0h1m1 0h2m1 0h1m1 0h1m2 0h1m1 0h1m2 0h1m1 0h1m2 0h1m1 0h1m-29 1h1m5 0h1m1 0h1m1 0h2m2 0h2m2 0h4m3 0h1m1 0h1m-28 1h7m1 0h3m1 0h1m1 0h3m2 0h2m1 0h1m1 0h1m2 0h1\"/></svg>\n",
       "\n",
       "        "
      ],
      "text/plain": [
       "Endpoint: https://notify.run/8aBXwpmT8gF9WK4S\n",
       "To subscribe, open: https://notify.run/c/8aBXwpmT8gF9WK4S\n",
       "Or scan this QR code:\n",
       "\n",
       "\u001b[7m  \u001b[0m\u001b[7m  \u001b[0m\u001b[7m  \u001b[0m\u001b[7m  \u001b[0m\u001b[7m  \u001b[0m\u001b[7m  \u001b[0m\u001b[7m  \u001b[0m\u001b[7m  \u001b[0m\u001b[7m  \u001b[0m\u001b[7m  \u001b[0m\u001b[7m  \u001b[0m\u001b[7m  \u001b[0m\u001b[7m  \u001b[0m\u001b[7m  \u001b[0m\u001b[7m  \u001b[0m\u001b[7m  \u001b[0m\u001b[7m  \u001b[0m\u001b[7m  \u001b[0m\u001b[7m  \u001b[0m\u001b[7m  \u001b[0m\u001b[7m  \u001b[0m\u001b[7m  \u001b[0m\u001b[7m  \u001b[0m\u001b[7m  \u001b[0m\u001b[7m  \u001b[0m\u001b[7m  \u001b[0m\u001b[7m  \u001b[0m\u001b[7m  \u001b[0m\u001b[7m  \u001b[0m\u001b[7m  \u001b[0m\u001b[7m  \u001b[0m\n",
       "\u001b[7m  \u001b[0m\u001b[49m  \u001b[0m\u001b[49m  \u001b[0m\u001b[49m  \u001b[0m\u001b[49m  \u001b[0m\u001b[49m  \u001b[0m\u001b[49m  \u001b[0m\u001b[49m  \u001b[0m\u001b[7m  \u001b[0m\u001b[49m  \u001b[0m\u001b[49m  \u001b[0m\u001b[7m  \u001b[0m\u001b[7m  \u001b[0m\u001b[7m  \u001b[0m\u001b[7m  \u001b[0m\u001b[49m  \u001b[0m\u001b[49m  \u001b[0m\u001b[49m  \u001b[0m\u001b[7m  \u001b[0m\u001b[49m  \u001b[0m\u001b[49m  \u001b[0m\u001b[49m  \u001b[0m\u001b[7m  \u001b[0m\u001b[49m  \u001b[0m\u001b[49m  \u001b[0m\u001b[49m  \u001b[0m\u001b[49m  \u001b[0m\u001b[49m  \u001b[0m\u001b[49m  \u001b[0m\u001b[49m  \u001b[0m\u001b[7m  \u001b[0m\n",
       "\u001b[7m  \u001b[0m\u001b[49m  \u001b[0m\u001b[7m  \u001b[0m\u001b[7m  \u001b[0m\u001b[7m  \u001b[0m\u001b[7m  \u001b[0m\u001b[7m  \u001b[0m\u001b[49m  \u001b[0m\u001b[7m  \u001b[0m\u001b[7m  \u001b[0m\u001b[7m  \u001b[0m\u001b[7m  \u001b[0m\u001b[7m  \u001b[0m\u001b[7m  \u001b[0m\u001b[49m  \u001b[0m\u001b[49m  \u001b[0m\u001b[7m  \u001b[0m\u001b[7m  \u001b[0m\u001b[49m  \u001b[0m\u001b[7m  \u001b[0m\u001b[7m  \u001b[0m\u001b[49m  \u001b[0m\u001b[7m  \u001b[0m\u001b[49m  \u001b[0m\u001b[7m  \u001b[0m\u001b[7m  \u001b[0m\u001b[7m  \u001b[0m\u001b[7m  \u001b[0m\u001b[7m  \u001b[0m\u001b[49m  \u001b[0m\u001b[7m  \u001b[0m\n",
       "\u001b[7m  \u001b[0m\u001b[49m  \u001b[0m\u001b[7m  \u001b[0m\u001b[49m  \u001b[0m\u001b[49m  \u001b[0m\u001b[49m  \u001b[0m\u001b[7m  \u001b[0m\u001b[49m  \u001b[0m\u001b[7m  \u001b[0m\u001b[49m  \u001b[0m\u001b[7m  \u001b[0m\u001b[7m  \u001b[0m\u001b[49m  \u001b[0m\u001b[49m  \u001b[0m\u001b[49m  \u001b[0m\u001b[49m  \u001b[0m\u001b[7m  \u001b[0m\u001b[7m  \u001b[0m\u001b[7m  \u001b[0m\u001b[49m  \u001b[0m\u001b[49m  \u001b[0m\u001b[7m  \u001b[0m\u001b[7m  \u001b[0m\u001b[49m  \u001b[0m\u001b[7m  \u001b[0m\u001b[49m  \u001b[0m\u001b[49m  \u001b[0m\u001b[49m  \u001b[0m\u001b[7m  \u001b[0m\u001b[49m  \u001b[0m\u001b[7m  \u001b[0m\n",
       "\u001b[7m  \u001b[0m\u001b[49m  \u001b[0m\u001b[7m  \u001b[0m\u001b[49m  \u001b[0m\u001b[49m  \u001b[0m\u001b[49m  \u001b[0m\u001b[7m  \u001b[0m\u001b[49m  \u001b[0m\u001b[7m  \u001b[0m\u001b[49m  \u001b[0m\u001b[49m  \u001b[0m\u001b[7m  \u001b[0m\u001b[49m  \u001b[0m\u001b[7m  \u001b[0m\u001b[7m  \u001b[0m\u001b[7m  \u001b[0m\u001b[49m  \u001b[0m\u001b[49m  \u001b[0m\u001b[7m  \u001b[0m\u001b[7m  \u001b[0m\u001b[49m  \u001b[0m\u001b[49m  \u001b[0m\u001b[7m  \u001b[0m\u001b[49m  \u001b[0m\u001b[7m  \u001b[0m\u001b[49m  \u001b[0m\u001b[49m  \u001b[0m\u001b[49m  \u001b[0m\u001b[7m  \u001b[0m\u001b[49m  \u001b[0m\u001b[7m  \u001b[0m\n",
       "\u001b[7m  \u001b[0m\u001b[49m  \u001b[0m\u001b[7m  \u001b[0m\u001b[49m  \u001b[0m\u001b[49m  \u001b[0m\u001b[49m  \u001b[0m\u001b[7m  \u001b[0m\u001b[49m  \u001b[0m\u001b[7m  \u001b[0m\u001b[49m  \u001b[0m\u001b[49m  \u001b[0m\u001b[49m  \u001b[0m\u001b[49m  \u001b[0m\u001b[7m  \u001b[0m\u001b[49m  \u001b[0m\u001b[49m  \u001b[0m\u001b[49m  \u001b[0m\u001b[7m  \u001b[0m\u001b[49m  \u001b[0m\u001b[7m  \u001b[0m\u001b[49m  \u001b[0m\u001b[49m  \u001b[0m\u001b[7m  \u001b[0m\u001b[49m  \u001b[0m\u001b[7m  \u001b[0m\u001b[49m  \u001b[0m\u001b[49m  \u001b[0m\u001b[49m  \u001b[0m\u001b[7m  \u001b[0m\u001b[49m  \u001b[0m\u001b[7m  \u001b[0m\n",
       "\u001b[7m  \u001b[0m\u001b[49m  \u001b[0m\u001b[7m  \u001b[0m\u001b[7m  \u001b[0m\u001b[7m  \u001b[0m\u001b[7m  \u001b[0m\u001b[7m  \u001b[0m\u001b[49m  \u001b[0m\u001b[7m  \u001b[0m\u001b[7m  \u001b[0m\u001b[49m  \u001b[0m\u001b[7m  \u001b[0m\u001b[7m  \u001b[0m\u001b[49m  \u001b[0m\u001b[7m  \u001b[0m\u001b[49m  \u001b[0m\u001b[7m  \u001b[0m\u001b[7m  \u001b[0m\u001b[49m  \u001b[0m\u001b[7m  \u001b[0m\u001b[49m  \u001b[0m\u001b[49m  \u001b[0m\u001b[7m  \u001b[0m\u001b[49m  \u001b[0m\u001b[7m  \u001b[0m\u001b[7m  \u001b[0m\u001b[7m  \u001b[0m\u001b[7m  \u001b[0m\u001b[7m  \u001b[0m\u001b[49m  \u001b[0m\u001b[7m  \u001b[0m\n",
       "\u001b[7m  \u001b[0m\u001b[49m  \u001b[0m\u001b[49m  \u001b[0m\u001b[49m  \u001b[0m\u001b[49m  \u001b[0m\u001b[49m  \u001b[0m\u001b[49m  \u001b[0m\u001b[49m  \u001b[0m\u001b[7m  \u001b[0m\u001b[49m  \u001b[0m\u001b[7m  \u001b[0m\u001b[49m  \u001b[0m\u001b[7m  \u001b[0m\u001b[49m  \u001b[0m\u001b[7m  \u001b[0m\u001b[49m  \u001b[0m\u001b[7m  \u001b[0m\u001b[49m  \u001b[0m\u001b[7m  \u001b[0m\u001b[49m  \u001b[0m\u001b[7m  \u001b[0m\u001b[49m  \u001b[0m\u001b[7m  \u001b[0m\u001b[49m  \u001b[0m\u001b[49m  \u001b[0m\u001b[49m  \u001b[0m\u001b[49m  \u001b[0m\u001b[49m  \u001b[0m\u001b[49m  \u001b[0m\u001b[49m  \u001b[0m\u001b[7m  \u001b[0m\n",
       "\u001b[7m  \u001b[0m\u001b[7m  \u001b[0m\u001b[7m  \u001b[0m\u001b[7m  \u001b[0m\u001b[7m  \u001b[0m\u001b[7m  \u001b[0m\u001b[7m  \u001b[0m\u001b[7m  \u001b[0m\u001b[7m  \u001b[0m\u001b[7m  \u001b[0m\u001b[49m  \u001b[0m\u001b[7m  \u001b[0m\u001b[49m  \u001b[0m\u001b[7m  \u001b[0m\u001b[49m  \u001b[0m\u001b[49m  \u001b[0m\u001b[49m  \u001b[0m\u001b[7m  \u001b[0m\u001b[49m  \u001b[0m\u001b[7m  \u001b[0m\u001b[49m  \u001b[0m\u001b[7m  \u001b[0m\u001b[7m  \u001b[0m\u001b[7m  \u001b[0m\u001b[7m  \u001b[0m\u001b[7m  \u001b[0m\u001b[7m  \u001b[0m\u001b[7m  \u001b[0m\u001b[7m  \u001b[0m\u001b[7m  \u001b[0m\u001b[7m  \u001b[0m\n",
       "\u001b[7m  \u001b[0m\u001b[49m  \u001b[0m\u001b[49m  \u001b[0m\u001b[49m  \u001b[0m\u001b[49m  \u001b[0m\u001b[7m  \u001b[0m\u001b[7m  \u001b[0m\u001b[49m  \u001b[0m\u001b[7m  \u001b[0m\u001b[49m  \u001b[0m\u001b[7m  \u001b[0m\u001b[7m  \u001b[0m\u001b[7m  \u001b[0m\u001b[7m  \u001b[0m\u001b[49m  \u001b[0m\u001b[49m  \u001b[0m\u001b[49m  \u001b[0m\u001b[49m  \u001b[0m\u001b[7m  \u001b[0m\u001b[49m  \u001b[0m\u001b[7m  \u001b[0m\u001b[7m  \u001b[0m\u001b[49m  \u001b[0m\u001b[7m  \u001b[0m\u001b[7m  \u001b[0m\u001b[49m  \u001b[0m\u001b[49m  \u001b[0m\u001b[49m  \u001b[0m\u001b[7m  \u001b[0m\u001b[49m  \u001b[0m\u001b[7m  \u001b[0m\n",
       "\u001b[7m  \u001b[0m\u001b[49m  \u001b[0m\u001b[7m  \u001b[0m\u001b[49m  \u001b[0m\u001b[7m  \u001b[0m\u001b[7m  \u001b[0m\u001b[7m  \u001b[0m\u001b[7m  \u001b[0m\u001b[49m  \u001b[0m\u001b[7m  \u001b[0m\u001b[49m  \u001b[0m\u001b[7m  \u001b[0m\u001b[7m  \u001b[0m\u001b[7m  \u001b[0m\u001b[7m  \u001b[0m\u001b[7m  \u001b[0m\u001b[49m  \u001b[0m\u001b[49m  \u001b[0m\u001b[49m  \u001b[0m\u001b[7m  \u001b[0m\u001b[49m  \u001b[0m\u001b[7m  \u001b[0m\u001b[49m  \u001b[0m\u001b[49m  \u001b[0m\u001b[49m  \u001b[0m\u001b[49m  \u001b[0m\u001b[7m  \u001b[0m\u001b[7m  \u001b[0m\u001b[7m  \u001b[0m\u001b[49m  \u001b[0m\u001b[7m  \u001b[0m\n",
       "\u001b[7m  \u001b[0m\u001b[7m  \u001b[0m\u001b[7m  \u001b[0m\u001b[49m  \u001b[0m\u001b[7m  \u001b[0m\u001b[7m  \u001b[0m\u001b[49m  \u001b[0m\u001b[49m  \u001b[0m\u001b[7m  \u001b[0m\u001b[7m  \u001b[0m\u001b[7m  \u001b[0m\u001b[7m  \u001b[0m\u001b[7m  \u001b[0m\u001b[7m  \u001b[0m\u001b[7m  \u001b[0m\u001b[49m  \u001b[0m\u001b[7m  \u001b[0m\u001b[49m  \u001b[0m\u001b[49m  \u001b[0m\u001b[7m  \u001b[0m\u001b[7m  \u001b[0m\u001b[7m  \u001b[0m\u001b[49m  \u001b[0m\u001b[7m  \u001b[0m\u001b[7m  \u001b[0m\u001b[7m  \u001b[0m\u001b[7m  \u001b[0m\u001b[49m  \u001b[0m\u001b[49m  \u001b[0m\u001b[7m  \u001b[0m\u001b[7m  \u001b[0m\n",
       "\u001b[7m  \u001b[0m\u001b[49m  \u001b[0m\u001b[7m  \u001b[0m\u001b[7m  \u001b[0m\u001b[7m  \u001b[0m\u001b[49m  \u001b[0m\u001b[7m  \u001b[0m\u001b[7m  \u001b[0m\u001b[49m  \u001b[0m\u001b[49m  \u001b[0m\u001b[7m  \u001b[0m\u001b[7m  \u001b[0m\u001b[49m  \u001b[0m\u001b[49m  \u001b[0m\u001b[49m  \u001b[0m\u001b[49m  \u001b[0m\u001b[49m  \u001b[0m\u001b[7m  \u001b[0m\u001b[7m  \u001b[0m\u001b[7m  \u001b[0m\u001b[7m  \u001b[0m\u001b[7m  \u001b[0m\u001b[7m  \u001b[0m\u001b[7m  \u001b[0m\u001b[7m  \u001b[0m\u001b[49m  \u001b[0m\u001b[7m  \u001b[0m\u001b[7m  \u001b[0m\u001b[7m  \u001b[0m\u001b[49m  \u001b[0m\u001b[7m  \u001b[0m\n",
       "\u001b[7m  \u001b[0m\u001b[7m  \u001b[0m\u001b[7m  \u001b[0m\u001b[49m  \u001b[0m\u001b[7m  \u001b[0m\u001b[49m  \u001b[0m\u001b[49m  \u001b[0m\u001b[49m  \u001b[0m\u001b[7m  \u001b[0m\u001b[49m  \u001b[0m\u001b[49m  \u001b[0m\u001b[7m  \u001b[0m\u001b[49m  \u001b[0m\u001b[7m  \u001b[0m\u001b[7m  \u001b[0m\u001b[7m  \u001b[0m\u001b[49m  \u001b[0m\u001b[49m  \u001b[0m\u001b[49m  \u001b[0m\u001b[7m  \u001b[0m\u001b[7m  \u001b[0m\u001b[7m  \u001b[0m\u001b[7m  \u001b[0m\u001b[7m  \u001b[0m\u001b[7m  \u001b[0m\u001b[7m  \u001b[0m\u001b[49m  \u001b[0m\u001b[49m  \u001b[0m\u001b[7m  \u001b[0m\u001b[7m  \u001b[0m\u001b[7m  \u001b[0m\n",
       "\u001b[7m  \u001b[0m\u001b[49m  \u001b[0m\u001b[49m  \u001b[0m\u001b[49m  \u001b[0m\u001b[49m  \u001b[0m\u001b[49m  \u001b[0m\u001b[7m  \u001b[0m\u001b[7m  \u001b[0m\u001b[49m  \u001b[0m\u001b[7m  \u001b[0m\u001b[7m  \u001b[0m\u001b[49m  \u001b[0m\u001b[49m  \u001b[0m\u001b[7m  \u001b[0m\u001b[49m  \u001b[0m\u001b[7m  \u001b[0m\u001b[7m  \u001b[0m\u001b[49m  \u001b[0m\u001b[49m  \u001b[0m\u001b[49m  \u001b[0m\u001b[49m  \u001b[0m\u001b[7m  \u001b[0m\u001b[49m  \u001b[0m\u001b[49m  \u001b[0m\u001b[7m  \u001b[0m\u001b[7m  \u001b[0m\u001b[7m  \u001b[0m\u001b[49m  \u001b[0m\u001b[49m  \u001b[0m\u001b[49m  \u001b[0m\u001b[7m  \u001b[0m\n",
       "\u001b[7m  \u001b[0m\u001b[7m  \u001b[0m\u001b[7m  \u001b[0m\u001b[49m  \u001b[0m\u001b[49m  \u001b[0m\u001b[7m  \u001b[0m\u001b[7m  \u001b[0m\u001b[49m  \u001b[0m\u001b[7m  \u001b[0m\u001b[49m  \u001b[0m\u001b[49m  \u001b[0m\u001b[7m  \u001b[0m\u001b[7m  \u001b[0m\u001b[49m  \u001b[0m\u001b[7m  \u001b[0m\u001b[49m  \u001b[0m\u001b[7m  \u001b[0m\u001b[7m  \u001b[0m\u001b[49m  \u001b[0m\u001b[49m  \u001b[0m\u001b[49m  \u001b[0m\u001b[49m  \u001b[0m\u001b[7m  \u001b[0m\u001b[7m  \u001b[0m\u001b[7m  \u001b[0m\u001b[7m  \u001b[0m\u001b[7m  \u001b[0m\u001b[49m  \u001b[0m\u001b[49m  \u001b[0m\u001b[49m  \u001b[0m\u001b[7m  \u001b[0m\n",
       "\u001b[7m  \u001b[0m\u001b[49m  \u001b[0m\u001b[49m  \u001b[0m\u001b[49m  \u001b[0m\u001b[7m  \u001b[0m\u001b[7m  \u001b[0m\u001b[49m  \u001b[0m\u001b[7m  \u001b[0m\u001b[49m  \u001b[0m\u001b[49m  \u001b[0m\u001b[7m  \u001b[0m\u001b[7m  \u001b[0m\u001b[7m  \u001b[0m\u001b[49m  \u001b[0m\u001b[49m  \u001b[0m\u001b[7m  \u001b[0m\u001b[49m  \u001b[0m\u001b[7m  \u001b[0m\u001b[7m  \u001b[0m\u001b[7m  \u001b[0m\u001b[49m  \u001b[0m\u001b[49m  \u001b[0m\u001b[7m  \u001b[0m\u001b[7m  \u001b[0m\u001b[49m  \u001b[0m\u001b[49m  \u001b[0m\u001b[7m  \u001b[0m\u001b[7m  \u001b[0m\u001b[49m  \u001b[0m\u001b[7m  \u001b[0m\u001b[7m  \u001b[0m\n",
       "\u001b[7m  \u001b[0m\u001b[49m  \u001b[0m\u001b[7m  \u001b[0m\u001b[49m  \u001b[0m\u001b[49m  \u001b[0m\u001b[49m  \u001b[0m\u001b[49m  \u001b[0m\u001b[49m  \u001b[0m\u001b[49m  \u001b[0m\u001b[7m  \u001b[0m\u001b[49m  \u001b[0m\u001b[49m  \u001b[0m\u001b[49m  \u001b[0m\u001b[7m  \u001b[0m\u001b[7m  \u001b[0m\u001b[7m  \u001b[0m\u001b[49m  \u001b[0m\u001b[49m  \u001b[0m\u001b[7m  \u001b[0m\u001b[49m  \u001b[0m\u001b[49m  \u001b[0m\u001b[49m  \u001b[0m\u001b[7m  \u001b[0m\u001b[7m  \u001b[0m\u001b[7m  \u001b[0m\u001b[49m  \u001b[0m\u001b[49m  \u001b[0m\u001b[7m  \u001b[0m\u001b[49m  \u001b[0m\u001b[7m  \u001b[0m\u001b[7m  \u001b[0m\n",
       "\u001b[7m  \u001b[0m\u001b[7m  \u001b[0m\u001b[7m  \u001b[0m\u001b[49m  \u001b[0m\u001b[49m  \u001b[0m\u001b[7m  \u001b[0m\u001b[7m  \u001b[0m\u001b[7m  \u001b[0m\u001b[49m  \u001b[0m\u001b[49m  \u001b[0m\u001b[7m  \u001b[0m\u001b[7m  \u001b[0m\u001b[7m  \u001b[0m\u001b[49m  \u001b[0m\u001b[49m  \u001b[0m\u001b[7m  \u001b[0m\u001b[49m  \u001b[0m\u001b[49m  \u001b[0m\u001b[7m  \u001b[0m\u001b[49m  \u001b[0m\u001b[7m  \u001b[0m\u001b[7m  \u001b[0m\u001b[7m  \u001b[0m\u001b[7m  \u001b[0m\u001b[49m  \u001b[0m\u001b[7m  \u001b[0m\u001b[49m  \u001b[0m\u001b[49m  \u001b[0m\u001b[49m  \u001b[0m\u001b[7m  \u001b[0m\u001b[7m  \u001b[0m\n",
       "\u001b[7m  \u001b[0m\u001b[49m  \u001b[0m\u001b[7m  \u001b[0m\u001b[49m  \u001b[0m\u001b[49m  \u001b[0m\u001b[49m  \u001b[0m\u001b[7m  \u001b[0m\u001b[49m  \u001b[0m\u001b[49m  \u001b[0m\u001b[7m  \u001b[0m\u001b[49m  \u001b[0m\u001b[49m  \u001b[0m\u001b[49m  \u001b[0m\u001b[49m  \u001b[0m\u001b[7m  \u001b[0m\u001b[7m  \u001b[0m\u001b[49m  \u001b[0m\u001b[7m  \u001b[0m\u001b[7m  \u001b[0m\u001b[49m  \u001b[0m\u001b[7m  \u001b[0m\u001b[7m  \u001b[0m\u001b[7m  \u001b[0m\u001b[49m  \u001b[0m\u001b[49m  \u001b[0m\u001b[7m  \u001b[0m\u001b[7m  \u001b[0m\u001b[49m  \u001b[0m\u001b[7m  \u001b[0m\u001b[7m  \u001b[0m\u001b[7m  \u001b[0m\n",
       "\u001b[7m  \u001b[0m\u001b[7m  \u001b[0m\u001b[7m  \u001b[0m\u001b[7m  \u001b[0m\u001b[49m  \u001b[0m\u001b[49m  \u001b[0m\u001b[49m  \u001b[0m\u001b[7m  \u001b[0m\u001b[49m  \u001b[0m\u001b[49m  \u001b[0m\u001b[49m  \u001b[0m\u001b[49m  \u001b[0m\u001b[7m  \u001b[0m\u001b[49m  \u001b[0m\u001b[7m  \u001b[0m\u001b[7m  \u001b[0m\u001b[49m  \u001b[0m\u001b[49m  \u001b[0m\u001b[49m  \u001b[0m\u001b[7m  \u001b[0m\u001b[49m  \u001b[0m\u001b[7m  \u001b[0m\u001b[7m  \u001b[0m\u001b[49m  \u001b[0m\u001b[7m  \u001b[0m\u001b[49m  \u001b[0m\u001b[7m  \u001b[0m\u001b[49m  \u001b[0m\u001b[7m  \u001b[0m\u001b[7m  \u001b[0m\u001b[7m  \u001b[0m\n",
       "\u001b[7m  \u001b[0m\u001b[7m  \u001b[0m\u001b[49m  \u001b[0m\u001b[49m  \u001b[0m\u001b[49m  \u001b[0m\u001b[7m  \u001b[0m\u001b[49m  \u001b[0m\u001b[49m  \u001b[0m\u001b[7m  \u001b[0m\u001b[7m  \u001b[0m\u001b[7m  \u001b[0m\u001b[49m  \u001b[0m\u001b[49m  \u001b[0m\u001b[49m  \u001b[0m\u001b[49m  \u001b[0m\u001b[7m  \u001b[0m\u001b[7m  \u001b[0m\u001b[49m  \u001b[0m\u001b[49m  \u001b[0m\u001b[49m  \u001b[0m\u001b[7m  \u001b[0m\u001b[49m  \u001b[0m\u001b[49m  \u001b[0m\u001b[49m  \u001b[0m\u001b[49m  \u001b[0m\u001b[49m  \u001b[0m\u001b[49m  \u001b[0m\u001b[49m  \u001b[0m\u001b[7m  \u001b[0m\u001b[7m  \u001b[0m\u001b[7m  \u001b[0m\n",
       "\u001b[7m  \u001b[0m\u001b[7m  \u001b[0m\u001b[7m  \u001b[0m\u001b[7m  \u001b[0m\u001b[7m  \u001b[0m\u001b[7m  \u001b[0m\u001b[7m  \u001b[0m\u001b[7m  \u001b[0m\u001b[7m  \u001b[0m\u001b[49m  \u001b[0m\u001b[49m  \u001b[0m\u001b[7m  \u001b[0m\u001b[7m  \u001b[0m\u001b[49m  \u001b[0m\u001b[49m  \u001b[0m\u001b[49m  \u001b[0m\u001b[49m  \u001b[0m\u001b[49m  \u001b[0m\u001b[49m  \u001b[0m\u001b[49m  \u001b[0m\u001b[7m  \u001b[0m\u001b[49m  \u001b[0m\u001b[7m  \u001b[0m\u001b[7m  \u001b[0m\u001b[7m  \u001b[0m\u001b[49m  \u001b[0m\u001b[49m  \u001b[0m\u001b[49m  \u001b[0m\u001b[49m  \u001b[0m\u001b[49m  \u001b[0m\u001b[7m  \u001b[0m\n",
       "\u001b[7m  \u001b[0m\u001b[49m  \u001b[0m\u001b[49m  \u001b[0m\u001b[49m  \u001b[0m\u001b[49m  \u001b[0m\u001b[49m  \u001b[0m\u001b[49m  \u001b[0m\u001b[49m  \u001b[0m\u001b[7m  \u001b[0m\u001b[7m  \u001b[0m\u001b[7m  \u001b[0m\u001b[7m  \u001b[0m\u001b[49m  \u001b[0m\u001b[49m  \u001b[0m\u001b[49m  \u001b[0m\u001b[7m  \u001b[0m\u001b[7m  \u001b[0m\u001b[49m  \u001b[0m\u001b[49m  \u001b[0m\u001b[49m  \u001b[0m\u001b[49m  \u001b[0m\u001b[49m  \u001b[0m\u001b[7m  \u001b[0m\u001b[49m  \u001b[0m\u001b[7m  \u001b[0m\u001b[49m  \u001b[0m\u001b[49m  \u001b[0m\u001b[7m  \u001b[0m\u001b[49m  \u001b[0m\u001b[7m  \u001b[0m\u001b[7m  \u001b[0m\n",
       "\u001b[7m  \u001b[0m\u001b[49m  \u001b[0m\u001b[7m  \u001b[0m\u001b[7m  \u001b[0m\u001b[7m  \u001b[0m\u001b[7m  \u001b[0m\u001b[7m  \u001b[0m\u001b[49m  \u001b[0m\u001b[7m  \u001b[0m\u001b[7m  \u001b[0m\u001b[49m  \u001b[0m\u001b[7m  \u001b[0m\u001b[7m  \u001b[0m\u001b[7m  \u001b[0m\u001b[7m  \u001b[0m\u001b[7m  \u001b[0m\u001b[49m  \u001b[0m\u001b[7m  \u001b[0m\u001b[7m  \u001b[0m\u001b[49m  \u001b[0m\u001b[7m  \u001b[0m\u001b[49m  \u001b[0m\u001b[7m  \u001b[0m\u001b[7m  \u001b[0m\u001b[7m  \u001b[0m\u001b[49m  \u001b[0m\u001b[49m  \u001b[0m\u001b[7m  \u001b[0m\u001b[49m  \u001b[0m\u001b[49m  \u001b[0m\u001b[7m  \u001b[0m\n",
       "\u001b[7m  \u001b[0m\u001b[49m  \u001b[0m\u001b[7m  \u001b[0m\u001b[49m  \u001b[0m\u001b[49m  \u001b[0m\u001b[49m  \u001b[0m\u001b[7m  \u001b[0m\u001b[49m  \u001b[0m\u001b[7m  \u001b[0m\u001b[7m  \u001b[0m\u001b[49m  \u001b[0m\u001b[7m  \u001b[0m\u001b[7m  \u001b[0m\u001b[49m  \u001b[0m\u001b[7m  \u001b[0m\u001b[49m  \u001b[0m\u001b[49m  \u001b[0m\u001b[7m  \u001b[0m\u001b[7m  \u001b[0m\u001b[7m  \u001b[0m\u001b[7m  \u001b[0m\u001b[49m  \u001b[0m\u001b[49m  \u001b[0m\u001b[49m  \u001b[0m\u001b[49m  \u001b[0m\u001b[49m  \u001b[0m\u001b[7m  \u001b[0m\u001b[49m  \u001b[0m\u001b[7m  \u001b[0m\u001b[7m  \u001b[0m\u001b[7m  \u001b[0m\n",
       "\u001b[7m  \u001b[0m\u001b[49m  \u001b[0m\u001b[7m  \u001b[0m\u001b[49m  \u001b[0m\u001b[49m  \u001b[0m\u001b[49m  \u001b[0m\u001b[7m  \u001b[0m\u001b[49m  \u001b[0m\u001b[7m  \u001b[0m\u001b[49m  \u001b[0m\u001b[49m  \u001b[0m\u001b[7m  \u001b[0m\u001b[49m  \u001b[0m\u001b[49m  \u001b[0m\u001b[7m  \u001b[0m\u001b[49m  \u001b[0m\u001b[49m  \u001b[0m\u001b[49m  \u001b[0m\u001b[49m  \u001b[0m\u001b[49m  \u001b[0m\u001b[49m  \u001b[0m\u001b[49m  \u001b[0m\u001b[49m  \u001b[0m\u001b[7m  \u001b[0m\u001b[49m  \u001b[0m\u001b[49m  \u001b[0m\u001b[49m  \u001b[0m\u001b[7m  \u001b[0m\u001b[7m  \u001b[0m\u001b[49m  \u001b[0m\u001b[7m  \u001b[0m\n",
       "\u001b[7m  \u001b[0m\u001b[49m  \u001b[0m\u001b[7m  \u001b[0m\u001b[49m  \u001b[0m\u001b[49m  \u001b[0m\u001b[49m  \u001b[0m\u001b[7m  \u001b[0m\u001b[49m  \u001b[0m\u001b[7m  \u001b[0m\u001b[49m  \u001b[0m\u001b[49m  \u001b[0m\u001b[7m  \u001b[0m\u001b[49m  \u001b[0m\u001b[7m  \u001b[0m\u001b[49m  \u001b[0m\u001b[7m  \u001b[0m\u001b[7m  \u001b[0m\u001b[49m  \u001b[0m\u001b[7m  \u001b[0m\u001b[49m  \u001b[0m\u001b[7m  \u001b[0m\u001b[7m  \u001b[0m\u001b[49m  \u001b[0m\u001b[7m  \u001b[0m\u001b[49m  \u001b[0m\u001b[7m  \u001b[0m\u001b[7m  \u001b[0m\u001b[49m  \u001b[0m\u001b[7m  \u001b[0m\u001b[49m  \u001b[0m\u001b[7m  \u001b[0m\n",
       "\u001b[7m  \u001b[0m\u001b[49m  \u001b[0m\u001b[7m  \u001b[0m\u001b[7m  \u001b[0m\u001b[7m  \u001b[0m\u001b[7m  \u001b[0m\u001b[7m  \u001b[0m\u001b[49m  \u001b[0m\u001b[7m  \u001b[0m\u001b[49m  \u001b[0m\u001b[7m  \u001b[0m\u001b[49m  \u001b[0m\u001b[49m  \u001b[0m\u001b[7m  \u001b[0m\u001b[7m  \u001b[0m\u001b[49m  \u001b[0m\u001b[49m  \u001b[0m\u001b[7m  \u001b[0m\u001b[7m  \u001b[0m\u001b[49m  \u001b[0m\u001b[49m  \u001b[0m\u001b[49m  \u001b[0m\u001b[49m  \u001b[0m\u001b[7m  \u001b[0m\u001b[7m  \u001b[0m\u001b[7m  \u001b[0m\u001b[49m  \u001b[0m\u001b[7m  \u001b[0m\u001b[49m  \u001b[0m\u001b[7m  \u001b[0m\u001b[7m  \u001b[0m\n",
       "\u001b[7m  \u001b[0m\u001b[49m  \u001b[0m\u001b[49m  \u001b[0m\u001b[49m  \u001b[0m\u001b[49m  \u001b[0m\u001b[49m  \u001b[0m\u001b[49m  \u001b[0m\u001b[49m  \u001b[0m\u001b[7m  \u001b[0m\u001b[49m  \u001b[0m\u001b[49m  \u001b[0m\u001b[49m  \u001b[0m\u001b[7m  \u001b[0m\u001b[49m  \u001b[0m\u001b[7m  \u001b[0m\u001b[49m  \u001b[0m\u001b[49m  \u001b[0m\u001b[49m  \u001b[0m\u001b[7m  \u001b[0m\u001b[7m  \u001b[0m\u001b[49m  \u001b[0m\u001b[49m  \u001b[0m\u001b[7m  \u001b[0m\u001b[49m  \u001b[0m\u001b[7m  \u001b[0m\u001b[49m  \u001b[0m\u001b[7m  \u001b[0m\u001b[7m  \u001b[0m\u001b[49m  \u001b[0m\u001b[7m  \u001b[0m\u001b[7m  \u001b[0m\n",
       "\u001b[7m  \u001b[0m\u001b[7m  \u001b[0m\u001b[7m  \u001b[0m\u001b[7m  \u001b[0m\u001b[7m  \u001b[0m\u001b[7m  \u001b[0m\u001b[7m  \u001b[0m\u001b[7m  \u001b[0m\u001b[7m  \u001b[0m\u001b[7m  \u001b[0m\u001b[7m  \u001b[0m\u001b[7m  \u001b[0m\u001b[7m  \u001b[0m\u001b[7m  \u001b[0m\u001b[7m  \u001b[0m\u001b[7m  \u001b[0m\u001b[7m  \u001b[0m\u001b[7m  \u001b[0m\u001b[7m  \u001b[0m\u001b[7m  \u001b[0m\u001b[7m  \u001b[0m\u001b[7m  \u001b[0m\u001b[7m  \u001b[0m\u001b[7m  \u001b[0m\u001b[7m  \u001b[0m\u001b[7m  \u001b[0m\u001b[7m  \u001b[0m\u001b[7m  \u001b[0m\u001b[7m  \u001b[0m\u001b[7m  \u001b[0m\u001b[7m  \u001b[0m\n",
       "\n",
       "        "
      ]
     },
     "execution_count": 6,
     "metadata": {},
     "output_type": "execute_result"
    }
   ],
   "source": [
    "notify.register()"
   ]
  },
  {
   "cell_type": "code",
   "execution_count": 7,
   "metadata": {},
   "outputs": [],
   "source": [
    "os.chdir('../data/interim')"
   ]
  },
  {
   "cell_type": "code",
   "execution_count": 8,
   "metadata": {
    "scrolled": true
   },
   "outputs": [
    {
     "data": {
      "text/plain": [
       "['.gitkeep',\n",
       " 'data post-eda.csv',\n",
       " 'joined data full.csv',\n",
       " 'joined data post-markdowns.csv',\n",
       " 'joined data pre-markdowns.csv']"
      ]
     },
     "execution_count": 8,
     "metadata": {},
     "output_type": "execute_result"
    }
   ],
   "source": [
    "os.listdir()"
   ]
  },
  {
   "cell_type": "markdown",
   "metadata": {},
   "source": [
    "### Generate Dummy Features"
   ]
  },
  {
   "cell_type": "markdown",
   "metadata": {},
   "source": [
    "My approach is going to be dropping the markdown columns in order to have access to the entire data set for training."
   ]
  },
  {
   "cell_type": "code",
   "execution_count": 9,
   "metadata": {},
   "outputs": [
    {
     "data": {
      "text/html": [
       "<div>\n",
       "<style scoped>\n",
       "    .dataframe tbody tr th:only-of-type {\n",
       "        vertical-align: middle;\n",
       "    }\n",
       "\n",
       "    .dataframe tbody tr th {\n",
       "        vertical-align: top;\n",
       "    }\n",
       "\n",
       "    .dataframe thead th {\n",
       "        text-align: right;\n",
       "    }\n",
       "</style>\n",
       "<table border=\"1\" class=\"dataframe\">\n",
       "  <thead>\n",
       "    <tr style=\"text-align: right;\">\n",
       "      <th></th>\n",
       "      <th>Store</th>\n",
       "      <th>Dept</th>\n",
       "      <th>Date</th>\n",
       "      <th>Weekly_Sales</th>\n",
       "      <th>IsHoliday</th>\n",
       "      <th>Temperature</th>\n",
       "      <th>Fuel_Price</th>\n",
       "      <th>MarkDown1</th>\n",
       "      <th>MarkDown2</th>\n",
       "      <th>MarkDown3</th>\n",
       "      <th>MarkDown4</th>\n",
       "      <th>MarkDown5</th>\n",
       "      <th>CPI</th>\n",
       "      <th>Unemployment</th>\n",
       "      <th>Type</th>\n",
       "      <th>Size</th>\n",
       "      <th>Month</th>\n",
       "      <th>Week</th>\n",
       "    </tr>\n",
       "  </thead>\n",
       "  <tbody>\n",
       "    <tr>\n",
       "      <th>0</th>\n",
       "      <td>1</td>\n",
       "      <td>1</td>\n",
       "      <td>2010-01-10</td>\n",
       "      <td>20094.19</td>\n",
       "      <td>0</td>\n",
       "      <td>71.89</td>\n",
       "      <td>2.603</td>\n",
       "      <td>NaN</td>\n",
       "      <td>NaN</td>\n",
       "      <td>NaN</td>\n",
       "      <td>NaN</td>\n",
       "      <td>NaN</td>\n",
       "      <td>211.671989</td>\n",
       "      <td>7.838</td>\n",
       "      <td>2</td>\n",
       "      <td>151315</td>\n",
       "      <td>1</td>\n",
       "      <td>1</td>\n",
       "    </tr>\n",
       "    <tr>\n",
       "      <th>1</th>\n",
       "      <td>1</td>\n",
       "      <td>2</td>\n",
       "      <td>2010-01-10</td>\n",
       "      <td>45829.02</td>\n",
       "      <td>0</td>\n",
       "      <td>71.89</td>\n",
       "      <td>2.603</td>\n",
       "      <td>NaN</td>\n",
       "      <td>NaN</td>\n",
       "      <td>NaN</td>\n",
       "      <td>NaN</td>\n",
       "      <td>NaN</td>\n",
       "      <td>211.671989</td>\n",
       "      <td>7.838</td>\n",
       "      <td>2</td>\n",
       "      <td>151315</td>\n",
       "      <td>1</td>\n",
       "      <td>1</td>\n",
       "    </tr>\n",
       "    <tr>\n",
       "      <th>2</th>\n",
       "      <td>1</td>\n",
       "      <td>3</td>\n",
       "      <td>2010-01-10</td>\n",
       "      <td>9775.17</td>\n",
       "      <td>0</td>\n",
       "      <td>71.89</td>\n",
       "      <td>2.603</td>\n",
       "      <td>NaN</td>\n",
       "      <td>NaN</td>\n",
       "      <td>NaN</td>\n",
       "      <td>NaN</td>\n",
       "      <td>NaN</td>\n",
       "      <td>211.671989</td>\n",
       "      <td>7.838</td>\n",
       "      <td>2</td>\n",
       "      <td>151315</td>\n",
       "      <td>1</td>\n",
       "      <td>1</td>\n",
       "    </tr>\n",
       "    <tr>\n",
       "      <th>3</th>\n",
       "      <td>1</td>\n",
       "      <td>4</td>\n",
       "      <td>2010-01-10</td>\n",
       "      <td>34912.45</td>\n",
       "      <td>0</td>\n",
       "      <td>71.89</td>\n",
       "      <td>2.603</td>\n",
       "      <td>NaN</td>\n",
       "      <td>NaN</td>\n",
       "      <td>NaN</td>\n",
       "      <td>NaN</td>\n",
       "      <td>NaN</td>\n",
       "      <td>211.671989</td>\n",
       "      <td>7.838</td>\n",
       "      <td>2</td>\n",
       "      <td>151315</td>\n",
       "      <td>1</td>\n",
       "      <td>1</td>\n",
       "    </tr>\n",
       "    <tr>\n",
       "      <th>4</th>\n",
       "      <td>1</td>\n",
       "      <td>5</td>\n",
       "      <td>2010-01-10</td>\n",
       "      <td>23381.38</td>\n",
       "      <td>0</td>\n",
       "      <td>71.89</td>\n",
       "      <td>2.603</td>\n",
       "      <td>NaN</td>\n",
       "      <td>NaN</td>\n",
       "      <td>NaN</td>\n",
       "      <td>NaN</td>\n",
       "      <td>NaN</td>\n",
       "      <td>211.671989</td>\n",
       "      <td>7.838</td>\n",
       "      <td>2</td>\n",
       "      <td>151315</td>\n",
       "      <td>1</td>\n",
       "      <td>1</td>\n",
       "    </tr>\n",
       "  </tbody>\n",
       "</table>\n",
       "</div>"
      ],
      "text/plain": [
       "   Store  Dept        Date  Weekly_Sales  IsHoliday  Temperature  Fuel_Price  \\\n",
       "0      1     1  2010-01-10      20094.19          0        71.89       2.603   \n",
       "1      1     2  2010-01-10      45829.02          0        71.89       2.603   \n",
       "2      1     3  2010-01-10       9775.17          0        71.89       2.603   \n",
       "3      1     4  2010-01-10      34912.45          0        71.89       2.603   \n",
       "4      1     5  2010-01-10      23381.38          0        71.89       2.603   \n",
       "\n",
       "   MarkDown1  MarkDown2  MarkDown3  MarkDown4  MarkDown5         CPI  \\\n",
       "0        NaN        NaN        NaN        NaN        NaN  211.671989   \n",
       "1        NaN        NaN        NaN        NaN        NaN  211.671989   \n",
       "2        NaN        NaN        NaN        NaN        NaN  211.671989   \n",
       "3        NaN        NaN        NaN        NaN        NaN  211.671989   \n",
       "4        NaN        NaN        NaN        NaN        NaN  211.671989   \n",
       "\n",
       "   Unemployment  Type    Size  Month  Week  \n",
       "0         7.838     2  151315      1     1  \n",
       "1         7.838     2  151315      1     1  \n",
       "2         7.838     2  151315      1     1  \n",
       "3         7.838     2  151315      1     1  \n",
       "4         7.838     2  151315      1     1  "
      ]
     },
     "execution_count": 9,
     "metadata": {},
     "output_type": "execute_result"
    }
   ],
   "source": [
    "# Loading full joined data as df\n",
    "df = pd.read_csv('data post-eda.csv')\n",
    "df.head()"
   ]
  },
  {
   "cell_type": "code",
   "execution_count": 10,
   "metadata": {},
   "outputs": [],
   "source": [
    "# Dropping markdown columns\n",
    "df.drop(columns=['MarkDown1', 'MarkDown2', 'MarkDown3', 'MarkDown4', 'MarkDown5'], inplace=True)"
   ]
  },
  {
   "cell_type": "code",
   "execution_count": 11,
   "metadata": {},
   "outputs": [
    {
     "name": "stdout",
     "output_type": "stream",
     "text": [
      "<class 'pandas.core.frame.DataFrame'>\n",
      "RangeIndex: 421570 entries, 0 to 421569\n",
      "Data columns (total 13 columns):\n",
      " #   Column        Non-Null Count   Dtype  \n",
      "---  ------        --------------   -----  \n",
      " 0   Store         421570 non-null  int64  \n",
      " 1   Dept          421570 non-null  int64  \n",
      " 2   Date          421570 non-null  object \n",
      " 3   Weekly_Sales  421570 non-null  float64\n",
      " 4   IsHoliday     421570 non-null  int64  \n",
      " 5   Temperature   421570 non-null  float64\n",
      " 6   Fuel_Price    421570 non-null  float64\n",
      " 7   CPI           421570 non-null  float64\n",
      " 8   Unemployment  421570 non-null  float64\n",
      " 9   Type          421570 non-null  int64  \n",
      " 10  Size          421570 non-null  int64  \n",
      " 11  Month         421570 non-null  int64  \n",
      " 12  Week          421570 non-null  int64  \n",
      "dtypes: float64(5), int64(7), object(1)\n",
      "memory usage: 41.8+ MB\n"
     ]
    }
   ],
   "source": [
    "# Show info of remaining columns\n",
    "df.info()"
   ]
  },
  {
   "cell_type": "markdown",
   "metadata": {},
   "source": [
    "Columns that should have dummy features encoded:\n",
    "- Store\n",
    "- Dept\n",
    "- Type\n",
    "- Month\n",
    "- Week"
   ]
  },
  {
   "cell_type": "code",
   "execution_count": 12,
   "metadata": {
    "scrolled": true
   },
   "outputs": [
    {
     "data": {
      "text/html": [
       "<div>\n",
       "<style scoped>\n",
       "    .dataframe tbody tr th:only-of-type {\n",
       "        vertical-align: middle;\n",
       "    }\n",
       "\n",
       "    .dataframe tbody tr th {\n",
       "        vertical-align: top;\n",
       "    }\n",
       "\n",
       "    .dataframe thead th {\n",
       "        text-align: right;\n",
       "    }\n",
       "</style>\n",
       "<table border=\"1\" class=\"dataframe\">\n",
       "  <thead>\n",
       "    <tr style=\"text-align: right;\">\n",
       "      <th></th>\n",
       "      <th>Store</th>\n",
       "      <th>Dept</th>\n",
       "      <th>Date</th>\n",
       "      <th>Weekly_Sales</th>\n",
       "      <th>IsHoliday</th>\n",
       "      <th>Temperature</th>\n",
       "      <th>Fuel_Price</th>\n",
       "      <th>CPI</th>\n",
       "      <th>Unemployment</th>\n",
       "      <th>Type</th>\n",
       "      <th>Size</th>\n",
       "      <th>Month</th>\n",
       "      <th>Week</th>\n",
       "    </tr>\n",
       "  </thead>\n",
       "  <tbody>\n",
       "    <tr>\n",
       "      <th>0</th>\n",
       "      <td>1</td>\n",
       "      <td>1</td>\n",
       "      <td>2010-01-10</td>\n",
       "      <td>20094.19</td>\n",
       "      <td>0</td>\n",
       "      <td>71.89</td>\n",
       "      <td>2.603</td>\n",
       "      <td>211.671989</td>\n",
       "      <td>7.838</td>\n",
       "      <td>2</td>\n",
       "      <td>151315</td>\n",
       "      <td>1</td>\n",
       "      <td>1</td>\n",
       "    </tr>\n",
       "    <tr>\n",
       "      <th>1</th>\n",
       "      <td>1</td>\n",
       "      <td>2</td>\n",
       "      <td>2010-01-10</td>\n",
       "      <td>45829.02</td>\n",
       "      <td>0</td>\n",
       "      <td>71.89</td>\n",
       "      <td>2.603</td>\n",
       "      <td>211.671989</td>\n",
       "      <td>7.838</td>\n",
       "      <td>2</td>\n",
       "      <td>151315</td>\n",
       "      <td>1</td>\n",
       "      <td>1</td>\n",
       "    </tr>\n",
       "    <tr>\n",
       "      <th>2</th>\n",
       "      <td>1</td>\n",
       "      <td>3</td>\n",
       "      <td>2010-01-10</td>\n",
       "      <td>9775.17</td>\n",
       "      <td>0</td>\n",
       "      <td>71.89</td>\n",
       "      <td>2.603</td>\n",
       "      <td>211.671989</td>\n",
       "      <td>7.838</td>\n",
       "      <td>2</td>\n",
       "      <td>151315</td>\n",
       "      <td>1</td>\n",
       "      <td>1</td>\n",
       "    </tr>\n",
       "    <tr>\n",
       "      <th>3</th>\n",
       "      <td>1</td>\n",
       "      <td>4</td>\n",
       "      <td>2010-01-10</td>\n",
       "      <td>34912.45</td>\n",
       "      <td>0</td>\n",
       "      <td>71.89</td>\n",
       "      <td>2.603</td>\n",
       "      <td>211.671989</td>\n",
       "      <td>7.838</td>\n",
       "      <td>2</td>\n",
       "      <td>151315</td>\n",
       "      <td>1</td>\n",
       "      <td>1</td>\n",
       "    </tr>\n",
       "    <tr>\n",
       "      <th>4</th>\n",
       "      <td>1</td>\n",
       "      <td>5</td>\n",
       "      <td>2010-01-10</td>\n",
       "      <td>23381.38</td>\n",
       "      <td>0</td>\n",
       "      <td>71.89</td>\n",
       "      <td>2.603</td>\n",
       "      <td>211.671989</td>\n",
       "      <td>7.838</td>\n",
       "      <td>2</td>\n",
       "      <td>151315</td>\n",
       "      <td>1</td>\n",
       "      <td>1</td>\n",
       "    </tr>\n",
       "  </tbody>\n",
       "</table>\n",
       "</div>"
      ],
      "text/plain": [
       "   Store  Dept        Date  Weekly_Sales  IsHoliday  Temperature  Fuel_Price  \\\n",
       "0      1     1  2010-01-10      20094.19          0        71.89       2.603   \n",
       "1      1     2  2010-01-10      45829.02          0        71.89       2.603   \n",
       "2      1     3  2010-01-10       9775.17          0        71.89       2.603   \n",
       "3      1     4  2010-01-10      34912.45          0        71.89       2.603   \n",
       "4      1     5  2010-01-10      23381.38          0        71.89       2.603   \n",
       "\n",
       "          CPI  Unemployment  Type    Size  Month  Week  \n",
       "0  211.671989         7.838     2  151315      1     1  \n",
       "1  211.671989         7.838     2  151315      1     1  \n",
       "2  211.671989         7.838     2  151315      1     1  \n",
       "3  211.671989         7.838     2  151315      1     1  \n",
       "4  211.671989         7.838     2  151315      1     1  "
      ]
     },
     "execution_count": 12,
     "metadata": {},
     "output_type": "execute_result"
    }
   ],
   "source": [
    "df.head()"
   ]
  },
  {
   "cell_type": "markdown",
   "metadata": {},
   "source": [
    "I plan to create 3 separate models. One for each of the different store types."
   ]
  },
  {
   "cell_type": "code",
   "execution_count": 13,
   "metadata": {},
   "outputs": [],
   "source": [
    "# Create dummy features\n",
    "deptDummies = pd.get_dummies(df['Dept'], prefix='Dept', drop_first=True)\n",
    "monthDummies = pd.get_dummies(df['Month'], prefix='Month', drop_first=True)\n",
    "weekDummies = pd.get_dummies(df['Week'], prefix='Week', drop_first=True)"
   ]
  },
  {
   "cell_type": "code",
   "execution_count": 14,
   "metadata": {},
   "outputs": [],
   "source": [
    "# Join dummy features onto dataframe\n",
    "df = df.join([deptDummies, monthDummies, weekDummies])"
   ]
  },
  {
   "cell_type": "code",
   "execution_count": 15,
   "metadata": {},
   "outputs": [],
   "source": [
    "# Drop original features\n",
    "df.drop(columns=['Dept', 'Month', 'Week'], inplace=True)"
   ]
  },
  {
   "cell_type": "code",
   "execution_count": 16,
   "metadata": {},
   "outputs": [],
   "source": [
    "# Split the data by 3 store types\n",
    "df0 = df.loc[df.Type == 0]\n",
    "df1 = df.loc[df.Type == 1]\n",
    "df2 = df.loc[df.Type == 2]"
   ]
  },
  {
   "cell_type": "code",
   "execution_count": 17,
   "metadata": {},
   "outputs": [],
   "source": [
    "# Drop Type and Date features\n",
    "df0 = df0.drop(columns=['Type'])\n",
    "df1 = df1.drop(columns=['Type'])\n",
    "df2 = df2.drop(columns=['Type'])"
   ]
  },
  {
   "cell_type": "code",
   "execution_count": 18,
   "metadata": {},
   "outputs": [],
   "source": [
    "# Create Store Dummy Features\n",
    "storeDummies0 = pd.get_dummies(df0['Store'], prefix='Store', drop_first=True)\n",
    "storeDummies1 = pd.get_dummies(df1['Store'], prefix='Store', drop_first=True)\n",
    "storeDummies2 = pd.get_dummies(df2['Store'], prefix='Store', drop_first=True)"
   ]
  },
  {
   "cell_type": "code",
   "execution_count": 19,
   "metadata": {},
   "outputs": [],
   "source": [
    "# Join Store dummes to dataframes\n",
    "df0 = df0.join(storeDummies0)\n",
    "df1 = df1.join(storeDummies1)\n",
    "df2 = df2.join(storeDummies2)"
   ]
  },
  {
   "cell_type": "code",
   "execution_count": 20,
   "metadata": {},
   "outputs": [],
   "source": [
    "# Drop Store columns from dataframes\n",
    "df0 = df0.drop(columns=['Store'])\n",
    "df1 = df1.drop(columns=['Store'])\n",
    "df2 = df2.drop(columns=['Store'])"
   ]
  },
  {
   "cell_type": "code",
   "execution_count": 21,
   "metadata": {
    "scrolled": true
   },
   "outputs": [
    {
     "name": "stdout",
     "output_type": "stream",
     "text": [
      "(42597, 155)\n",
      "(163495, 166)\n",
      "(215478, 171)\n"
     ]
    }
   ],
   "source": [
    "# Print dataframe shapes\n",
    "print(df0.shape)\n",
    "print(df1.shape)\n",
    "print(df2.shape)"
   ]
  },
  {
   "cell_type": "markdown",
   "metadata": {},
   "source": [
    "### Train Test Split and Cross-Validation Train Test Split"
   ]
  },
  {
   "cell_type": "markdown",
   "metadata": {},
   "source": [
    "We want to perform a train test split prior to scaling the data"
   ]
  },
  {
   "cell_type": "code",
   "execution_count": 22,
   "metadata": {},
   "outputs": [],
   "source": [
    "# Create masks\n",
    "trainmask0 = df0.Date < '2012-01-01'\n",
    "testmask0 = df0.Date >= '2012-01-01'\n",
    "trainmask1 = df1.Date < '2012-01-01'\n",
    "testmask1 = df1.Date >= '2012-01-01'\n",
    "trainmask2 = df2.Date < '2012-01-01'\n",
    "testmask2 = df2.Date >= '2012-01-01'\n",
    "\n",
    "# Split into sets by masks\n",
    "dftrain0 = df0.loc[trainmask0]\n",
    "dftest0 = df0.loc[testmask0]\n",
    "dftrain1 = df1.loc[trainmask1]\n",
    "dftest1 = df1.loc[testmask1]\n",
    "dftrain2 = df2.loc[trainmask2]\n",
    "dftest2 = df2.loc[testmask2]"
   ]
  },
  {
   "cell_type": "markdown",
   "metadata": {},
   "source": [
    "Scaler transformation for continuous feature variables"
   ]
  },
  {
   "cell_type": "code",
   "execution_count": 23,
   "metadata": {},
   "outputs": [],
   "source": [
    "# Import MinMaxScaler\n",
    "from sklearn.preprocessing import MinMaxScaler"
   ]
  },
  {
   "cell_type": "code",
   "execution_count": 24,
   "metadata": {},
   "outputs": [],
   "source": [
    "# Initialize scaler and fit_transform X_train\n",
    "scaler0 = MinMaxScaler()\n",
    "scaler1 = MinMaxScaler()\n",
    "scaler2 = MinMaxScaler()\n",
    "dftrain0[['Temperature', 'Fuel_Price', 'CPI', 'Unemployment', 'Size']] = scaler0.fit_transform(dftrain0[['Temperature', 'Fuel_Price', 'CPI', 'Unemployment', 'Size']])\n",
    "dftrain1[['Temperature', 'Fuel_Price', 'CPI', 'Unemployment', 'Size']] = scaler1.fit_transform(dftrain1[['Temperature', 'Fuel_Price', 'CPI', 'Unemployment', 'Size']])\n",
    "dftrain2[['Temperature', 'Fuel_Price', 'CPI', 'Unemployment', 'Size']] = scaler2.fit_transform(dftrain2[['Temperature', 'Fuel_Price', 'CPI', 'Unemployment', 'Size']])"
   ]
  },
  {
   "cell_type": "code",
   "execution_count": 25,
   "metadata": {},
   "outputs": [
    {
     "data": {
      "text/html": [
       "<div>\n",
       "<style scoped>\n",
       "    .dataframe tbody tr th:only-of-type {\n",
       "        vertical-align: middle;\n",
       "    }\n",
       "\n",
       "    .dataframe tbody tr th {\n",
       "        vertical-align: top;\n",
       "    }\n",
       "\n",
       "    .dataframe thead th {\n",
       "        text-align: right;\n",
       "    }\n",
       "</style>\n",
       "<table border=\"1\" class=\"dataframe\">\n",
       "  <thead>\n",
       "    <tr style=\"text-align: right;\">\n",
       "      <th></th>\n",
       "      <th>Date</th>\n",
       "      <th>Weekly_Sales</th>\n",
       "      <th>IsHoliday</th>\n",
       "      <th>Temperature</th>\n",
       "      <th>Fuel_Price</th>\n",
       "      <th>CPI</th>\n",
       "      <th>Unemployment</th>\n",
       "      <th>Size</th>\n",
       "      <th>Dept_2</th>\n",
       "      <th>Dept_3</th>\n",
       "      <th>...</th>\n",
       "      <th>Week_48</th>\n",
       "      <th>Week_49</th>\n",
       "      <th>Week_50</th>\n",
       "      <th>Week_51</th>\n",
       "      <th>Week_52</th>\n",
       "      <th>Store_37</th>\n",
       "      <th>Store_38</th>\n",
       "      <th>Store_42</th>\n",
       "      <th>Store_43</th>\n",
       "      <th>Store_44</th>\n",
       "    </tr>\n",
       "  </thead>\n",
       "  <tbody>\n",
       "    <tr>\n",
       "      <th>1993</th>\n",
       "      <td>2010-01-10</td>\n",
       "      <td>9843.45</td>\n",
       "      <td>0</td>\n",
       "      <td>0.648274</td>\n",
       "      <td>0.052725</td>\n",
       "      <td>0.915722</td>\n",
       "      <td>0.253188</td>\n",
       "      <td>1.0</td>\n",
       "      <td>0</td>\n",
       "      <td>0</td>\n",
       "      <td>...</td>\n",
       "      <td>0</td>\n",
       "      <td>0</td>\n",
       "      <td>0</td>\n",
       "      <td>0</td>\n",
       "      <td>0</td>\n",
       "      <td>0</td>\n",
       "      <td>0</td>\n",
       "      <td>0</td>\n",
       "      <td>0</td>\n",
       "      <td>0</td>\n",
       "    </tr>\n",
       "    <tr>\n",
       "      <th>1994</th>\n",
       "      <td>2010-01-10</td>\n",
       "      <td>13898.10</td>\n",
       "      <td>0</td>\n",
       "      <td>0.648274</td>\n",
       "      <td>0.052725</td>\n",
       "      <td>0.915722</td>\n",
       "      <td>0.253188</td>\n",
       "      <td>1.0</td>\n",
       "      <td>1</td>\n",
       "      <td>0</td>\n",
       "      <td>...</td>\n",
       "      <td>0</td>\n",
       "      <td>0</td>\n",
       "      <td>0</td>\n",
       "      <td>0</td>\n",
       "      <td>0</td>\n",
       "      <td>0</td>\n",
       "      <td>0</td>\n",
       "      <td>0</td>\n",
       "      <td>0</td>\n",
       "      <td>0</td>\n",
       "    </tr>\n",
       "    <tr>\n",
       "      <th>1995</th>\n",
       "      <td>2010-01-10</td>\n",
       "      <td>755.67</td>\n",
       "      <td>0</td>\n",
       "      <td>0.648274</td>\n",
       "      <td>0.052725</td>\n",
       "      <td>0.915722</td>\n",
       "      <td>0.253188</td>\n",
       "      <td>1.0</td>\n",
       "      <td>0</td>\n",
       "      <td>1</td>\n",
       "      <td>...</td>\n",
       "      <td>0</td>\n",
       "      <td>0</td>\n",
       "      <td>0</td>\n",
       "      <td>0</td>\n",
       "      <td>0</td>\n",
       "      <td>0</td>\n",
       "      <td>0</td>\n",
       "      <td>0</td>\n",
       "      <td>0</td>\n",
       "      <td>0</td>\n",
       "    </tr>\n",
       "    <tr>\n",
       "      <th>1996</th>\n",
       "      <td>2010-01-10</td>\n",
       "      <td>13610.70</td>\n",
       "      <td>0</td>\n",
       "      <td>0.648274</td>\n",
       "      <td>0.052725</td>\n",
       "      <td>0.915722</td>\n",
       "      <td>0.253188</td>\n",
       "      <td>1.0</td>\n",
       "      <td>0</td>\n",
       "      <td>0</td>\n",
       "      <td>...</td>\n",
       "      <td>0</td>\n",
       "      <td>0</td>\n",
       "      <td>0</td>\n",
       "      <td>0</td>\n",
       "      <td>0</td>\n",
       "      <td>0</td>\n",
       "      <td>0</td>\n",
       "      <td>0</td>\n",
       "      <td>0</td>\n",
       "      <td>0</td>\n",
       "    </tr>\n",
       "    <tr>\n",
       "      <th>1997</th>\n",
       "      <td>2010-01-10</td>\n",
       "      <td>444.76</td>\n",
       "      <td>0</td>\n",
       "      <td>0.648274</td>\n",
       "      <td>0.052725</td>\n",
       "      <td>0.915722</td>\n",
       "      <td>0.253188</td>\n",
       "      <td>1.0</td>\n",
       "      <td>0</td>\n",
       "      <td>0</td>\n",
       "      <td>...</td>\n",
       "      <td>0</td>\n",
       "      <td>0</td>\n",
       "      <td>0</td>\n",
       "      <td>0</td>\n",
       "      <td>0</td>\n",
       "      <td>0</td>\n",
       "      <td>0</td>\n",
       "      <td>0</td>\n",
       "      <td>0</td>\n",
       "      <td>0</td>\n",
       "    </tr>\n",
       "  </tbody>\n",
       "</table>\n",
       "<p>5 rows × 155 columns</p>\n",
       "</div>"
      ],
      "text/plain": [
       "            Date  Weekly_Sales  IsHoliday  Temperature  Fuel_Price       CPI  \\\n",
       "1993  2010-01-10       9843.45          0     0.648274    0.052725  0.915722   \n",
       "1994  2010-01-10      13898.10          0     0.648274    0.052725  0.915722   \n",
       "1995  2010-01-10        755.67          0     0.648274    0.052725  0.915722   \n",
       "1996  2010-01-10      13610.70          0     0.648274    0.052725  0.915722   \n",
       "1997  2010-01-10        444.76          0     0.648274    0.052725  0.915722   \n",
       "\n",
       "      Unemployment  Size  Dept_2  Dept_3  ...  Week_48  Week_49  Week_50  \\\n",
       "1993      0.253188   1.0       0       0  ...        0        0        0   \n",
       "1994      0.253188   1.0       1       0  ...        0        0        0   \n",
       "1995      0.253188   1.0       0       1  ...        0        0        0   \n",
       "1996      0.253188   1.0       0       0  ...        0        0        0   \n",
       "1997      0.253188   1.0       0       0  ...        0        0        0   \n",
       "\n",
       "      Week_51  Week_52  Store_37  Store_38  Store_42  Store_43  Store_44  \n",
       "1993        0        0         0         0         0         0         0  \n",
       "1994        0        0         0         0         0         0         0  \n",
       "1995        0        0         0         0         0         0         0  \n",
       "1996        0        0         0         0         0         0         0  \n",
       "1997        0        0         0         0         0         0         0  \n",
       "\n",
       "[5 rows x 155 columns]"
      ]
     },
     "execution_count": 25,
     "metadata": {},
     "output_type": "execute_result"
    }
   ],
   "source": [
    "# Verify that tranformation was successful\n",
    "dftrain0.head()"
   ]
  },
  {
   "cell_type": "code",
   "execution_count": 26,
   "metadata": {},
   "outputs": [],
   "source": [
    "# Apply scaler transformation to test data\n",
    "dftest0[['Temperature', 'Fuel_Price', 'CPI', 'Unemployment', 'Size']] = scaler0.transform(dftest0[['Temperature', 'Fuel_Price', 'CPI', 'Unemployment', 'Size']])\n",
    "dftest1[['Temperature', 'Fuel_Price', 'CPI', 'Unemployment', 'Size']] = scaler1.transform(dftest1[['Temperature', 'Fuel_Price', 'CPI', 'Unemployment', 'Size']])\n",
    "dftest2[['Temperature', 'Fuel_Price', 'CPI', 'Unemployment', 'Size']] = scaler2.transform(dftest2[['Temperature', 'Fuel_Price', 'CPI', 'Unemployment', 'Size']])"
   ]
  },
  {
   "cell_type": "markdown",
   "metadata": {},
   "source": [
    "Split X from y"
   ]
  },
  {
   "cell_type": "code",
   "execution_count": 27,
   "metadata": {},
   "outputs": [],
   "source": [
    "# Test train split\n",
    "X_train0 = dftrain0.drop(columns=['Date', 'Weekly_Sales'])\n",
    "y_train0 = dftrain0[['Weekly_Sales']]\n",
    "X_test0 = dftest0.drop(columns=['Date', 'Weekly_Sales'])\n",
    "y_test0 = dftest0[['Weekly_Sales']]\n",
    "X_train1 = dftrain1.drop(columns=['Date', 'Weekly_Sales'])\n",
    "y_train1 = dftrain1[['Weekly_Sales']]\n",
    "X_test1 = dftest1.drop(columns=['Date', 'Weekly_Sales'])\n",
    "y_test1 = dftest1[['Weekly_Sales']]\n",
    "X_train2 = dftrain2.drop(columns=['Date', 'Weekly_Sales'])\n",
    "y_train2 = dftrain2[['Weekly_Sales']]\n",
    "X_test2 = dftest2.drop(columns=['Date', 'Weekly_Sales'])\n",
    "y_test2 = dftest2[['Weekly_Sales']]"
   ]
  },
  {
   "cell_type": "markdown",
   "metadata": {},
   "source": [
    "Let's define a function for splitting the training data into segments in order to perform cross-validation on models later."
   ]
  },
  {
   "cell_type": "code",
   "execution_count": 28,
   "metadata": {},
   "outputs": [],
   "source": [
    "def cvsplit(df):\n",
    "    X_train = []\n",
    "    y_train = []\n",
    "    X_test = []\n",
    "    y_test = []\n",
    "    \n",
    "    # Create masks for 5-fold CV\n",
    "    trainm1 = df.Date < '2011-01-01'\n",
    "    testm1 = (df.Date >= '2011-01-01') & (df.Date < '2011-03-01')\n",
    "    trainm2 = df.Date < '2011-03-01'\n",
    "    testm2 = (df.Date >= '2011-03-01') & (df.Date < '2011-05-01')\n",
    "    trainm3 = df.Date < '2011-05-01'\n",
    "    testm3 = (df.Date >= '2011-05-01') & (df.Date < '2011-07-01')\n",
    "    trainm4 = df.Date < '2011-07-01'\n",
    "    testm4 = (df.Date >= '2011-07-01') & (df.Date < '2011-09-01')\n",
    "    trainm5 = df.Date < '2011-09-01'\n",
    "    testm5 = (df.Date >= '2011-09-01') & (df.Date < '2012-01-01')\n",
    "    \n",
    "    # Split into sets by masks\n",
    "    dftrain1 = df.loc[trainm1]\n",
    "    dftest1 = df.loc[testm1]    \n",
    "    dftrain2 = df.loc[trainm2]\n",
    "    dftest2 = df.loc[testm2]   \n",
    "    dftrain3 = df.loc[trainm3]\n",
    "    dftest3 = df.loc[testm3]   \n",
    "    dftrain4 = df.loc[trainm4]\n",
    "    dftest4 = df.loc[testm4]   \n",
    "    dftrain5 = df.loc[trainm5]\n",
    "    dftest5 = df.loc[testm5]\n",
    "    \n",
    "    # Test train split and append to lists\n",
    "    X_train.append(dftrain1.drop(columns=['Date', 'Weekly_Sales']))\n",
    "    y_train.append(dftrain1[['Weekly_Sales']])\n",
    "    X_test.append(dftest1.drop(columns=['Date', 'Weekly_Sales']))\n",
    "    y_test.append(dftest1[['Weekly_Sales']])\n",
    "    \n",
    "    X_train.append(dftrain2.drop(columns=['Date', 'Weekly_Sales']))\n",
    "    y_train.append(dftrain2[['Weekly_Sales']])\n",
    "    X_test.append(dftest2.drop(columns=['Date', 'Weekly_Sales']))\n",
    "    y_test.append(dftest2[['Weekly_Sales']])\n",
    "    \n",
    "    X_train.append(dftrain3.drop(columns=['Date', 'Weekly_Sales']))\n",
    "    y_train.append(dftrain3[['Weekly_Sales']])\n",
    "    X_test.append(dftest3.drop(columns=['Date', 'Weekly_Sales']))\n",
    "    y_test.append(dftest3[['Weekly_Sales']])\n",
    "    \n",
    "    X_train.append(dftrain4.drop(columns=['Date', 'Weekly_Sales']))\n",
    "    y_train.append(dftrain4[['Weekly_Sales']])\n",
    "    X_test.append(dftest4.drop(columns=['Date', 'Weekly_Sales']))\n",
    "    y_test.append(dftest4[['Weekly_Sales']])\n",
    "    \n",
    "    X_train.append(dftrain5.drop(columns=['Date', 'Weekly_Sales']))\n",
    "    y_train.append(dftrain5[['Weekly_Sales']])\n",
    "    X_test.append(dftest5.drop(columns=['Date', 'Weekly_Sales']))\n",
    "    y_test.append(dftest5[['Weekly_Sales']])\n",
    "    \n",
    "    # Return CV test train lists\n",
    "    return X_train, y_train, X_test, y_test"
   ]
  },
  {
   "cell_type": "code",
   "execution_count": 29,
   "metadata": {},
   "outputs": [],
   "source": [
    "# Create cross-validation sets\n",
    "cvX_train0, cvy_train0, cvX_test0, cvy_test0 = cvsplit(dftrain0)\n",
    "cvX_train1, cvy_train1, cvX_test1, cvy_test1 = cvsplit(dftrain1)\n",
    "cvX_train2, cvy_train2, cvX_test2, cvy_test2 = cvsplit(dftrain2)"
   ]
  },
  {
   "cell_type": "markdown",
   "metadata": {},
   "source": [
    "### Modeling\n"
   ]
  },
  {
   "cell_type": "code",
   "execution_count": 30,
   "metadata": {},
   "outputs": [],
   "source": [
    "# Import metrics\n",
    "from sklearn.metrics import mean_squared_error\n",
    "from sklearn.metrics import r2_score"
   ]
  },
  {
   "cell_type": "code",
   "execution_count": 31,
   "metadata": {},
   "outputs": [],
   "source": [
    "# Build function for fitting model, and running metrics\n",
    "def modeling(reg, X_train, y_train, X_test, y_test, plot=True):\n",
    "    reg.fit(X_train, y_train)\n",
    "    y_pred = reg.predict(X_test)\n",
    "    try:\n",
    "        print('Best parameters: ' + str(reg.best_params_))\n",
    "    except:\n",
    "        pass\n",
    "    print('R2 training score = ' + str(round(reg.score(X_train, y_train), 4)))\n",
    "    print('R2 testing score = ' + str(round(r2_score(y_test, y_pred), 4)))\n",
    "    print('Root-mean-squared test score = ' + str(round(mean_squared_error(y_test, y_pred, squared=False))))\n",
    "    if plot == True:\n",
    "        _ = plt.figure(figsize=(10, 7))\n",
    "        _ = plt.scatter(np.ravel(y_test), y_pred)\n",
    "        _ = plt.plot([1, y_test.max()], [1, y_test.max()], c='black')\n",
    "        plt.xlabel('y Test')\n",
    "        plt.ylabel('y Prediction')\n",
    "        plt.title('y Test vs y Prediction')\n",
    "        _ = plt.show()"
   ]
  },
  {
   "cell_type": "code",
   "execution_count": 32,
   "metadata": {},
   "outputs": [],
   "source": [
    "# Build function for cross-validation modeling\n",
    "def cvmodeling(model, X_train, y_train, X_test, y_test, table=False):\n",
    "    \n",
    "    # Instantiate empty lists\n",
    "    cvnum = []\n",
    "    R2_train = []\n",
    "    R2_test = []\n",
    "    RMSE_test = []\n",
    "    \n",
    "    # For loop to collect parameters\n",
    "    for i in range(5):\n",
    "        reg = model\n",
    "        reg.fit(X_train[i], np.ravel(y_train[i]))\n",
    "        y_pred = reg.predict(X_test[i])\n",
    "        cvnum.append(i+1)\n",
    "        R2_train.append(round(reg.score(X_train[i], np.ravel(y_train[i])), 4))\n",
    "        R2_test.append(round(r2_score(y_test[i], y_pred), 4))\n",
    "        RMSE_test.append(round(mean_squared_error(y_test[i], y_pred, squared=False), 4))\n",
    "    \n",
    "    summary = pd.DataFrame({'CV_num':cvnum, 'R2_train_score':R2_train, 'R2_test_score':R2_test, 'RMSE_test_score':RMSE_test})\n",
    "    if table == True:\n",
    "        print(summary)\n",
    "    print('Mean CV R2 training score = ' + str(round(summary.R2_train_score.mean(), 4)))\n",
    "    print('Mean CV R2 testing score = ' + str(round(summary.R2_test_score.mean(), 4)))\n",
    "    print('Mean CV Root-mean-squared test score = ' + str(round(summary.RMSE_test_score.mean())))"
   ]
  },
  {
   "cell_type": "markdown",
   "metadata": {},
   "source": [
    "Let's try a standard linear regression to start"
   ]
  },
  {
   "cell_type": "code",
   "execution_count": 33,
   "metadata": {},
   "outputs": [],
   "source": [
    "# Import module\n",
    "from sklearn.linear_model import LinearRegression"
   ]
  },
  {
   "cell_type": "code",
   "execution_count": 34,
   "metadata": {},
   "outputs": [],
   "source": [
    "# Define function for linear regression cross validation\n",
    "def linregCV(store, table=False):\n",
    "        linreg = LinearRegression()\n",
    "        print('LinearRegression - CV - Store Type ' + str(store))\n",
    "        if store == 0:\n",
    "            X_train, y_train, X_test, y_test = cvX_train0, cvy_train0, cvX_test0, cvy_test0\n",
    "        elif store ==1:\n",
    "            X_train, y_train, X_test, y_test = cvX_train1, cvy_train1, cvX_test1, cvy_test1\n",
    "        else:\n",
    "            X_train, y_train, X_test, y_test = cvX_train2, cvy_train2, cvX_test2, cvy_test2\n",
    "            \n",
    "        cvmodeling(linreg, X_train, y_train, X_test, y_test, table)\n",
    "        print('\\n')"
   ]
  },
  {
   "cell_type": "code",
   "execution_count": 39,
   "metadata": {
    "scrolled": true
   },
   "outputs": [
    {
     "name": "stdout",
     "output_type": "stream",
     "text": [
      "LinearRegression - CV - Store Type 0\n",
      "   CV_num  R2_train_score  R2_test_score  RMSE_test_score\n",
      "0       1          0.8966  -3.791204e+24     3.004639e+16\n",
      "1       2          0.9000  -6.480850e+23     1.264206e+16\n",
      "2       3          0.9018  -1.313542e+22     1.798878e+15\n",
      "3       4          0.9024  -6.076139e+21     1.241335e+15\n",
      "4       5          0.9018  -5.293005e+21     1.175911e+15\n",
      "Mean CV R2 training score = 0.9005\n",
      "Mean CV R2 testing score = -8.927586343701596e+23\n",
      "Mean CV Root-mean-squared test score = 9380916230047378\n",
      "\n",
      "\n",
      "Wall time: 790 ms\n"
     ]
    }
   ],
   "source": [
    "%%time\n",
    "# Linear Regression CV on Store Type 0\n",
    "linregCV(0, True)"
   ]
  },
  {
   "cell_type": "code",
   "execution_count": 40,
   "metadata": {},
   "outputs": [
    {
     "name": "stdout",
     "output_type": "stream",
     "text": [
      "LinearRegression - CV - Store Type 1\n",
      "   CV_num  R2_train_score  R2_test_score  RMSE_test_score\n",
      "0       1          0.6331  -2.067003e+24     2.292225e+16\n",
      "1       2          0.6427  -7.095726e+24     4.241503e+16\n",
      "2       3          0.6517  -5.730013e+20     3.688910e+14\n",
      "3       4          0.6575  -3.389901e+24     2.880930e+16\n",
      "4       5          0.6643  -7.754588e+22     5.542422e+15\n",
      "Mean CV R2 training score = 0.6499\n",
      "Mean CV R2 testing score = -2.5261497983843974e+24\n",
      "Mean CV Root-mean-squared test score = 20011577119268792\n",
      "\n",
      "\n",
      "Wall time: 4.16 s\n"
     ]
    }
   ],
   "source": [
    "%%time\n",
    "# Linear Regression CV on Store Type 1\n",
    "linregCV(1, True)"
   ]
  },
  {
   "cell_type": "code",
   "execution_count": 41,
   "metadata": {},
   "outputs": [
    {
     "name": "stdout",
     "output_type": "stream",
     "text": [
      "LinearRegression - CV - Store Type 2\n",
      "   CV_num  R2_train_score  R2_test_score  RMSE_test_score\n",
      "0       1          0.7888  -3.126525e+24     4.424536e+16\n",
      "1       2          0.7952  -7.820331e+24     7.153989e+16\n",
      "2       3          0.8003  -9.655305e+21     2.484896e+15\n",
      "3       4          0.8040  -3.452033e+24     4.804678e+16\n",
      "4       5          0.8080  -1.094594e+24     2.998432e+16\n",
      "Mean CV R2 training score = 0.7993\n",
      "Mean CV R2 testing score = -3.1006275775466636e+24\n",
      "Mean CV Root-mean-squared test score = 39260248553684576\n",
      "\n",
      "\n",
      "Wall time: 5.59 s\n"
     ]
    }
   ],
   "source": [
    "%%time\n",
    "# Linear Regression CV on Store Type 2\n",
    "linregCV(2, True)"
   ]
  },
  {
   "cell_type": "markdown",
   "metadata": {},
   "source": [
    "#### Standard linear regression performed very poorly. Let's try ridge regression."
   ]
  },
  {
   "cell_type": "code",
   "execution_count": 35,
   "metadata": {},
   "outputs": [],
   "source": [
    "# Import module\n",
    "from sklearn.linear_model import Ridge"
   ]
  },
  {
   "cell_type": "code",
   "execution_count": 36,
   "metadata": {},
   "outputs": [],
   "source": [
    "# Define function for performing ridge regression cross validation for tuning of alpha\n",
    "\n",
    "def ridgeregCV(store, alphas, table=False):\n",
    "    for i in alphas:\n",
    "        ridgereg = Ridge(random_state=42, alpha=i)\n",
    "        print('Ridge Regression - CV - alpha=' + str(i) + ' - Store Type ' + str(store))\n",
    "        if store == 0:\n",
    "            X_train, y_train, X_test, y_test = cvX_train0, cvy_train0, cvX_test0, cvy_test0\n",
    "        elif store ==1:\n",
    "            X_train, y_train, X_test, y_test = cvX_train1, cvy_train1, cvX_test1, cvy_test1\n",
    "        else:\n",
    "            X_train, y_train, X_test, y_test = cvX_train2, cvy_train2, cvX_test2, cvy_test2\n",
    "            \n",
    "        cvmodeling(ridgereg, X_train, y_train, X_test, y_test, table)\n",
    "        print('\\n')"
   ]
  },
  {
   "cell_type": "code",
   "execution_count": 37,
   "metadata": {},
   "outputs": [],
   "source": [
    "# Define function for modeling ridge regression on full training data after CV hypterparameter tuning\n",
    "\n",
    "def ridgemodel(store, alpha, plot=True):\n",
    "    ridgereg = Ridge(random_state=42, alpha=alpha)\n",
    "    print('Ridge Regression - alpha=' + str(alpha) + ' - Store Type ' + str(store))\n",
    "    if store == 0:\n",
    "        X_train, y_train, X_test, y_test = X_train0, y_train0, X_test0, y_test0\n",
    "    elif store ==1:\n",
    "        X_train, y_train, X_test, y_test = X_train1, y_train1, X_test1, y_test1\n",
    "    else:\n",
    "        X_train, y_train, X_test, y_test = X_train2, y_train2, X_test2, y_test2\n",
    "    modeling(ridgereg, X_train, y_train, X_test, y_test, plot)"
   ]
  },
  {
   "cell_type": "code",
   "execution_count": 46,
   "metadata": {
    "scrolled": true
   },
   "outputs": [
    {
     "name": "stdout",
     "output_type": "stream",
     "text": [
      "Ridge Regression - CV - alpha=0.001 - Store Type 0\n",
      "Mean CV R2 training score = 0.9005\n",
      "Mean CV R2 testing score = 0.9051\n",
      "Mean CV Root-mean-squared test score = 4862\n",
      "\n",
      "\n",
      "Ridge Regression - CV - alpha=0.01 - Store Type 0\n",
      "Mean CV R2 training score = 0.9005\n",
      "Mean CV R2 testing score = 0.9054\n",
      "Mean CV Root-mean-squared test score = 4854\n",
      "\n",
      "\n",
      "Ridge Regression - CV - alpha=0.1 - Store Type 0\n",
      "Mean CV R2 training score = 0.9005\n",
      "Mean CV R2 testing score = 0.9061\n",
      "Mean CV Root-mean-squared test score = 4836\n",
      "\n",
      "\n",
      "Ridge Regression - CV - alpha=1 - Store Type 0\n",
      "Mean CV R2 training score = 0.9005\n",
      "Mean CV R2 testing score = 0.9061\n",
      "Mean CV Root-mean-squared test score = 4836\n",
      "\n",
      "\n",
      "Ridge Regression - CV - alpha=10 - Store Type 0\n",
      "Mean CV R2 training score = 0.8995\n",
      "Mean CV R2 testing score = 0.9038\n",
      "Mean CV Root-mean-squared test score = 4896\n",
      "\n",
      "\n",
      "Ridge Regression - CV - alpha=100 - Store Type 0\n",
      "Mean CV R2 training score = 0.8581\n",
      "Mean CV R2 testing score = 0.8555\n",
      "Mean CV Root-mean-squared test score = 5998\n",
      "\n",
      "\n",
      "Ridge Regression - CV - alpha=1000 - Store Type 0\n",
      "Mean CV R2 training score = 0.4386\n",
      "Mean CV R2 testing score = 0.4298\n",
      "Mean CV Root-mean-squared test score = 11906\n",
      "\n",
      "\n",
      "Wall time: 3.5 s\n"
     ]
    }
   ],
   "source": [
    "%%time\n",
    "ridgeregCV(0, [0.001, 0.01, 0.1, 1, 10, 100, 1000])"
   ]
  },
  {
   "cell_type": "code",
   "execution_count": 47,
   "metadata": {},
   "outputs": [
    {
     "name": "stdout",
     "output_type": "stream",
     "text": [
      "Ridge Regression - alpha=1 - Store Type 0\n",
      "R2 training score = 0.9016\n",
      "R2 testing score = 0.9214\n",
      "Root-mean-squared test score = 4595.0\n"
     ]
    },
    {
     "data": {
      "image/png": "[encoded data removed]",
      "text/plain": [
       "<Figure size 720x504 with 1 Axes>"
      ]
     },
     "metadata": {},
     "output_type": "display_data"
    }
   ],
   "source": [
    "# Pick best parameters and model  \n",
    "ridgemodel(store=0, alpha=1, plot=True)"
   ]
  },
  {
   "cell_type": "code",
   "execution_count": 48,
   "metadata": {
    "scrolled": true
   },
   "outputs": [
    {
     "name": "stdout",
     "output_type": "stream",
     "text": [
      "Ridge Regression - CV - alpha=0.001 - Store Type 1\n",
      "Mean CV R2 training score = 0.65\n",
      "Mean CV R2 testing score = 0.6559\n",
      "Mean CV Root-mean-squared test score = 9718\n",
      "\n",
      "\n",
      "Ridge Regression - CV - alpha=0.01 - Store Type 1\n",
      "Mean CV R2 training score = 0.65\n",
      "Mean CV R2 testing score = 0.6579\n",
      "Mean CV Root-mean-squared test score = 9693\n",
      "\n",
      "\n",
      "Ridge Regression - CV - alpha=0.1 - Store Type 1\n",
      "Mean CV R2 training score = 0.65\n",
      "Mean CV R2 testing score = 0.6678\n",
      "Mean CV Root-mean-squared test score = 9572\n",
      "\n",
      "\n",
      "Ridge Regression - CV - alpha=1 - Store Type 1\n",
      "Mean CV R2 training score = 0.6499\n",
      "Mean CV R2 testing score = 0.6767\n",
      "Mean CV Root-mean-squared test score = 9456\n",
      "\n",
      "\n",
      "Ridge Regression - CV - alpha=10 - Store Type 1\n",
      "Mean CV R2 training score = 0.6492\n",
      "Mean CV R2 testing score = 0.6805\n",
      "Mean CV Root-mean-squared test score = 9405\n",
      "\n",
      "\n",
      "Ridge Regression - CV - alpha=100 - Store Type 1\n",
      "Mean CV R2 training score = 0.642\n",
      "Mean CV R2 testing score = 0.6825\n",
      "Mean CV Root-mean-squared test score = 9380\n",
      "\n",
      "\n",
      "Ridge Regression - CV - alpha=1000 - Store Type 1\n",
      "Mean CV R2 training score = 0.5093\n",
      "Mean CV R2 testing score = 0.548\n",
      "Mean CV Root-mean-squared test score = 11173\n",
      "\n",
      "\n",
      "Wall time: 11.9 s\n"
     ]
    }
   ],
   "source": [
    "%%time\n",
    "ridgeregCV(1, [0.001, 0.01, 0.1, 1, 10, 100, 1000])"
   ]
  },
  {
   "cell_type": "code",
   "execution_count": 49,
   "metadata": {},
   "outputs": [
    {
     "name": "stdout",
     "output_type": "stream",
     "text": [
      "Ridge Regression - alpha=100 - Store Type 1\n",
      "R2 training score = 0.6403\n",
      "R2 testing score = 0.7252\n",
      "Root-mean-squared test score = 8302.0\n"
     ]
    },
    {
     "data": {
      "image/png": "[encoded data removed]",
      "text/plain": [
       "<Figure size 720x504 with 1 Axes>"
      ]
     },
     "metadata": {},
     "output_type": "display_data"
    }
   ],
   "source": [
    "# Pick best parameters and model  \n",
    "ridgemodel(store=1, alpha=100, plot=True)"
   ]
  },
  {
   "cell_type": "code",
   "execution_count": 50,
   "metadata": {
    "scrolled": true
   },
   "outputs": [
    {
     "name": "stdout",
     "output_type": "stream",
     "text": [
      "Ridge Regression - CV - alpha=0.001 - Store Type 2\n",
      "Mean CV R2 training score = 0.7993\n",
      "Mean CV R2 testing score = 0.8166\n",
      "Mean CV Root-mean-squared test score = 11174\n",
      "\n",
      "\n",
      "Ridge Regression - CV - alpha=0.01 - Store Type 2\n",
      "Mean CV R2 training score = 0.7993\n",
      "Mean CV R2 testing score = 0.8168\n",
      "Mean CV Root-mean-squared test score = 11169\n",
      "\n",
      "\n",
      "Ridge Regression - CV - alpha=0.1 - Store Type 2\n",
      "Mean CV R2 training score = 0.7993\n",
      "Mean CV R2 testing score = 0.8173\n",
      "Mean CV Root-mean-squared test score = 11151\n",
      "\n",
      "\n",
      "Ridge Regression - CV - alpha=1 - Store Type 2\n",
      "Mean CV R2 training score = 0.7993\n",
      "Mean CV R2 testing score = 0.8177\n",
      "Mean CV Root-mean-squared test score = 11141\n",
      "\n",
      "\n",
      "Ridge Regression - CV - alpha=10 - Store Type 2\n",
      "Mean CV R2 training score = 0.799\n",
      "Mean CV R2 testing score = 0.8176\n",
      "Mean CV Root-mean-squared test score = 11145\n",
      "\n",
      "\n",
      "Ridge Regression - CV - alpha=100 - Store Type 2\n",
      "Mean CV R2 training score = 0.7936\n",
      "Mean CV R2 testing score = 0.8117\n",
      "Mean CV Root-mean-squared test score = 11324\n",
      "\n",
      "\n",
      "Ridge Regression - CV - alpha=1000 - Store Type 2\n",
      "Mean CV R2 training score = 0.6555\n",
      "Mean CV R2 testing score = 0.6666\n",
      "Mean CV Root-mean-squared test score = 15059\n",
      "\n",
      "\n",
      "Wall time: 15.4 s\n"
     ]
    }
   ],
   "source": [
    "%%time\n",
    "ridgeregCV(2, [0.001, 0.01, 0.1, 1, 10, 100, 1000])"
   ]
  },
  {
   "cell_type": "code",
   "execution_count": 51,
   "metadata": {},
   "outputs": [
    {
     "name": "stdout",
     "output_type": "stream",
     "text": [
      "Ridge Regression - alpha=10 - Store Type 2\n",
      "R2 training score = 0.7973\n",
      "R2 testing score = 0.8357\n",
      "Root-mean-squared test score = 10568.0\n"
     ]
    },
    {
     "data": {
      "image/png": "[encoded data removed]",
      "text/plain": [
       "<Figure size 720x504 with 1 Axes>"
      ]
     },
     "metadata": {},
     "output_type": "display_data"
    }
   ],
   "source": [
    "# Pick best parameters and model  \n",
    "ridgemodel(store=2, alpha=10, plot=True)"
   ]
  },
  {
   "cell_type": "markdown",
   "metadata": {},
   "source": [
    "#### Let's try Random Forest and see how it does"
   ]
  },
  {
   "cell_type": "code",
   "execution_count": 38,
   "metadata": {},
   "outputs": [],
   "source": [
    "from sklearn.ensemble import RandomForestRegressor"
   ]
  },
  {
   "cell_type": "code",
   "execution_count": 39,
   "metadata": {},
   "outputs": [],
   "source": [
    "# Define function for performing random forest cross validation for tuning of max_depth\n",
    "\n",
    "def rfCV(store, tuneparam=None, param_value=None, max_depth=None, min_samples_split=2, min_samples_leaf=1, \\\n",
    "         min_weight_fraction_leaf=0, n_jobs=-1, max_features='auto', table=False):\n",
    "    if param_value == None:\n",
    "        \n",
    "        rfreg = RandomForestRegressor(random_state=42, max_depth=max_depth, min_samples_split=min_samples_split, \\\n",
    "                                      min_samples_leaf=min_samples_leaf, min_weight_fraction_leaf=min_weight_fraction, \\\n",
    "                                      max_features=max_features, n_jobs=n_jobs)\n",
    "        \n",
    "        print('Random Forest Regression - CV - Store Type ' + str(store))\n",
    "        print('max_depth = ' + str(max_depth))\n",
    "        print('min_samples_split = ' + str(min_samples_split))\n",
    "        print('min_samples_leaf = ' + str(min_samples_leaf))\n",
    "        print('min_weight_fraction_leaf = ' + str(min_weight_fraction_leaf))\n",
    "        print('max_features = ' + str(max_features))\n",
    "        \n",
    "        if store == 0:\n",
    "            X_train, y_train, X_test, y_test = cvX_train0, cvy_train0, cvX_test0, cvy_test0\n",
    "        elif store ==1:\n",
    "            X_train, y_train, X_test, y_test = cvX_train1, cvy_train1, cvX_test1, cvy_test1\n",
    "        else:\n",
    "            X_train, y_train, X_test, y_test = cvX_train2, cvy_train2, cvX_test2, cvy_test2\n",
    "            \n",
    "        cvmodeling(rfreg, X_train, y_train, X_test, y_test, table)\n",
    "        print('\\n')\n",
    "        \n",
    "    else:\n",
    "        for i in param_value:\n",
    "        \n",
    "            if tuneparam == 'max_depth':\n",
    "                rfreg = RandomForestRegressor(random_state=42, max_depth=i, min_samples_split=min_samples_split, \\\n",
    "                                              min_samples_leaf=min_samples_leaf, \\\n",
    "                                              min_weight_fraction_leaf=min_weight_fraction_leaf, \\\n",
    "                                              max_features=max_features, n_jobs=n_jobs)\n",
    "                print('Random Forest Regression - CV - Store Type ' + str(store))\n",
    "                print('max_depth = ' + str(i))\n",
    "                print('min_samples_split = ' + str(min_samples_split))\n",
    "                print('min_samples_leaf = ' + str(min_samples_leaf))\n",
    "                print('min_weight_fraction_leaf = ' + str(min_weight_fraction_leaf))\n",
    "                print('max_features = ' + str(max_features))                \n",
    "                \n",
    "            elif tuneparam == 'min_samples_split':\n",
    "                rfreg = RandomForestRegressor(random_state=42, max_depth=max_depth, \\\n",
    "                                              min_samples_split=i, \\\n",
    "                                              min_samples_leaf=min_samples_leaf, \\\n",
    "                                              min_weight_fraction_leaf=min_weight_fraction_leaf, \\\n",
    "                                              max_features=max_features, n_jobs=n_jobs)\n",
    "                print('Random Forest Regression - CV - Store Type ' + str(store))\n",
    "                print('max_depth = ' + str(max_depth))\n",
    "                print('min_samples_split = ' + str(i))\n",
    "                print('min_samples_leaf = ' + str(min_samples_leaf))\n",
    "                print('min_weight_fraction_leaf = ' + str(min_weight_fraction_leaf))\n",
    "                print('max_features = ' + str(max_features))\n",
    "                \n",
    "            elif tuneparam == 'min_samples_leaf':\n",
    "                rfreg = RandomForestRegressor(random_state=42, max_depth=max_depth, \\\n",
    "                                              min_samples_split=min_samples_split, \\\n",
    "                                              min_samples_leaf=i, \\\n",
    "                                              min_weight_fraction_leaf=min_weight_fraction_leaf, \\\n",
    "                                              max_features=max_features, n_jobs=n_jobs)\n",
    "                print('Random Forest Regression - CV - Store Type ' + str(store))\n",
    "                print('max_depth = ' + str(max_depth))\n",
    "                print('min_samples_split = ' + str(min_samples_split))\n",
    "                print('min_samples_leaf = ' + str(i))\n",
    "                print('min_weight_fraction_leaf = ' + str(min_weight_fraction_leaf))\n",
    "                print('max_features = ' + str(max_features))  \n",
    "                \n",
    "            elif tuneparam == 'min_weight_fraction_leaf':\n",
    "                rfreg = RandomForestRegressor(random_state=42, max_depth=max_depth, \\\n",
    "                                              min_samples_split=min_samples_split, \\\n",
    "                                              min_samples_leaf=min_samples_leaf, \\\n",
    "                                              min_weight_fraction_leaf=i, \\\n",
    "                                              max_features=max_features, n_jobs=n_jobs)\n",
    "                print('Random Forest Regression - CV - Store Type ' + str(store))\n",
    "                print('max_depth = ' + str(max_depth))\n",
    "                print('min_samples_split = ' + str(min_samples_split))\n",
    "                print('min_samples_leaf = ' + str(min_samples_leaf))\n",
    "                print('min_weight_fraction_leaf = ' + str(i))\n",
    "                print('max_features = ' + str(max_features))\n",
    "                \n",
    "            elif tuneparam == 'max_features':\n",
    "                rfreg = RandomForestRegressor(random_state=42, max_depth=max_depth, \\\n",
    "                                              min_samples_split=min_samples_split, \\\n",
    "                                              min_samples_leaf=min_samples_leaf, \\\n",
    "                                              min_weight_fraction_leaf=min_weight_fraction_leaf, \\\n",
    "                                              max_features=i, n_jobs=n_jobs)\n",
    "                print('Random Forest Regression - CV - Store Type ' + str(store))\n",
    "                print('max_depth = ' + str(max_depth))\n",
    "                print('min_samples_split = ' + str(min_samples_split))\n",
    "                print('min_samples_leaf = ' + str(min_samples_leaf))\n",
    "                print('min_weight_fraction_leaf = ' + str(min_weight_fraction_leaf))\n",
    "                print('max_features = ' + str(i))\n",
    "            \n",
    "       \n",
    "            if store == 0:\n",
    "                X_train, y_train, X_test, y_test = cvX_train0, cvy_train0, cvX_test0, cvy_test0\n",
    "            elif store ==1:\n",
    "                X_train, y_train, X_test, y_test = cvX_train1, cvy_train1, cvX_test1, cvy_test1\n",
    "            else:\n",
    "                X_train, y_train, X_test, y_test = cvX_train2, cvy_train2, cvX_test2, cvy_test2\n",
    "            \n",
    "            cvmodeling(rfreg, X_train, y_train, X_test, y_test, table)\n",
    "            print('\\n')"
   ]
  },
  {
   "cell_type": "code",
   "execution_count": 40,
   "metadata": {},
   "outputs": [],
   "source": [
    "# Define function for modeling random forest regression on full training data after CV hypterparameter tuning\n",
    "\n",
    "def rfmodel(store, max_depth=None, min_samples_split=2, min_samples_leaf=1, min_weight_fraction_leaf=0, \\\n",
    "            max_features='auto', n_jobs=-1, plot=True):\n",
    "    \n",
    "    rfreg = RandomForestRegressor(random_state=42, max_depth=max_depth, \\\n",
    "                                  min_samples_split=min_samples_split, \\\n",
    "                                  min_samples_leaf=min_samples_leaf, \\\n",
    "                                  min_weight_fraction_leaf=min_weight_fraction_leaf, \\\n",
    "                                  max_features=max_features, n_jobs=n_jobs)\n",
    "    \n",
    "    print('Random Forest Regression - Store Type ' + str(store))\n",
    "    print('max_depth = ' + str(max_depth))\n",
    "    print('min_samples_split = ' + str(min_samples_split))\n",
    "    print('min_samples_leaf = ' + str(min_samples_leaf))\n",
    "    print('min_weight_fraction_leaf = ' + str(min_weight_fraction_leaf))\n",
    "    print('max_features = ' + str(max_features))\n",
    "    \n",
    "    if store == 0:\n",
    "        X_train, y_train, X_test, y_test = X_train0, y_train0, X_test0, y_test0\n",
    "    elif store ==1:\n",
    "        X_train, y_train, X_test, y_test = X_train1, y_train1, X_test1, y_test1\n",
    "    else:\n",
    "        X_train, y_train, X_test, y_test = X_train2, y_train2, X_test2, y_test2\n",
    "    modeling(rfreg, X_train, np.ravel(y_train), X_test, np.ravel(y_test), plot)"
   ]
  },
  {
   "cell_type": "markdown",
   "metadata": {},
   "source": [
    "Store Type 0"
   ]
  },
  {
   "cell_type": "code",
   "execution_count": 62,
   "metadata": {
    "scrolled": true
   },
   "outputs": [
    {
     "name": "stdout",
     "output_type": "stream",
     "text": [
      "Random Forest Regression - CV - max_depth=20 - Store Type 0\n",
      "Mean CV R2 training score = 0.9893\n",
      "Mean CV R2 testing score = 0.9749\n",
      "Mean CV Root-mean-squared test score = 2494\n",
      "\n",
      "\n",
      "Random Forest Regression - CV - max_depth=40 - Store Type 0\n",
      "Mean CV R2 training score = 0.9921\n",
      "Mean CV R2 testing score = 0.9767\n",
      "Mean CV Root-mean-squared test score = 2400\n",
      "\n",
      "\n",
      "Random Forest Regression - CV - max_depth=60 - Store Type 0\n",
      "Mean CV R2 training score = 0.9975\n",
      "Mean CV R2 testing score = 0.9805\n",
      "Mean CV Root-mean-squared test score = 2190\n",
      "\n",
      "\n",
      "Random Forest Regression - CV - max_depth=80 - Store Type 0\n",
      "Mean CV R2 training score = 0.9981\n",
      "Mean CV R2 testing score = 0.9808\n",
      "Mean CV Root-mean-squared test score = 2169\n",
      "\n",
      "\n",
      "Random Forest Regression - CV - max_depth=100 - Store Type 0\n",
      "Mean CV R2 training score = 0.9981\n",
      "Mean CV R2 testing score = 0.9808\n",
      "Mean CV Root-mean-squared test score = 2169\n",
      "\n",
      "\n",
      "Random Forest Regression - CV - max_depth=None - Store Type 0\n",
      "Mean CV R2 training score = 0.9981\n",
      "Mean CV R2 testing score = 0.9808\n",
      "Mean CV Root-mean-squared test score = 2169\n",
      "\n",
      "\n",
      "Wall time: 4min 59s\n"
     ]
    }
   ],
   "source": [
    "%%time\n",
    "# CV hyperparameter tuning of max_depth for Store Type 0\n",
    "rfCV(store=0, tuneparam='max_depth', param_value=[20, 40, 60, 80, 100, None])"
   ]
  },
  {
   "cell_type": "markdown",
   "metadata": {},
   "source": [
    "Let's use max_depth = 60"
   ]
  },
  {
   "cell_type": "code",
   "execution_count": 63,
   "metadata": {
    "scrolled": true
   },
   "outputs": [
    {
     "name": "stdout",
     "output_type": "stream",
     "text": [
      "Random Forest Regression - CV - Store Type 0\n",
      "max_depth = 60\n",
      "min_samples_split = 2\n",
      "min_samples_leaf = 1\n",
      "min_weight_fraction_leaf = 0\n",
      "max_features = auto\n",
      "Mean CV R2 training score = 0.9975\n",
      "Mean CV R2 testing score = 0.9805\n",
      "Mean CV Root-mean-squared test score = 2190\n",
      "\n",
      "\n",
      "Random Forest Regression - CV - Store Type 0\n",
      "max_depth = 60\n",
      "min_samples_split = 5\n",
      "min_samples_leaf = 1\n",
      "min_weight_fraction_leaf = 0\n",
      "max_features = auto\n",
      "Mean CV R2 training score = 0.9969\n",
      "Mean CV R2 testing score = 0.9804\n",
      "Mean CV Root-mean-squared test score = 2194\n",
      "\n",
      "\n",
      "Random Forest Regression - CV - Store Type 0\n",
      "max_depth = 60\n",
      "min_samples_split = 10\n",
      "min_samples_leaf = 1\n",
      "min_weight_fraction_leaf = 0\n",
      "max_features = auto\n",
      "Mean CV R2 training score = 0.9957\n",
      "Mean CV R2 testing score = 0.9806\n",
      "Mean CV Root-mean-squared test score = 2184\n",
      "\n",
      "\n",
      "Random Forest Regression - CV - Store Type 0\n",
      "max_depth = 60\n",
      "min_samples_split = 15\n",
      "min_samples_leaf = 1\n",
      "min_weight_fraction_leaf = 0\n",
      "max_features = auto\n",
      "Mean CV R2 training score = 0.9945\n",
      "Mean CV R2 testing score = 0.9805\n",
      "Mean CV Root-mean-squared test score = 2188\n",
      "\n",
      "\n",
      "Random Forest Regression - CV - Store Type 0\n",
      "max_depth = 60\n",
      "min_samples_split = 20\n",
      "min_samples_leaf = 1\n",
      "min_weight_fraction_leaf = 0\n",
      "max_features = auto\n",
      "Mean CV R2 training score = 0.9933\n",
      "Mean CV R2 testing score = 0.9804\n",
      "Mean CV Root-mean-squared test score = 2198\n",
      "\n",
      "\n",
      "Random Forest Regression - CV - Store Type 0\n",
      "max_depth = 60\n",
      "min_samples_split = 25\n",
      "min_samples_leaf = 1\n",
      "min_weight_fraction_leaf = 0\n",
      "max_features = auto\n",
      "Mean CV R2 training score = 0.9921\n",
      "Mean CV R2 testing score = 0.9799\n",
      "Mean CV Root-mean-squared test score = 2221\n",
      "\n",
      "\n",
      "Random Forest Regression - CV - Store Type 0\n",
      "max_depth = 60\n",
      "min_samples_split = 30\n",
      "min_samples_leaf = 1\n",
      "min_weight_fraction_leaf = 0\n",
      "max_features = auto\n",
      "Mean CV R2 training score = 0.991\n",
      "Mean CV R2 testing score = 0.9796\n",
      "Mean CV Root-mean-squared test score = 2241\n",
      "\n",
      "\n",
      "Random Forest Regression - CV - Store Type 0\n",
      "max_depth = 60\n",
      "min_samples_split = 35\n",
      "min_samples_leaf = 1\n",
      "min_weight_fraction_leaf = 0\n",
      "max_features = auto\n",
      "Mean CV R2 training score = 0.9897\n",
      "Mean CV R2 testing score = 0.9789\n",
      "Mean CV Root-mean-squared test score = 2276\n",
      "\n",
      "\n",
      "Random Forest Regression - CV - Store Type 0\n",
      "max_depth = 60\n",
      "min_samples_split = 40\n",
      "min_samples_leaf = 1\n",
      "min_weight_fraction_leaf = 0\n",
      "max_features = auto\n",
      "Mean CV R2 training score = 0.9886\n",
      "Mean CV R2 testing score = 0.9783\n",
      "Mean CV Root-mean-squared test score = 2309\n",
      "\n",
      "\n",
      "Wall time: 7min 26s\n"
     ]
    }
   ],
   "source": [
    "%%time\n",
    "# CV hyperparameter tuning of min_samples_split for Store Type 0\n",
    "rfCV(store=0, tuneparam='min_samples_split', param_value=[2, 5, 10, 15, 20, 25, 30, 35, 40], max_depth=60)"
   ]
  },
  {
   "cell_type": "markdown",
   "metadata": {},
   "source": [
    "Let's use min_samples_split = 10"
   ]
  },
  {
   "cell_type": "code",
   "execution_count": 67,
   "metadata": {
    "scrolled": true
   },
   "outputs": [
    {
     "name": "stdout",
     "output_type": "stream",
     "text": [
      "Random Forest Regression - CV - Store Type 0\n",
      "max_depth = 60\n",
      "min_samples_split = 10\n",
      "min_samples_leaf = 1\n",
      "min_weight_fraction_leaf = 0\n",
      "max_features = auto\n",
      "Mean CV R2 training score = 0.9957\n",
      "Mean CV R2 testing score = 0.9806\n",
      "Mean CV Root-mean-squared test score = 2184\n",
      "\n",
      "\n",
      "Random Forest Regression - CV - Store Type 0\n",
      "max_depth = 60\n",
      "min_samples_split = 10\n",
      "min_samples_leaf = 5\n",
      "min_weight_fraction_leaf = 0\n",
      "max_features = auto\n",
      "Mean CV R2 training score = 0.9917\n",
      "Mean CV R2 testing score = 0.9788\n",
      "Mean CV Root-mean-squared test score = 2283\n",
      "\n",
      "\n",
      "Random Forest Regression - CV - Store Type 0\n",
      "max_depth = 60\n",
      "min_samples_split = 10\n",
      "min_samples_leaf = 10\n",
      "min_weight_fraction_leaf = 0\n",
      "max_features = auto\n",
      "Mean CV R2 training score = 0.9888\n",
      "Mean CV R2 testing score = 0.978\n",
      "Mean CV Root-mean-squared test score = 2325\n",
      "\n",
      "\n",
      "Random Forest Regression - CV - Store Type 0\n",
      "max_depth = 60\n",
      "min_samples_split = 10\n",
      "min_samples_leaf = 15\n",
      "min_weight_fraction_leaf = 0\n",
      "max_features = auto\n",
      "Mean CV R2 training score = 0.9875\n",
      "Mean CV R2 testing score = 0.9773\n",
      "Mean CV Root-mean-squared test score = 2365\n",
      "\n",
      "\n",
      "Random Forest Regression - CV - Store Type 0\n",
      "max_depth = 60\n",
      "min_samples_split = 10\n",
      "min_samples_leaf = 20\n",
      "min_weight_fraction_leaf = 0\n",
      "max_features = auto\n",
      "Mean CV R2 training score = 0.986\n",
      "Mean CV R2 testing score = 0.9763\n",
      "Mean CV Root-mean-squared test score = 2419\n",
      "\n",
      "\n",
      "Wall time: 3min 44s\n"
     ]
    }
   ],
   "source": [
    "%%time\n",
    "# CV hyperparameter tuning of min_samples_leaf for Store Type 0\n",
    "rfCV(store=0, tuneparam='min_samples_leaf', param_value=[1, 5, 10, 15, 20], max_depth=60, min_samples_split=10)"
   ]
  },
  {
   "cell_type": "markdown",
   "metadata": {},
   "source": [
    "Let's use min_samples_leaf = 1"
   ]
  },
  {
   "cell_type": "code",
   "execution_count": 71,
   "metadata": {
    "scrolled": true
   },
   "outputs": [
    {
     "name": "stdout",
     "output_type": "stream",
     "text": [
      "Random Forest Regression - CV - Store Type 0\n",
      "max_depth = 60\n",
      "min_samples_split = 10\n",
      "min_samples_leaf = 1\n",
      "min_weight_fraction_leaf = 0\n",
      "max_features = auto\n",
      "Mean CV R2 training score = 0.9957\n",
      "Mean CV R2 testing score = 0.9806\n",
      "Mean CV Root-mean-squared test score = 2184\n",
      "\n",
      "\n",
      "Random Forest Regression - CV - Store Type 0\n",
      "max_depth = 60\n",
      "min_samples_split = 10\n",
      "min_samples_leaf = 1\n",
      "min_weight_fraction_leaf = 0.0001\n",
      "max_features = auto\n",
      "Mean CV R2 training score = 0.9945\n",
      "Mean CV R2 testing score = 0.98\n",
      "Mean CV Root-mean-squared test score = 2214\n",
      "\n",
      "\n",
      "Random Forest Regression - CV - Store Type 0\n",
      "max_depth = 60\n",
      "min_samples_split = 10\n",
      "min_samples_leaf = 1\n",
      "min_weight_fraction_leaf = 0.0005\n",
      "max_features = auto\n",
      "Mean CV R2 training score = 0.9907\n",
      "Mean CV R2 testing score = 0.9784\n",
      "Mean CV Root-mean-squared test score = 2305\n",
      "\n",
      "\n",
      "Random Forest Regression - CV - Store Type 0\n",
      "max_depth = 60\n",
      "min_samples_split = 10\n",
      "min_samples_leaf = 1\n",
      "min_weight_fraction_leaf = 0.001\n",
      "max_features = auto\n",
      "Mean CV R2 training score = 0.9882\n",
      "Mean CV R2 testing score = 0.9773\n",
      "Mean CV Root-mean-squared test score = 2362\n",
      "\n",
      "\n",
      "Random Forest Regression - CV - Store Type 0\n",
      "max_depth = 60\n",
      "min_samples_split = 10\n",
      "min_samples_leaf = 1\n",
      "min_weight_fraction_leaf = 0.005\n",
      "max_features = auto\n",
      "Mean CV R2 training score = 0.9442\n",
      "Mean CV R2 testing score = 0.9274\n",
      "Mean CV Root-mean-squared test score = 4233\n",
      "\n",
      "\n",
      "Wall time: 3min 48s\n"
     ]
    }
   ],
   "source": [
    "%%time\n",
    "# CV hyperparameter tuning of min_weight_fraction_leaf for Store Type 0\n",
    "rfCV(store=0, tuneparam='min_weight_fraction_leaf', param_value=[0, 0.0001, 0.0005, 0.001, 0.005], max_depth=60, \\\n",
    "     min_samples_split=10, min_samples_leaf=1)"
   ]
  },
  {
   "cell_type": "markdown",
   "metadata": {},
   "source": [
    "We'll leave min_weight_fraction_leaf = 0"
   ]
  },
  {
   "cell_type": "code",
   "execution_count": 72,
   "metadata": {
    "scrolled": true
   },
   "outputs": [
    {
     "name": "stdout",
     "output_type": "stream",
     "text": [
      "Random Forest Regression - CV - Store Type 0\n",
      "max_depth = 60\n",
      "min_samples_split = 10\n",
      "min_samples_leaf = 1\n",
      "min_weight_fraction_leaf = 0\n",
      "max_features = auto\n",
      "Mean CV R2 training score = 0.9957\n",
      "Mean CV R2 testing score = 0.9806\n",
      "Mean CV Root-mean-squared test score = 2184\n",
      "\n",
      "\n",
      "Random Forest Regression - CV - Store Type 0\n",
      "max_depth = 60\n",
      "min_samples_split = 10\n",
      "min_samples_leaf = 1\n",
      "min_weight_fraction_leaf = 0\n",
      "max_features = sqrt\n",
      "Mean CV R2 training score = 0.9899\n",
      "Mean CV R2 testing score = 0.9747\n",
      "Mean CV Root-mean-squared test score = 2505\n",
      "\n",
      "\n",
      "Random Forest Regression - CV - Store Type 0\n",
      "max_depth = 60\n",
      "min_samples_split = 10\n",
      "min_samples_leaf = 1\n",
      "min_weight_fraction_leaf = 0\n",
      "max_features = log2\n",
      "Mean CV R2 training score = 0.9769\n",
      "Mean CV R2 testing score = 0.957\n",
      "Mean CV Root-mean-squared test score = 3269\n",
      "\n",
      "\n",
      "Wall time: 1min 6s\n"
     ]
    }
   ],
   "source": [
    "%%time\n",
    "# CV hyperparameter tuning of max_depth for Store Type 0\n",
    "rfCV(store=0, tuneparam='max_features', param_value=['auto', 'sqrt', 'log2'], max_depth=60, \\\n",
    "     min_samples_split=10, min_samples_leaf=1, min_weight_fraction_leaf=0)"
   ]
  },
  {
   "cell_type": "markdown",
   "metadata": {},
   "source": [
    "We'll leave max_features as 'auto'"
   ]
  },
  {
   "cell_type": "code",
   "execution_count": 75,
   "metadata": {},
   "outputs": [
    {
     "name": "stdout",
     "output_type": "stream",
     "text": [
      "Random Forest Regression - Store Type 0\n",
      "max_depth = 60\n",
      "min_samples_split = 10\n",
      "min_samples_leaf = 1\n",
      "min_weight_fraction_leaf = 0\n",
      "max_features = auto\n",
      "R2 training score = 0.9953\n",
      "R2 testing score = 0.9778\n",
      "Root-mean-squared test score = 2441.0\n"
     ]
    },
    {
     "data": {
      "image/png": "[encoded data removed]",
      "text/plain": [
       "<Figure size 720x504 with 1 Axes>"
      ]
     },
     "metadata": {},
     "output_type": "display_data"
    },
    {
     "name": "stdout",
     "output_type": "stream",
     "text": [
      "Wall time: 18.2 s\n"
     ]
    }
   ],
   "source": [
    "%%time\n",
    "# Model full training data for Store Type 0\n",
    "rfmodel(0, max_depth=60, min_samples_split=10)"
   ]
  },
  {
   "cell_type": "markdown",
   "metadata": {},
   "source": [
    "Store Type 1"
   ]
  },
  {
   "cell_type": "code",
   "execution_count": 76,
   "metadata": {
    "scrolled": true
   },
   "outputs": [
    {
     "name": "stdout",
     "output_type": "stream",
     "text": [
      "Random Forest Regression - CV - Store Type 1\n",
      "max_depth = 20\n",
      "min_samples_split = 2\n",
      "min_samples_leaf = 1\n",
      "min_weight_fraction_leaf = 0\n",
      "max_features = auto\n",
      "Mean CV R2 training score = 0.8677\n",
      "Mean CV R2 testing score = 0.8024\n",
      "Mean CV Root-mean-squared test score = 7243\n",
      "\n",
      "\n",
      "Random Forest Regression - CV - Store Type 1\n",
      "max_depth = 40\n",
      "min_samples_split = 2\n",
      "min_samples_leaf = 1\n",
      "min_weight_fraction_leaf = 0\n",
      "max_features = auto\n",
      "Mean CV R2 training score = 0.9543\n",
      "Mean CV R2 testing score = 0.8645\n",
      "Mean CV Root-mean-squared test score = 5730\n",
      "\n",
      "\n",
      "Random Forest Regression - CV - Store Type 1\n",
      "max_depth = 60\n",
      "min_samples_split = 2\n",
      "min_samples_leaf = 1\n",
      "min_weight_fraction_leaf = 0\n",
      "max_features = auto\n",
      "Mean CV R2 training score = 0.968\n",
      "Mean CV R2 testing score = 0.8672\n",
      "Mean CV Root-mean-squared test score = 5538\n",
      "\n",
      "\n",
      "Random Forest Regression - CV - Store Type 1\n",
      "max_depth = 80\n",
      "min_samples_split = 2\n",
      "min_samples_leaf = 1\n",
      "min_weight_fraction_leaf = 0\n",
      "max_features = auto\n",
      "Mean CV R2 training score = 0.983\n",
      "Mean CV R2 testing score = 0.8699\n",
      "Mean CV Root-mean-squared test score = 5349\n",
      "\n",
      "\n",
      "Random Forest Regression - CV - Store Type 1\n",
      "max_depth = 100\n",
      "min_samples_split = 2\n",
      "min_samples_leaf = 1\n",
      "min_weight_fraction_leaf = 0\n",
      "max_features = auto\n",
      "Mean CV R2 training score = 0.9854\n",
      "Mean CV R2 testing score = 0.8684\n",
      "Mean CV Root-mean-squared test score = 5383\n",
      "\n",
      "\n",
      "Random Forest Regression - CV - Store Type 1\n",
      "max_depth = None\n",
      "min_samples_split = 2\n",
      "min_samples_leaf = 1\n",
      "min_weight_fraction_leaf = 0\n",
      "max_features = auto\n",
      "Mean CV R2 training score = 0.9855\n",
      "Mean CV R2 testing score = 0.8666\n",
      "Mean CV Root-mean-squared test score = 5398\n",
      "\n",
      "\n",
      "Wall time: 29min 10s\n"
     ]
    }
   ],
   "source": [
    "%%time\n",
    "# CV hyperparameter tuning of max_depth for Store Type 1\n",
    "rfCV(store=1, tuneparam='max_depth', param_value=[20, 40, 60, 80, 100, None])"
   ]
  },
  {
   "cell_type": "markdown",
   "metadata": {},
   "source": [
    "Let's use max_depth = 80"
   ]
  },
  {
   "cell_type": "code",
   "execution_count": 78,
   "metadata": {
    "scrolled": true
   },
   "outputs": [
    {
     "name": "stdout",
     "output_type": "stream",
     "text": [
      "Random Forest Regression - CV - Store Type 1\n",
      "max_depth = 80\n",
      "min_samples_split = 2\n",
      "min_samples_leaf = 1\n",
      "min_weight_fraction_leaf = 0\n",
      "max_features = auto\n",
      "Mean CV R2 training score = 0.983\n",
      "Mean CV R2 testing score = 0.8699\n",
      "Mean CV Root-mean-squared test score = 5349\n",
      "\n",
      "\n",
      "Random Forest Regression - CV - Store Type 1\n",
      "max_depth = 80\n",
      "min_samples_split = 5\n",
      "min_samples_leaf = 1\n",
      "min_weight_fraction_leaf = 0\n",
      "max_features = auto\n",
      "Mean CV R2 training score = 0.9779\n",
      "Mean CV R2 testing score = 0.8802\n",
      "Mean CV Root-mean-squared test score = 5191\n",
      "\n",
      "\n",
      "Random Forest Regression - CV - Store Type 1\n",
      "max_depth = 80\n",
      "min_samples_split = 10\n",
      "min_samples_leaf = 1\n",
      "min_weight_fraction_leaf = 0\n",
      "max_features = auto\n",
      "Mean CV R2 training score = 0.9645\n",
      "Mean CV R2 testing score = 0.8814\n",
      "Mean CV Root-mean-squared test score = 5222\n",
      "\n",
      "\n",
      "Random Forest Regression - CV - Store Type 1\n",
      "max_depth = 80\n",
      "min_samples_split = 15\n",
      "min_samples_leaf = 1\n",
      "min_weight_fraction_leaf = 0\n",
      "max_features = auto\n",
      "Mean CV R2 training score = 0.9493\n",
      "Mean CV R2 testing score = 0.881\n",
      "Mean CV Root-mean-squared test score = 5294\n",
      "\n",
      "\n",
      "Random Forest Regression - CV - Store Type 1\n",
      "max_depth = 80\n",
      "min_samples_split = 20\n",
      "min_samples_leaf = 1\n",
      "min_weight_fraction_leaf = 0\n",
      "max_features = auto\n",
      "Mean CV R2 training score = 0.9452\n",
      "Mean CV R2 testing score = 0.8795\n",
      "Mean CV Root-mean-squared test score = 5334\n",
      "\n",
      "\n",
      "Random Forest Regression - CV - Store Type 1\n",
      "max_depth = 80\n",
      "min_samples_split = 25\n",
      "min_samples_leaf = 1\n",
      "min_weight_fraction_leaf = 0\n",
      "max_features = auto\n",
      "Mean CV R2 training score = 0.9417\n",
      "Mean CV R2 testing score = 0.8837\n",
      "Mean CV Root-mean-squared test score = 5287\n",
      "\n",
      "\n",
      "Random Forest Regression - CV - Store Type 1\n",
      "max_depth = 80\n",
      "min_samples_split = 30\n",
      "min_samples_leaf = 1\n",
      "min_weight_fraction_leaf = 0\n",
      "max_features = auto\n",
      "Mean CV R2 training score = 0.9371\n",
      "Mean CV R2 testing score = 0.895\n",
      "Mean CV Root-mean-squared test score = 5130\n",
      "\n",
      "\n",
      "Random Forest Regression - CV - Store Type 1\n",
      "max_depth = 80\n",
      "min_samples_split = 35\n",
      "min_samples_leaf = 1\n",
      "min_weight_fraction_leaf = 0\n",
      "max_features = auto\n",
      "Mean CV R2 training score = 0.9305\n",
      "Mean CV R2 testing score = 0.9009\n",
      "Mean CV Root-mean-squared test score = 5049\n",
      "\n",
      "\n",
      "Random Forest Regression - CV - Store Type 1\n",
      "max_depth = 80\n",
      "min_samples_split = 40\n",
      "min_samples_leaf = 1\n",
      "min_weight_fraction_leaf = 0\n",
      "max_features = auto\n",
      "Mean CV R2 training score = 0.9242\n",
      "Mean CV R2 testing score = 0.8982\n",
      "Mean CV Root-mean-squared test score = 5131\n",
      "\n",
      "\n",
      "Wall time: 48min 23s\n"
     ]
    }
   ],
   "source": [
    "%%time\n",
    "# CV hyperparameter tuning of min_samples_split for Store Type 1\n",
    "rfCV(store=1, tuneparam='min_samples_split', param_value=[2, 5, 10, 15, 20, 25, 30, 35, 40], max_depth=80)"
   ]
  },
  {
   "cell_type": "code",
   "execution_count": 79,
   "metadata": {},
   "outputs": [],
   "source": [
    "notify.send('Completed CV tuning of min_samples_split for Store Type 1')"
   ]
  },
  {
   "cell_type": "markdown",
   "metadata": {},
   "source": [
    "min_samples_split=35 worked well"
   ]
  },
  {
   "cell_type": "markdown",
   "metadata": {},
   "source": [
    "Let's try keeping min_samples_split = 2 and doing the CV tuning on min_samples_leaf"
   ]
  },
  {
   "cell_type": "code",
   "execution_count": 83,
   "metadata": {
    "scrolled": true
   },
   "outputs": [
    {
     "name": "stdout",
     "output_type": "stream",
     "text": [
      "Random Forest Regression - CV - Store Type 1\n",
      "max_depth = 80\n",
      "min_samples_split = 2\n",
      "min_samples_leaf = 5\n",
      "min_weight_fraction_leaf = 0\n",
      "max_features = auto\n",
      "Mean CV R2 training score = 0.9419\n",
      "Mean CV R2 testing score = 0.8813\n",
      "Mean CV Root-mean-squared test score = 5424\n",
      "\n",
      "\n",
      "Random Forest Regression - CV - Store Type 1\n",
      "max_depth = 80\n",
      "min_samples_split = 2\n",
      "min_samples_leaf = 10\n",
      "min_weight_fraction_leaf = 0\n",
      "max_features = auto\n",
      "Mean CV R2 training score = 0.9062\n",
      "Mean CV R2 testing score = 0.8524\n",
      "Mean CV Root-mean-squared test score = 6031\n",
      "\n",
      "\n",
      "Random Forest Regression - CV - Store Type 1\n",
      "max_depth = 80\n",
      "min_samples_split = 2\n",
      "min_samples_leaf = 15\n",
      "min_weight_fraction_leaf = 0\n",
      "max_features = auto\n",
      "Mean CV R2 training score = 0.8774\n",
      "Mean CV R2 testing score = 0.8129\n",
      "Mean CV Root-mean-squared test score = 6685\n",
      "\n",
      "\n",
      "Random Forest Regression - CV - Store Type 1\n",
      "max_depth = 80\n",
      "min_samples_split = 2\n",
      "min_samples_leaf = 20\n",
      "min_weight_fraction_leaf = 0\n",
      "max_features = auto\n",
      "Mean CV R2 training score = 0.8607\n",
      "Mean CV R2 testing score = 0.8017\n",
      "Mean CV Root-mean-squared test score = 6901\n",
      "\n",
      "\n",
      "Wall time: 20min 43s\n"
     ]
    }
   ],
   "source": [
    "%%time\n",
    "# CV hyperparameter tuning of min_samples_leaf for Store Type 1\n",
    "rfCV(store=1, tuneparam='min_samples_leaf', param_value=[5, 10, 15, 20], max_depth=80, min_samples_split=2)"
   ]
  },
  {
   "cell_type": "markdown",
   "metadata": {},
   "source": [
    "Let's leaft min_samples_leaf=1 and set min_samples_split=35"
   ]
  },
  {
   "cell_type": "code",
   "execution_count": 41,
   "metadata": {
    "scrolled": true
   },
   "outputs": [
    {
     "name": "stdout",
     "output_type": "stream",
     "text": [
      "Random Forest Regression - CV - Store Type 1\n",
      "max_depth = 80\n",
      "min_samples_split = 35\n",
      "min_samples_leaf = 1\n",
      "min_weight_fraction_leaf = 0.0001\n",
      "max_features = auto\n",
      "Mean CV R2 training score = 0.9104\n",
      "Mean CV R2 testing score = 0.8865\n",
      "Mean CV Root-mean-squared test score = 5427\n",
      "\n",
      "\n",
      "Random Forest Regression - CV - Store Type 1\n",
      "max_depth = 80\n",
      "min_samples_split = 35\n",
      "min_samples_leaf = 1\n",
      "min_weight_fraction_leaf = 0.0005\n",
      "max_features = auto\n",
      "Mean CV R2 training score = 0.8517\n",
      "Mean CV R2 testing score = 0.7925\n",
      "Mean CV Root-mean-squared test score = 7143\n",
      "\n",
      "\n",
      "Random Forest Regression - CV - Store Type 1\n",
      "max_depth = 80\n",
      "min_samples_split = 35\n",
      "min_samples_leaf = 1\n",
      "min_weight_fraction_leaf = 0.001\n",
      "max_features = auto\n",
      "Mean CV R2 training score = 0.751\n",
      "Mean CV R2 testing score = 0.6868\n",
      "Mean CV Root-mean-squared test score = 9099\n",
      "\n",
      "\n",
      "Random Forest Regression - CV - Store Type 1\n",
      "max_depth = 80\n",
      "min_samples_split = 35\n",
      "min_samples_leaf = 1\n",
      "min_weight_fraction_leaf = 0.005\n",
      "max_features = auto\n",
      "Mean CV R2 training score = 0.5824\n",
      "Mean CV R2 testing score = 0.6072\n",
      "Mean CV Root-mean-squared test score = 10430\n",
      "\n",
      "\n",
      "Wall time: 18min 14s\n"
     ]
    }
   ],
   "source": [
    "%%time\n",
    "# CV hyperparameter tuning of min_weight_fraction_leaf for Store Type 1\n",
    "rfCV(store=1, tuneparam='min_weight_fraction_leaf', param_value=[0.0001, 0.0005, 0.001, 0.005], max_depth=80, \\\n",
    "     min_samples_split=35, min_samples_leaf=1)"
   ]
  },
  {
   "cell_type": "markdown",
   "metadata": {},
   "source": [
    "Leaving min_weight_fraction_leaf=0"
   ]
  },
  {
   "cell_type": "code",
   "execution_count": 43,
   "metadata": {
    "scrolled": true
   },
   "outputs": [
    {
     "name": "stdout",
     "output_type": "stream",
     "text": [
      "Random Forest Regression - CV - Store Type 1\n",
      "max_depth = 80\n",
      "min_samples_split = 35\n",
      "min_samples_leaf = 1\n",
      "min_weight_fraction_leaf = 0\n",
      "max_features = auto\n",
      "Mean CV R2 training score = 0.9305\n",
      "Mean CV R2 testing score = 0.9009\n",
      "Mean CV Root-mean-squared test score = 5049\n",
      "\n",
      "\n",
      "Random Forest Regression - CV - Store Type 1\n",
      "max_depth = 80\n",
      "min_samples_split = 35\n",
      "min_samples_leaf = 1\n",
      "min_weight_fraction_leaf = 0\n",
      "max_features = sqrt\n",
      "Mean CV R2 training score = 0.8883\n",
      "Mean CV R2 testing score = 0.8715\n",
      "Mean CV Root-mean-squared test score = 5818\n",
      "\n",
      "\n",
      "Random Forest Regression - CV - Store Type 1\n",
      "max_depth = 80\n",
      "min_samples_split = 35\n",
      "min_samples_leaf = 1\n",
      "min_weight_fraction_leaf = 0\n",
      "max_features = log2\n",
      "Mean CV R2 training score = 0.8598\n",
      "Mean CV R2 testing score = 0.8541\n",
      "Mean CV Root-mean-squared test score = 6249\n",
      "\n",
      "\n",
      "Wall time: 6min 10s\n"
     ]
    }
   ],
   "source": [
    "%%time\n",
    "# CV hyperparameter tuning of max_depth for Store Type 1\n",
    "rfCV(store=1, tuneparam='max_features', param_value=['auto', 'sqrt', 'log2'], max_depth=80, \\\n",
    "     min_samples_split=35, min_samples_leaf=1, min_weight_fraction_leaf=0)"
   ]
  },
  {
   "cell_type": "markdown",
   "metadata": {},
   "source": [
    "Leaving max_features='auto'"
   ]
  },
  {
   "cell_type": "code",
   "execution_count": 85,
   "metadata": {},
   "outputs": [
    {
     "name": "stdout",
     "output_type": "stream",
     "text": [
      "Random Forest Regression - Store Type 1\n",
      "max_depth = 80\n",
      "min_samples_split = 35\n",
      "min_samples_leaf = 1\n",
      "min_weight_fraction_leaf = 0\n",
      "max_features = auto\n",
      "R2 training score = 0.9369\n",
      "R2 testing score = 0.8427\n",
      "Root-mean-squared test score = 6281.0\n"
     ]
    },
    {
     "data": {
      "image/png": "[encoded data removed]",
      "text/plain": [
       "<Figure size 720x504 with 1 Axes>"
      ]
     },
     "metadata": {},
     "output_type": "display_data"
    },
    {
     "name": "stdout",
     "output_type": "stream",
     "text": [
      "Wall time: 1min 56s\n"
     ]
    }
   ],
   "source": [
    "%%time\n",
    "# Model full training data for Store Type 1\n",
    "rfmodel(1, max_depth=80, min_samples_split=35)"
   ]
  },
  {
   "cell_type": "markdown",
   "metadata": {},
   "source": [
    "Not bad, but we'll try to improve it through additional measures later\n"
   ]
  },
  {
   "cell_type": "markdown",
   "metadata": {},
   "source": [
    "Store Type 2"
   ]
  },
  {
   "cell_type": "markdown",
   "metadata": {},
   "source": [
    "It seems like max_depth and min_samples_split are the two main parameters to tune. Will only focus on those for Store Type 2"
   ]
  },
  {
   "cell_type": "code",
   "execution_count": 46,
   "metadata": {
    "scrolled": true
   },
   "outputs": [
    {
     "name": "stdout",
     "output_type": "stream",
     "text": [
      "Random Forest Regression - CV - Store Type 2\n",
      "max_depth = 40\n",
      "min_samples_split = 2\n",
      "min_samples_leaf = 1\n",
      "min_weight_fraction_leaf = 0\n",
      "max_features = auto\n",
      "Mean CV R2 training score = 0.9674\n",
      "Mean CV R2 testing score = 0.9362\n",
      "Mean CV Root-mean-squared test score = 6480\n",
      "\n",
      "\n",
      "Random Forest Regression - CV - Store Type 2\n",
      "max_depth = 60\n",
      "min_samples_split = 2\n",
      "min_samples_leaf = 1\n",
      "min_weight_fraction_leaf = 0\n",
      "max_features = auto\n",
      "Mean CV R2 training score = 0.9803\n",
      "Mean CV R2 testing score = 0.9434\n",
      "Mean CV Root-mean-squared test score = 6062\n",
      "\n",
      "\n",
      "Random Forest Regression - CV - Store Type 2\n",
      "max_depth = 80\n",
      "min_samples_split = 2\n",
      "min_samples_leaf = 1\n",
      "min_weight_fraction_leaf = 0\n",
      "max_features = auto\n",
      "Mean CV R2 training score = 0.99\n",
      "Mean CV R2 testing score = 0.9488\n",
      "Mean CV Root-mean-squared test score = 5748\n",
      "\n",
      "\n",
      "Random Forest Regression - CV - Store Type 2\n",
      "max_depth = 100\n",
      "min_samples_split = 2\n",
      "min_samples_leaf = 1\n",
      "min_weight_fraction_leaf = 0\n",
      "max_features = auto\n",
      "Mean CV R2 training score = 0.9943\n",
      "Mean CV R2 testing score = 0.9504\n",
      "Mean CV Root-mean-squared test score = 5649\n",
      "\n",
      "\n",
      "Random Forest Regression - CV - Store Type 2\n",
      "max_depth = None\n",
      "min_samples_split = 2\n",
      "min_samples_leaf = 1\n",
      "min_weight_fraction_leaf = 0\n",
      "max_features = auto\n",
      "Mean CV R2 training score = 0.9943\n",
      "Mean CV R2 testing score = 0.9504\n",
      "Mean CV Root-mean-squared test score = 5652\n",
      "\n",
      "\n",
      "Wall time: 41min 37s\n"
     ]
    }
   ],
   "source": [
    "%%time\n",
    "# CV hyperparameter tuning of max_depth for Store Type 2\n",
    "rfCV(store=2, tuneparam='max_depth', param_value=[40, 60, 80, 100, None])"
   ]
  },
  {
   "cell_type": "markdown",
   "metadata": {},
   "source": [
    "Let's use max_depth = 100"
   ]
  },
  {
   "cell_type": "markdown",
   "metadata": {},
   "source": [
    "*I am running on my laptop with 2 cores rather than my desktop with 4. To maintain CPU temp I'm setting n_jobs=-2 rather than n_jobs=-1. Will take significantly longer than it would on my desktop running with all cores in parallel.*"
   ]
  },
  {
   "cell_type": "code",
   "execution_count": 50,
   "metadata": {
    "scrolled": true
   },
   "outputs": [
    {
     "name": "stdout",
     "output_type": "stream",
     "text": [
      "Random Forest Regression - CV - Store Type 2\n",
      "max_depth = 100\n",
      "min_samples_split = 5\n",
      "min_samples_leaf = 1\n",
      "min_weight_fraction_leaf = 0\n",
      "max_features = auto\n",
      "Mean CV R2 training score = 0.9919\n",
      "Mean CV R2 testing score = 0.9509\n",
      "Mean CV Root-mean-squared test score = 5623\n",
      "\n",
      "\n",
      "Random Forest Regression - CV - Store Type 2\n",
      "max_depth = 100\n",
      "min_samples_split = 10\n",
      "min_samples_leaf = 1\n",
      "min_weight_fraction_leaf = 0\n",
      "max_features = auto\n",
      "Mean CV R2 training score = 0.986\n",
      "Mean CV R2 testing score = 0.9507\n",
      "Mean CV Root-mean-squared test score = 5638\n",
      "\n",
      "\n",
      "Random Forest Regression - CV - Store Type 2\n",
      "max_depth = 100\n",
      "min_samples_split = 15\n",
      "min_samples_leaf = 1\n",
      "min_weight_fraction_leaf = 0\n",
      "max_features = auto\n",
      "Mean CV R2 training score = 0.9801\n",
      "Mean CV R2 testing score = 0.9496\n",
      "Mean CV Root-mean-squared test score = 5710\n",
      "\n",
      "\n",
      "Random Forest Regression - CV - Store Type 2\n",
      "max_depth = 100\n",
      "min_samples_split = 20\n",
      "min_samples_leaf = 1\n",
      "min_weight_fraction_leaf = 0\n",
      "max_features = auto\n",
      "Mean CV R2 training score = 0.9753\n",
      "Mean CV R2 testing score = 0.9485\n",
      "Mean CV Root-mean-squared test score = 5785\n",
      "\n",
      "\n",
      "Random Forest Regression - CV - Store Type 2\n",
      "max_depth = 100\n",
      "min_samples_split = 25\n",
      "min_samples_leaf = 1\n",
      "min_weight_fraction_leaf = 0\n",
      "max_features = auto\n",
      "Mean CV R2 training score = 0.973\n",
      "Mean CV R2 testing score = 0.9482\n",
      "Mean CV Root-mean-squared test score = 5806\n",
      "\n",
      "\n",
      "Random Forest Regression - CV - Store Type 2\n",
      "max_depth = 100\n",
      "min_samples_split = 30\n",
      "min_samples_leaf = 1\n",
      "min_weight_fraction_leaf = 0\n",
      "max_features = auto\n",
      "Mean CV R2 training score = 0.9711\n",
      "Mean CV R2 testing score = 0.9483\n",
      "Mean CV Root-mean-squared test score = 5806\n",
      "\n",
      "\n",
      "Random Forest Regression - CV - Store Type 2\n",
      "max_depth = 100\n",
      "min_samples_split = 35\n",
      "min_samples_leaf = 1\n",
      "min_weight_fraction_leaf = 0\n",
      "max_features = auto\n",
      "Mean CV R2 training score = 0.9692\n",
      "Mean CV R2 testing score = 0.9483\n",
      "Mean CV Root-mean-squared test score = 5813\n",
      "\n",
      "\n",
      "Random Forest Regression - CV - Store Type 2\n",
      "max_depth = 100\n",
      "min_samples_split = 40\n",
      "min_samples_leaf = 1\n",
      "min_weight_fraction_leaf = 0\n",
      "max_features = auto\n",
      "Mean CV R2 training score = 0.9675\n",
      "Mean CV R2 testing score = 0.9479\n",
      "Mean CV Root-mean-squared test score = 5838\n",
      "\n",
      "\n",
      "CPU times: user 3h 41min 35s, sys: 35.9 s, total: 3h 42min 11s\n",
      "Wall time: 3h 44min\n"
     ]
    }
   ],
   "source": [
    "%%time\n",
    "# CV hyperparameter tuning of min_samples_split for Store Type 2\n",
    "rfCV(store=2, tuneparam='min_samples_split', param_value=[5, 10, 15, 20, 25, 30, 35, 40], max_depth=100, n_jobs=None)"
   ]
  },
  {
   "cell_type": "markdown",
   "metadata": {},
   "source": [
    "Use min_samples_split = 5"
   ]
  },
  {
   "cell_type": "code",
   "execution_count": 42,
   "metadata": {},
   "outputs": [
    {
     "name": "stdout",
     "output_type": "stream",
     "text": [
      "Random Forest Regression - Store Type 2\n",
      "max_depth = 100\n",
      "min_samples_split = 5\n",
      "min_samples_leaf = 1\n",
      "min_weight_fraction_leaf = 0\n",
      "max_features = auto\n",
      "R2 training score = 0.9934\n",
      "R2 testing score = 0.9381\n",
      "Root-mean-squared test score = 6486.0\n"
     ]
    },
    {
     "data": {
      "image/png": "[encoded data removed]",
      "text/plain": [
       "<Figure size 720x504 with 1 Axes>"
      ]
     },
     "metadata": {},
     "output_type": "display_data"
    },
    {
     "name": "stdout",
     "output_type": "stream",
     "text": [
      "Wall time: 3min 15s\n"
     ]
    }
   ],
   "source": [
    "%%time\n",
    "# Model full training data for Store Type 2\n",
    "rfmodel(2, max_depth=100, min_samples_split=5, n_jobs=-1)"
   ]
  },
  {
   "cell_type": "code",
   "execution_count": 43,
   "metadata": {},
   "outputs": [],
   "source": [
    "notify.send('Completed RF fitting for Store Type 2')"
   ]
  },
  {
   "cell_type": "markdown",
   "metadata": {},
   "source": [
    "Pretty good!"
   ]
  },
  {
   "cell_type": "markdown",
   "metadata": {},
   "source": [
    "#### Let's try reducing the dimensionality with PCA and then fitting Random Forest to improve Store Type 1 modeling"
   ]
  },
  {
   "cell_type": "code",
   "execution_count": 44,
   "metadata": {},
   "outputs": [],
   "source": [
    "from sklearn.decomposition import PCA"
   ]
  },
  {
   "cell_type": "code",
   "execution_count": 45,
   "metadata": {},
   "outputs": [],
   "source": [
    "# Define function for performing PCA transform prior to runnin CV on Default Random Forest\n",
    "def pcaRfCV(store, n_components=[None], max_depth=None, min_samples_split=2, min_samples_leaf=1, \\\n",
    "            min_weight_fraction_leaf=0, max_features='auto', n_jobs=-1, table=False):\n",
    "           \n",
    "    if store == 0:\n",
    "        X_train, y_train, X_test, y_test = cvX_train0, cvy_train0, cvX_test0, cvy_test0\n",
    "    elif store ==1:\n",
    "        X_train, y_train, X_test, y_test = cvX_train1, cvy_train1, cvX_test1, cvy_test1\n",
    "    else:\n",
    "        X_train, y_train, X_test, y_test = cvX_train2, cvy_train2, cvX_test2, cvy_test2\n",
    "    \n",
    "    for i in n_components:\n",
    "        \n",
    "        X_train0, X_train1, X_train2, X_train3, X_train4 = X_train[0], X_train[1], X_train[2], X_train[3], X_train[4]\n",
    "        X_test0, X_test1, X_test2, X_test3, X_test4 = X_test[0], X_test[1], X_test[2], X_test[3], X_test[4]\n",
    "             \n",
    "        pca0 = PCA(random_state=42, n_components=i)\n",
    "        pcaX_train0 = pca0.fit_transform(X_train0)\n",
    "        pcaX_test0 = pca0.transform(X_test0)\n",
    "        \n",
    "        pca1 = PCA(random_state=42, n_components=i)\n",
    "        pcaX_train1 = pca1.fit_transform(X_train1)\n",
    "        pcaX_test1 = pca1.transform(X_test1)\n",
    "        \n",
    "        pca2 = PCA(random_state=42, n_components=i)\n",
    "        pcaX_train2 = pca1.fit_transform(X_train2)\n",
    "        pcaX_test2 = pca1.transform(X_test2)\n",
    "        \n",
    "        pca3 = PCA(random_state=42, n_components=i)\n",
    "        pcaX_train3 = pca1.fit_transform(X_train3)\n",
    "        pcaX_test3 = pca1.transform(X_test3)\n",
    "        \n",
    "        pca4 = PCA(random_state=42, n_components=i)\n",
    "        pcaX_train4 = pca4.fit_transform(X_train4)\n",
    "        pcaX_test4 = pca4.transform(X_test4)\n",
    "        \n",
    "        pcaX_train = [pcaX_train0, pcaX_train1, pcaX_train2, pcaX_train3, pcaX_train4]\n",
    "        pcaX_test = [pcaX_test0, pcaX_test1, pcaX_test2, pcaX_test3, pcaX_test4]\n",
    "         \n",
    "        rfreg = RandomForestRegressor(random_state=42, max_depth=max_depth, min_samples_split=min_samples_split, \\\n",
    "                                      min_samples_leaf=min_samples_leaf, \\\n",
    "                                      min_weight_fraction_leaf=min_weight_fraction_leaf, \\\n",
    "                                      max_features=max_features, n_jobs=n_jobs)\n",
    "        \n",
    "        print('PCA Transformed - Random Forest Regression - Store Type ' + str(store))\n",
    "        print('n_components = ' + str(i))\n",
    "        print('max_depth = ' + str(max_depth))\n",
    "        print('min_samples_split = ' + str(min_samples_split))\n",
    "        print('min_samples_leaf = ' + str(min_samples_leaf))\n",
    "        print('min_weight_fraction_leaf = ' + str(min_weight_fraction_leaf))\n",
    "        print('max_features = ' + str(max_features))      \n",
    "        \n",
    "        cvmodeling(rfreg, pcaX_train, y_train, pcaX_test, y_test, False)\n",
    "        print('\\n')"
   ]
  },
  {
   "cell_type": "code",
   "execution_count": 46,
   "metadata": {},
   "outputs": [],
   "source": [
    "def pcaRfModel(store, n_components=[None], max_depth=None, min_samples_split=2, min_samples_leaf=1, \\\n",
    "               min_weight_fraction_leaf=0, max_features='auto', n_jobs=-1, plot=True):\n",
    "    pca = PCA(n_components=n_components, random_state=42)    \n",
    "    \n",
    "    if store == 0:\n",
    "        X_train, y_train, X_test, y_test = X_train0, y_train0, X_test0, y_test0\n",
    "    elif store ==1:\n",
    "        X_train, y_train, X_test, y_test = X_train1, y_train1, X_test1, y_test1\n",
    "    else:\n",
    "        X_train, y_train, X_test, y_test = X_train2, y_train2, X_test2, y_test2\n",
    "        \n",
    "    X_train = pca.fit_transform(X_train)\n",
    "    X_test = pca.transform(X_test)\n",
    "    \n",
    "    rfreg = RandomForestRegressor(random_state=42, max_depth=max_depth, min_samples_split=min_samples_split, \\\n",
    "                                  min_samples_leaf=min_samples_leaf, \\\n",
    "                                  min_weight_fraction_leaf=min_weight_fraction_leaf, \\\n",
    "                                  max_features=max_features, n_jobs=n_jobs)\n",
    "    \n",
    "    print('PCA Transformed - Random Forest Regression - Store Type ' + str(store))\n",
    "    print('n_components = ' + str(n_components))\n",
    "    print('max_depth = ' + str(max_depth))\n",
    "    print('min_samples_split = ' + str(min_samples_split))\n",
    "    print('min_samples_leaf = ' + str(min_samples_leaf))\n",
    "    print('min_weight_fraction_leaf = ' + str(min_weight_fraction_leaf))\n",
    "    print('max_features = ' + str(max_features))\n",
    "    \n",
    "    modeling(rfreg, X_train, np.ravel(y_train), X_test, np.ravel(y_test), plot)"
   ]
  },
  {
   "cell_type": "code",
   "execution_count": 66,
   "metadata": {
    "scrolled": true
   },
   "outputs": [
    {
     "name": "stdout",
     "output_type": "stream",
     "text": [
      "PCA Transformed - Random Forest Regression - Store Type 1\n",
      "n_components = 20\n",
      "max_depth = 80\n",
      "min_samples_split = 35\n",
      "min_samples_leaf = 1\n",
      "min_weight_fraction_leaf = 0\n",
      "max_features = auto\n",
      "Mean CV R2 training score = 0.504\n",
      "Mean CV R2 testing score = -0.4317\n",
      "Mean CV Root-mean-squared test score = 19681\n",
      "\n",
      "\n",
      "PCA Transformed - Random Forest Regression - Store Type 1\n",
      "n_components = 40\n",
      "max_depth = 80\n",
      "min_samples_split = 35\n",
      "min_samples_leaf = 1\n",
      "min_weight_fraction_leaf = 0\n",
      "max_features = auto\n",
      "Mean CV R2 training score = 0.6437\n",
      "Mean CV R2 testing score = 0.0307\n",
      "Mean CV Root-mean-squared test score = 16323\n",
      "\n",
      "\n",
      "PCA Transformed - Random Forest Regression - Store Type 1\n",
      "n_components = 60\n",
      "max_depth = 80\n",
      "min_samples_split = 35\n",
      "min_samples_leaf = 1\n",
      "min_weight_fraction_leaf = 0\n",
      "max_features = auto\n",
      "Mean CV R2 training score = 0.923\n",
      "Mean CV R2 testing score = 0.8483\n",
      "Mean CV Root-mean-squared test score = 6449\n",
      "\n",
      "\n",
      "PCA Transformed - Random Forest Regression - Store Type 1\n",
      "n_components = 80\n",
      "max_depth = 80\n",
      "min_samples_split = 35\n",
      "min_samples_leaf = 1\n",
      "min_weight_fraction_leaf = 0\n",
      "max_features = auto\n",
      "Mean CV R2 training score = 0.9328\n",
      "Mean CV R2 testing score = 0.8526\n",
      "Mean CV Root-mean-squared test score = 6338\n",
      "\n",
      "\n",
      "PCA Transformed - Random Forest Regression - Store Type 1\n",
      "n_components = 100\n",
      "max_depth = 80\n",
      "min_samples_split = 35\n",
      "min_samples_leaf = 1\n",
      "min_weight_fraction_leaf = 0\n",
      "max_features = auto\n",
      "Mean CV R2 training score = 0.9338\n",
      "Mean CV R2 testing score = 0.8657\n",
      "Mean CV Root-mean-squared test score = 6086\n",
      "\n",
      "\n",
      "PCA Transformed - Random Forest Regression - Store Type 1\n",
      "n_components = 120\n",
      "max_depth = 80\n",
      "min_samples_split = 35\n",
      "min_samples_leaf = 1\n",
      "min_weight_fraction_leaf = 0\n",
      "max_features = auto\n",
      "Mean CV R2 training score = 0.933\n",
      "Mean CV R2 testing score = 0.8718\n",
      "Mean CV Root-mean-squared test score = 5943\n",
      "\n",
      "\n",
      "PCA Transformed - Random Forest Regression - Store Type 1\n",
      "n_components = 140\n",
      "max_depth = 80\n",
      "min_samples_split = 35\n",
      "min_samples_leaf = 1\n",
      "min_weight_fraction_leaf = 0\n",
      "max_features = auto\n",
      "Mean CV R2 training score = 0.9197\n",
      "Mean CV R2 testing score = 0.8728\n",
      "Mean CV Root-mean-squared test score = 5890\n",
      "\n",
      "\n",
      "CPU times: user 7h 41min 26s, sys: 43.1 s, total: 7h 42min 9s\n",
      "Wall time: 2h 37min 23s\n"
     ]
    }
   ],
   "source": [
    "%%time\n",
    "pcaRfCV(1, [20, 40, 60, 80, 100, 120, 140], max_depth=80, min_samples_split=35, n_jobs=-2)"
   ]
  },
  {
   "cell_type": "code",
   "execution_count": 47,
   "metadata": {},
   "outputs": [
    {
     "name": "stdout",
     "output_type": "stream",
     "text": [
      "PCA Transformed - Random Forest Regression - Store Type 1\n",
      "n_components = None\n",
      "max_depth = 80\n",
      "min_samples_split = 35\n",
      "min_samples_leaf = 1\n",
      "min_weight_fraction_leaf = 0\n",
      "max_features = auto\n",
      "Mean CV R2 training score = 0.92\n",
      "Mean CV R2 testing score = 0.8778\n",
      "Mean CV Root-mean-squared test score = 5772\n",
      "\n",
      "\n",
      "Wall time: 19min 34s\n"
     ]
    }
   ],
   "source": [
    "%%time\n",
    "pcaRfCV(1, [None], max_depth=80, min_samples_split=35, n_jobs=-1)"
   ]
  },
  {
   "cell_type": "code",
   "execution_count": 48,
   "metadata": {},
   "outputs": [],
   "source": []
  },
  {
   "cell_type": "code",
   "execution_count": 49,
   "metadata": {},
   "outputs": [
    {
     "name": "stdout",
     "output_type": "stream",
     "text": [
      "PCA Transformed - Random Forest Regression - Store Type 1\n",
      "n_components = None\n",
      "max_depth = 80\n",
      "min_samples_split = 35\n",
      "min_samples_leaf = 1\n",
      "min_weight_fraction_leaf = 0\n",
      "max_features = auto\n",
      "R2 training score = 0.9356\n",
      "R2 testing score = 0.8954\n",
      "Root-mean-squared test score = 5122.0\n"
     ]
    },
    {
     "data": {
      "image/png": "[encoded data removed]",
      "text/plain": [
       "<Figure size 720x504 with 1 Axes>"
      ]
     },
     "metadata": {},
     "output_type": "display_data"
    },
    {
     "name": "stdout",
     "output_type": "stream",
     "text": [
      "Wall time: 7min 5s\n"
     ]
    }
   ],
   "source": [
    "%%time\n",
    "pcaRfModel(1, None, 80, 35, n_jobs=-1)"
   ]
  },
  {
   "cell_type": "code",
   "execution_count": 51,
   "metadata": {},
   "outputs": [
    {
     "name": "stdout",
     "output_type": "stream",
     "text": [
      "PCA Transformed - Random Forest Regression - Store Type 1\n",
      "n_components = None\n",
      "max_depth = None\n",
      "min_samples_split = 2\n",
      "min_samples_leaf = 1\n",
      "min_weight_fraction_leaf = 0\n",
      "max_features = auto\n",
      "R2 training score = 0.9903\n",
      "R2 testing score = 0.8985\n",
      "Root-mean-squared test score = 5045.0\n"
     ]
    },
    {
     "data": {
      "image/png": "[encoded data removed]",
      "text/plain": [
       "<Figure size 720x504 with 1 Axes>"
      ]
     },
     "metadata": {},
     "output_type": "display_data"
    },
    {
     "name": "stdout",
     "output_type": "stream",
     "text": [
      "Wall time: 7min 59s\n"
     ]
    }
   ],
   "source": [
    "%%time\n",
    "pcaRfModel(1, None, n_jobs=-1)"
   ]
  },
  {
   "cell_type": "code",
   "execution_count": 52,
   "metadata": {},
   "outputs": [],
   "source": [
    "notify.send('Completed pcaRFCV type 1 components=None')"
   ]
  },
  {
   "cell_type": "code",
   "execution_count": 158,
   "metadata": {},
   "outputs": [
    {
     "data": {
      "image/png": "[encoded data removed]",
      "text/plain": [
       "<Figure size 720x360 with 1 Axes>"
      ]
     },
     "metadata": {},
     "output_type": "display_data"
    }
   ],
   "source": [
    "# Explained variance elbow plot for X_train1\n",
    "pca = PCA()\n",
    "pca.fit(X_train1)\n",
    "_ = plt.figure(figsize=(10,5))\n",
    "_ = plt.plot(np.arange(pca.explained_variance_.shape[0])+1, pca.explained_variance_)\n",
    "_ = plt.title('PCA Explained Variance by Number of Dimensions')\n",
    "_ = plt.xlabel('Number of Dimensions')\n",
    "_ = plt.ylabel('PCA Explained Variance')\n",
    "_ = plt.xlim(1, 170)\n",
    "_ = plt.show()\n",
    "_ = plt.close()"
   ]
  },
  {
   "cell_type": "markdown",
   "metadata": {},
   "source": [
    "It looks like we could set n_components=55"
   ]
  },
  {
   "cell_type": "code",
   "execution_count": 35,
   "metadata": {
    "scrolled": false
   },
   "outputs": [
    {
     "name": "stdout",
     "output_type": "stream",
     "text": [
      "Wall time: 2.5 s\n"
     ]
    }
   ],
   "source": [
    "%%time\n",
    "pca = PCA(n_components=55)\n",
    "pcaX_train1 = pca.fit_transform(X_train1)\n",
    "pcaX_test1 = pca.transform(X_test1)"
   ]
  },
  {
   "cell_type": "code",
   "execution_count": null,
   "metadata": {},
   "outputs": [],
   "source": []
  },
  {
   "cell_type": "markdown",
   "metadata": {},
   "source": [
    "#### Let's build a function to log metrics for evaluation of each department at each store"
   ]
  },
  {
   "cell_type": "code",
   "execution_count": 36,
   "metadata": {},
   "outputs": [],
   "source": [
    "type0Stores = [col for col in X_test0.columns if 'Store' in col]\n",
    "type0Depts = [col for col in X_test0.columns if 'Dept' in col]\n",
    "type1Stores = [col for col in X_test1.columns if 'Store' in col]\n",
    "type1Depts = [col for col in X_test1.columns if 'Dept' in col]\n",
    "type2Stores = [col for col in X_test2.columns if 'Store' in col]\n",
    "type2Depts = [col for col in X_test2.columns if 'Dept' in col]"
   ]
  },
  {
   "cell_type": "code",
   "execution_count": 37,
   "metadata": {},
   "outputs": [],
   "source": [
    "from sklearn.metrics import mean_absolute_error"
   ]
  },
  {
   "cell_type": "code",
   "execution_count": 38,
   "metadata": {},
   "outputs": [],
   "source": [
    "def storedepttest(store, dept, reg, X_test, y_test):\n",
    "    smask = X_test[store] == 1\n",
    "    dmask = X_test[dept] == 1\n",
    "\n",
    "    SDX_test = X_test.loc[smask].loc[dmask]\n",
    "    SDX_testIDX = SDX_test.index\n",
    "\n",
    "    SDy_test = y_test.loc[SDX_testIDX]\n",
    "\n",
    "    SDy_pred = reg.predict(SDX_test)\n",
    "    \n",
    "    return [mean_absolute_error(SDy_test, SDy_pred), mean_squared_error(SDy_test, SDy_pred, squared=False)]"
   ]
  },
  {
   "cell_type": "code",
   "execution_count": 39,
   "metadata": {},
   "outputs": [],
   "source": [
    "def storedepttestagg(typestores, typedepts, reg, X_train, y_train, X_test, y_test):\n",
    "    \n",
    "    stores = []\n",
    "    depts = []\n",
    "    MAEs = []\n",
    "    RMSEs = []\n",
    "    \n",
    "    reg = reg.fit(X_train, y_train)\n",
    "    \n",
    "    for i in typestores:\n",
    "            for k in typedepts:\n",
    "                try:\n",
    "                    l, m = storedepttest(i, k, reg, X_test, y_test)\n",
    "                    MAEs.append(l)\n",
    "                    RMSEs.append(m)\n",
    "                    stores.append(i)\n",
    "                    depts.append(k)\n",
    "                except:\n",
    "                    pass\n",
    "    results = [stores, depts, MAEs, RMSEs]\n",
    "    results = pd.DataFrame(results, index=['Store', 'Dept', 'MAE', 'RMSE']).transpose().astype({'MAE': 'float64', 'RMSE': 'float64'})\n",
    "    return results"
   ]
  },
  {
   "cell_type": "code",
   "execution_count": 205,
   "metadata": {},
   "outputs": [
    {
     "name": "stdout",
     "output_type": "stream",
     "text": [
      "Wall time: 44.6 s\n"
     ]
    },
    {
     "data": {
      "text/html": [
       "<div>\n",
       "<style scoped>\n",
       "    .dataframe tbody tr th:only-of-type {\n",
       "        vertical-align: middle;\n",
       "    }\n",
       "\n",
       "    .dataframe tbody tr th {\n",
       "        vertical-align: top;\n",
       "    }\n",
       "\n",
       "    .dataframe thead th {\n",
       "        text-align: right;\n",
       "    }\n",
       "</style>\n",
       "<table border=\"1\" class=\"dataframe\">\n",
       "  <thead>\n",
       "    <tr style=\"text-align: right;\">\n",
       "      <th></th>\n",
       "      <th>MAE</th>\n",
       "      <th>RMSE</th>\n",
       "    </tr>\n",
       "  </thead>\n",
       "  <tbody>\n",
       "    <tr>\n",
       "      <th>count</th>\n",
       "      <td>296.000000</td>\n",
       "      <td>296.000000</td>\n",
       "    </tr>\n",
       "    <tr>\n",
       "      <th>mean</th>\n",
       "      <td>1313.799161</td>\n",
       "      <td>1484.731030</td>\n",
       "    </tr>\n",
       "    <tr>\n",
       "      <th>std</th>\n",
       "      <td>1553.770455</td>\n",
       "      <td>1869.747983</td>\n",
       "    </tr>\n",
       "    <tr>\n",
       "      <th>min</th>\n",
       "      <td>101.062249</td>\n",
       "      <td>128.653016</td>\n",
       "    </tr>\n",
       "    <tr>\n",
       "      <th>25%</th>\n",
       "      <td>682.633327</td>\n",
       "      <td>763.227128</td>\n",
       "    </tr>\n",
       "    <tr>\n",
       "      <th>50%</th>\n",
       "      <td>928.612159</td>\n",
       "      <td>939.382302</td>\n",
       "    </tr>\n",
       "    <tr>\n",
       "      <th>75%</th>\n",
       "      <td>1046.704208</td>\n",
       "      <td>1269.522813</td>\n",
       "    </tr>\n",
       "    <tr>\n",
       "      <th>max</th>\n",
       "      <td>15921.258821</td>\n",
       "      <td>18934.681327</td>\n",
       "    </tr>\n",
       "  </tbody>\n",
       "</table>\n",
       "</div>"
      ],
      "text/plain": [
       "                MAE          RMSE\n",
       "count    296.000000    296.000000\n",
       "mean    1313.799161   1484.731030\n",
       "std     1553.770455   1869.747983\n",
       "min      101.062249    128.653016\n",
       "25%      682.633327    763.227128\n",
       "50%      928.612159    939.382302\n",
       "75%     1046.704208   1269.522813\n",
       "max    15921.258821  18934.681327"
      ]
     },
     "execution_count": 205,
     "metadata": {},
     "output_type": "execute_result"
    }
   ],
   "source": [
    "%%time\n",
    "RFreg0 = RandomForestRegressor(max_depth=19, random_state=42, n_jobs=-1)\n",
    "Type0Results = storedepttestagg(type0Stores, type0Depts, RFreg0, X_train0, y_train0, X_test0, y_test0)\n",
    "Type0Results.describe()"
   ]
  },
  {
   "cell_type": "code",
   "execution_count": 206,
   "metadata": {},
   "outputs": [
    {
     "name": "stdout",
     "output_type": "stream",
     "text": [
      "Wall time: 3min 25s\n"
     ]
    },
    {
     "data": {
      "text/html": [
       "<div>\n",
       "<style scoped>\n",
       "    .dataframe tbody tr th:only-of-type {\n",
       "        vertical-align: middle;\n",
       "    }\n",
       "\n",
       "    .dataframe tbody tr th {\n",
       "        vertical-align: top;\n",
       "    }\n",
       "\n",
       "    .dataframe thead th {\n",
       "        text-align: right;\n",
       "    }\n",
       "</style>\n",
       "<table border=\"1\" class=\"dataframe\">\n",
       "  <thead>\n",
       "    <tr style=\"text-align: right;\">\n",
       "      <th></th>\n",
       "      <th>MAE</th>\n",
       "      <th>RMSE</th>\n",
       "    </tr>\n",
       "  </thead>\n",
       "  <tbody>\n",
       "    <tr>\n",
       "      <th>count</th>\n",
       "      <td>1151.000000</td>\n",
       "      <td>1151.000000</td>\n",
       "    </tr>\n",
       "    <tr>\n",
       "      <th>mean</th>\n",
       "      <td>3798.675543</td>\n",
       "      <td>4367.096026</td>\n",
       "    </tr>\n",
       "    <tr>\n",
       "      <th>std</th>\n",
       "      <td>4443.235862</td>\n",
       "      <td>4895.150591</td>\n",
       "    </tr>\n",
       "    <tr>\n",
       "      <th>min</th>\n",
       "      <td>144.842219</td>\n",
       "      <td>179.492383</td>\n",
       "    </tr>\n",
       "    <tr>\n",
       "      <th>25%</th>\n",
       "      <td>1728.062336</td>\n",
       "      <td>1964.343911</td>\n",
       "    </tr>\n",
       "    <tr>\n",
       "      <th>50%</th>\n",
       "      <td>2935.255322</td>\n",
       "      <td>3300.661407</td>\n",
       "    </tr>\n",
       "    <tr>\n",
       "      <th>75%</th>\n",
       "      <td>4551.835206</td>\n",
       "      <td>4863.004275</td>\n",
       "    </tr>\n",
       "    <tr>\n",
       "      <th>max</th>\n",
       "      <td>97374.387795</td>\n",
       "      <td>98346.677964</td>\n",
       "    </tr>\n",
       "  </tbody>\n",
       "</table>\n",
       "</div>"
      ],
      "text/plain": [
       "                MAE          RMSE\n",
       "count   1151.000000   1151.000000\n",
       "mean    3798.675543   4367.096026\n",
       "std     4443.235862   4895.150591\n",
       "min      144.842219    179.492383\n",
       "25%     1728.062336   1964.343911\n",
       "50%     2935.255322   3300.661407\n",
       "75%     4551.835206   4863.004275\n",
       "max    97374.387795  98346.677964"
      ]
     },
     "execution_count": 206,
     "metadata": {},
     "output_type": "execute_result"
    }
   ],
   "source": [
    "%%time\n",
    "RFreg1 = RandomForestRegressor(max_depth=30, random_state=42, n_jobs=-1)\n",
    "Type1Results = storedepttestagg(type1Stores, type1Depts, RFreg1, X_train1, y_train1, X_test1, y_test1)\n",
    "Type1Results.describe()"
   ]
  },
  {
   "cell_type": "code",
   "execution_count": 207,
   "metadata": {},
   "outputs": [
    {
     "name": "stdout",
     "output_type": "stream",
     "text": [
      "Wall time: 4min 56s\n"
     ]
    },
    {
     "data": {
      "text/html": [
       "<div>\n",
       "<style scoped>\n",
       "    .dataframe tbody tr th:only-of-type {\n",
       "        vertical-align: middle;\n",
       "    }\n",
       "\n",
       "    .dataframe tbody tr th {\n",
       "        vertical-align: top;\n",
       "    }\n",
       "\n",
       "    .dataframe thead th {\n",
       "        text-align: right;\n",
       "    }\n",
       "</style>\n",
       "<table border=\"1\" class=\"dataframe\">\n",
       "  <thead>\n",
       "    <tr style=\"text-align: right;\">\n",
       "      <th></th>\n",
       "      <th>MAE</th>\n",
       "      <th>RMSE</th>\n",
       "    </tr>\n",
       "  </thead>\n",
       "  <tbody>\n",
       "    <tr>\n",
       "      <th>count</th>\n",
       "      <td>1523.000000</td>\n",
       "      <td>1523.000000</td>\n",
       "    </tr>\n",
       "    <tr>\n",
       "      <th>mean</th>\n",
       "      <td>4983.872022</td>\n",
       "      <td>5686.291382</td>\n",
       "    </tr>\n",
       "    <tr>\n",
       "      <th>std</th>\n",
       "      <td>4437.762529</td>\n",
       "      <td>5001.807110</td>\n",
       "    </tr>\n",
       "    <tr>\n",
       "      <th>min</th>\n",
       "      <td>27.404766</td>\n",
       "      <td>35.605081</td>\n",
       "    </tr>\n",
       "    <tr>\n",
       "      <th>25%</th>\n",
       "      <td>2248.607457</td>\n",
       "      <td>2694.603473</td>\n",
       "    </tr>\n",
       "    <tr>\n",
       "      <th>50%</th>\n",
       "      <td>4154.030835</td>\n",
       "      <td>4704.593727</td>\n",
       "    </tr>\n",
       "    <tr>\n",
       "      <th>75%</th>\n",
       "      <td>6507.112303</td>\n",
       "      <td>7351.203498</td>\n",
       "    </tr>\n",
       "    <tr>\n",
       "      <th>max</th>\n",
       "      <td>49448.584574</td>\n",
       "      <td>53193.909956</td>\n",
       "    </tr>\n",
       "  </tbody>\n",
       "</table>\n",
       "</div>"
      ],
      "text/plain": [
       "                MAE          RMSE\n",
       "count   1523.000000   1523.000000\n",
       "mean    4983.872022   5686.291382\n",
       "std     4437.762529   5001.807110\n",
       "min       27.404766     35.605081\n",
       "25%     2248.607457   2694.603473\n",
       "50%     4154.030835   4704.593727\n",
       "75%     6507.112303   7351.203498\n",
       "max    49448.584574  53193.909956"
      ]
     },
     "execution_count": 207,
     "metadata": {},
     "output_type": "execute_result"
    }
   ],
   "source": [
    "%%time\n",
    "RFreg2 = RandomForestRegressor(max_depth=30, random_state=42, n_jobs=-1)\n",
    "Type2Results = storedepttestagg(type2Stores, type2Depts, RFreg2, X_train2, y_train2, X_test2, y_test2)\n",
    "Type2Results.describe()"
   ]
  },
  {
   "cell_type": "code",
   "execution_count": 208,
   "metadata": {},
   "outputs": [],
   "source": [
    "notify.send('Complete')"
   ]
  }
 ],
 "metadata": {
  "kernelspec": {
   "display_name": "Python 3",
   "language": "python",
   "name": "python3"
  }
 },
 "nbformat": 4,
 "nbformat_minor": 4
}
