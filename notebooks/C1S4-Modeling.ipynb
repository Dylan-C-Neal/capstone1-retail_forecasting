{
 "cells": [
  {
   "cell_type": "markdown",
   "metadata": {},
   "source": [
    "# Modeling - Retail Forecasting"
   ]
  },
  {
   "cell_type": "markdown",
   "metadata": {},
   "source": [
    "## Pre-Work"
   ]
  },
  {
   "cell_type": "markdown",
   "metadata": {},
   "source": [
    "### Import Modules and Data"
   ]
  },
  {
   "cell_type": "code",
   "execution_count": 1,
   "metadata": {},
   "outputs": [],
   "source": [
    "# Import standard packages\n",
    "import pandas as pd\n",
    "import numpy as np\n",
    "import matplotlib.pyplot as plt\n",
    "%matplotlib inline\n",
    "import seaborn as sns\n",
    "sns.set()\n",
    "import os\n",
    "#import pickle\n",
    "import warnings\n",
    "#import dataframe_image as dfi\n",
    "\n",
    "# Cross-validation modules\n",
    "from sklearn.model_selection import TimeSeriesSplit\n",
    "from sklearn.model_selection import GridSearchCV\n",
    "from sklearn.model_selection import RandomizedSearchCV\n",
    "\n",
    "# Metrics\n",
    "from sklearn.metrics import mean_squared_error\n",
    "from sklearn.metrics import r2_score\n",
    "\n",
    "# Modeling\n",
    "from sklearn.linear_model import LinearRegression\n",
    "from sklearn.linear_model import Ridge\n",
    "from sklearn.ensemble import RandomForestRegressor\n",
    "from sklearn.decomposition import PCA\n",
    "from sklearn.pipeline import Pipeline"
   ]
  },
  {
   "cell_type": "code",
   "execution_count": 2,
   "metadata": {},
   "outputs": [],
   "source": [
    "# Turn off setting with copy warning\n",
    "pd.set_option('mode.chained_assignment', None)"
   ]
  },
  {
   "cell_type": "code",
   "execution_count": 3,
   "metadata": {},
   "outputs": [],
   "source": [
    "warnings.filterwarnings(\"ignore\", category=np.VisibleDeprecationWarning) "
   ]
  },
  {
   "cell_type": "code",
   "execution_count": 4,
   "metadata": {
    "scrolled": false
   },
   "outputs": [],
   "source": [
    "# Change directory\n",
    "os.chdir('../data/processed')"
   ]
  },
  {
   "cell_type": "code",
   "execution_count": 6,
   "metadata": {},
   "outputs": [],
   "source": [
    "# Load data\n",
    "X_train0 = pd.read_csv('X_train0.csv')\n",
    "y_train0 = pd.read_csv('y_train0.csv')\n",
    "X_test0 = pd.read_csv('X_test0.csv')\n",
    "y_test0 = pd.read_csv('y_test0.csv')\n",
    "#cvX_train0 = pickle.load(open(\"cvX_train0\", \"rb\"))\n",
    "#cvy_train0 = pickle.load(open(\"cvy_train0\", \"rb\"))\n",
    "#cvX_test0 = pickle.load(open(\"cvX_test0\", \"rb\"))\n",
    "#cvy_test0 = pickle.load(open (\"cvy_test0\", \"rb\"))\n",
    "\n",
    "X_train1 = pd.read_csv('X_train1.csv')\n",
    "y_train1 = pd.read_csv('y_train1.csv')\n",
    "X_test1 = pd.read_csv('X_test1.csv')\n",
    "y_test1 = pd.read_csv('y_test1.csv')\n",
    "#cvX_train1 = pickle.load(open(\"cvX_train1\", \"rb\"))\n",
    "#cvy_train1 = pickle.load(open(\"cvy_train1\", \"rb\"))\n",
    "#cvX_test1 = pickle.load(open(\"cvX_test1\", \"rb\"))\n",
    "#cvy_test1 = pickle.load(open(\"cvy_test1\", \"rb\"))\n",
    "\n",
    "X_train2 = pd.read_csv('X_train2.csv')\n",
    "y_train2 = pd.read_csv('y_train2.csv')\n",
    "X_test2 = pd.read_csv('X_test2.csv')\n",
    "y_test2 = pd.read_csv('y_test2.csv')\n",
    "#cvX_train2 = pickle.load(open(\"cvX_train2\", \"rb\"))\n",
    "#cvy_train2 = pickle.load(open(\"cvy_train2\", \"rb\"))\n",
    "#cvX_test2 = pickle.load(open(\"cvX_test2\", \"rb\"))\n",
    "#cvy_test2 = pickle.load(open(\"cvy_test2\", \"rb\"))"
   ]
  },
  {
   "cell_type": "markdown",
   "metadata": {},
   "source": [
    "## Define Functions"
   ]
  },
  {
   "cell_type": "code",
   "execution_count": 7,
   "metadata": {},
   "outputs": [],
   "source": [
    "# Will use sklearn's time series cv split in GridSearchCV and RandomizedSearchCVs\n",
    "tscv = TimeSeriesSplit(n_splits=5)"
   ]
  },
  {
   "cell_type": "code",
   "execution_count": 8,
   "metadata": {},
   "outputs": [],
   "source": [
    "# Define GridSearchCV Function to use in addition to the CV function I build\n",
    "def GSCV(reg, param_grid, store):\n",
    "    if store == 0:\n",
    "        X_train, y_train, X_test, y_test = X_train0, y_train0, X_test0, y_test0\n",
    "    elif store == 1:\n",
    "        X_train, y_train, X_test, y_test = X_train1, y_train1, X_test1, y_test1\n",
    "    else:\n",
    "        X_train, y_train, X_test, y_test = X_train2, y_train2, X_test2, y_test2\n",
    "        \n",
    "    gscv = GridSearchCV(estimator=reg, cv=tscv, param_grid=param_grid, \\\n",
    "                        scoring='neg_root_mean_squared_error')\n",
    "    gscv.fit(X_train, np.ravel(y_train))\n",
    "    print('Best parameters are ' + str(gscv.best_params_))\n",
    "    print('Best RMSE score is ' + str(round(-gscv.best_score_)))    "
   ]
  },
  {
   "cell_type": "code",
   "execution_count": 9,
   "metadata": {},
   "outputs": [],
   "source": [
    "# Define RandomizedSearchCV Function as well to use with the more computationally intenstive algorithms\n",
    "def RSCV(reg, param_dist, store, n_iter=10):\n",
    "    if store == 0:\n",
    "        X_train, y_train, X_test, y_test = X_train0, y_train0, X_test0, y_test0\n",
    "    elif store == 1:\n",
    "        X_train, y_train, X_test, y_test = X_train1, y_train1, X_test1, y_test1\n",
    "    else:\n",
    "        X_train, y_train, X_test, y_test = X_train2, y_train2, X_test2, y_test2\n",
    "        \n",
    "    rscv = RandomizedSearchCV(estimator=reg, n_iter=n_iter, cv=tscv, param_distributions=param_dist, \\\n",
    "                        scoring='neg_root_mean_squared_error')\n",
    "    rscv.fit(X_train, np.ravel(y_train))\n",
    "    print('Best parameters are ' + str(rscv.best_params_))\n",
    "    print('Best RMSE score is ' + str(round(-rscv.best_score_)))    "
   ]
  },
  {
   "cell_type": "code",
   "execution_count": 10,
   "metadata": {},
   "outputs": [],
   "source": [
    "# Build function for cross-validation modeling\n",
    "def cvmodeling(model, X_train, y_train, X_test, y_test, table=False):\n",
    "    \n",
    "    # Instantiate empty lists\n",
    "    cvnum = []\n",
    "    R2_train = []\n",
    "    R2_test = []\n",
    "    RMSE_test = []\n",
    "    \n",
    "    # For loop to collect parameters\n",
    "    for i in range(5):\n",
    "        reg = model\n",
    "        reg.fit(X_train[i], np.ravel(y_train[i]))\n",
    "        y_pred = reg.predict(X_test[i])\n",
    "        cvnum.append(i+1)\n",
    "        R2_train.append(round(reg.score(X_train[i], np.ravel(y_train[i])), 4))\n",
    "        R2_test.append(round(r2_score(y_test[i], y_pred), 4))\n",
    "        RMSE_test.append(round(mean_squared_error(y_test[i], y_pred, squared=False), 4))\n",
    "    \n",
    "    summary = pd.DataFrame({'CV_num':cvnum, 'R2_train_score':R2_train, 'R2_test_score':R2_test, 'RMSE_test_score':RMSE_test})\n",
    "    if table == True:\n",
    "        print(summary)\n",
    "    print('Mean CV R2 training score = ' + str(round(summary.R2_train_score.mean(), 4)))\n",
    "    print('Mean CV R2 testing score = ' + str(round(summary.R2_test_score.mean(), 4)))\n",
    "    print('Mean CV Root-mean-squared test score = ' + str(round(summary.RMSE_test_score.mean())))"
   ]
  },
  {
   "cell_type": "markdown",
   "metadata": {},
   "source": [
    "## Modeling\n"
   ]
  },
  {
   "cell_type": "markdown",
   "metadata": {},
   "source": [
    "### Linear Regression"
   ]
  },
  {
   "cell_type": "markdown",
   "metadata": {},
   "source": [
    "#### Define Model Specific Functions"
   ]
  },
  {
   "cell_type": "code",
   "execution_count": 11,
   "metadata": {},
   "outputs": [],
   "source": [
    "# Define function for linear regression cross validation\n",
    "def linregCV(store, table=False):\n",
    "        linreg = LinearRegression()\n",
    "        print('LinearRegression - CV - Store Type ' + str(store))\n",
    "        if store == 0:\n",
    "            X_train, y_train, X_test, y_test = cvX_train0, cvy_train0, cvX_test0, cvy_test0\n",
    "        elif store ==1:\n",
    "            X_train, y_train, X_test, y_test = cvX_train1, cvy_train1, cvX_test1, cvy_test1\n",
    "        else:\n",
    "            X_train, y_train, X_test, y_test = cvX_train2, cvy_train2, cvX_test2, cvy_test2\n",
    "            \n",
    "        cvmodeling(linreg, X_train, y_train, X_test, y_test, table)\n",
    "        print('\\n')"
   ]
  },
  {
   "cell_type": "markdown",
   "metadata": {},
   "source": [
    "#### Store Type 0"
   ]
  },
  {
   "cell_type": "code",
   "execution_count": 34,
   "metadata": {
    "scrolled": true
   },
   "outputs": [
    {
     "name": "stdout",
     "output_type": "stream",
     "text": [
      "LinearRegression - CV - Store Type 0\n",
      "   CV_num  R2_train_score  R2_test_score  RMSE_test_score\n",
      "0       1          0.8966  -3.791204e+24     3.004639e+16\n",
      "1       2          0.9000  -6.480850e+23     1.264206e+16\n",
      "2       3          0.9018  -1.313542e+22     1.798878e+15\n",
      "3       4          0.9024  -6.076139e+21     1.241335e+15\n",
      "4       5          0.9018  -5.293005e+21     1.175911e+15\n",
      "Mean CV R2 training score = 0.9005\n",
      "Mean CV R2 testing score = -8.927586343701596e+23\n",
      "Mean CV Root-mean-squared test score = 9380916230047378\n",
      "\n",
      "\n",
      "Wall time: 898 ms\n"
     ]
    }
   ],
   "source": [
    "%%time\n",
    "# Linear Regression CV on Store Type 0\n",
    "linregCV(0, True)"
   ]
  },
  {
   "cell_type": "markdown",
   "metadata": {},
   "source": [
    "#### Store Type 1"
   ]
  },
  {
   "cell_type": "code",
   "execution_count": 35,
   "metadata": {
    "scrolled": true
   },
   "outputs": [
    {
     "name": "stdout",
     "output_type": "stream",
     "text": [
      "LinearRegression - CV - Store Type 1\n",
      "   CV_num  R2_train_score  R2_test_score  RMSE_test_score\n",
      "0       1          0.6331  -2.067003e+24     2.292225e+16\n",
      "1       2          0.6427  -7.095726e+24     4.241503e+16\n",
      "2       3          0.6517  -5.730013e+20     3.688910e+14\n",
      "3       4          0.6575  -3.389901e+24     2.880930e+16\n",
      "4       5          0.6643  -7.754588e+22     5.542422e+15\n",
      "Mean CV R2 training score = 0.6499\n",
      "Mean CV R2 testing score = -2.5261497983843974e+24\n",
      "Mean CV Root-mean-squared test score = 20011577119268792\n",
      "\n",
      "\n",
      "Wall time: 3.95 s\n"
     ]
    }
   ],
   "source": [
    "%%time\n",
    "# Linear Regression CV on Store Type 1\n",
    "linregCV(1, True)"
   ]
  },
  {
   "cell_type": "markdown",
   "metadata": {},
   "source": [
    "#### Store Type 2"
   ]
  },
  {
   "cell_type": "code",
   "execution_count": 36,
   "metadata": {},
   "outputs": [
    {
     "name": "stdout",
     "output_type": "stream",
     "text": [
      "LinearRegression - CV - Store Type 2\n",
      "   CV_num  R2_train_score  R2_test_score  RMSE_test_score\n",
      "0       1          0.7888  -3.126525e+24     4.424536e+16\n",
      "1       2          0.7952  -7.820331e+24     7.153989e+16\n",
      "2       3          0.8003  -9.655305e+21     2.484896e+15\n",
      "3       4          0.8040  -3.452033e+24     4.804678e+16\n",
      "4       5          0.8080  -1.094594e+24     2.998432e+16\n",
      "Mean CV R2 training score = 0.7993\n",
      "Mean CV R2 testing score = -3.1006275775466636e+24\n",
      "Mean CV Root-mean-squared test score = 39260248553684576\n",
      "\n",
      "\n",
      "Wall time: 5.73 s\n"
     ]
    }
   ],
   "source": [
    "%%time\n",
    "# Linear Regression CV on Store Type 2\n",
    "linregCV(2, True)"
   ]
  },
  {
   "cell_type": "markdown",
   "metadata": {},
   "source": [
    "### Ridge Regression"
   ]
  },
  {
   "cell_type": "markdown",
   "metadata": {},
   "source": [
    "#### Define Model Specific Functions"
   ]
  },
  {
   "cell_type": "code",
   "execution_count": 41,
   "metadata": {},
   "outputs": [],
   "source": [
    "# Define function for performing ridge regression cross validation for tuning of alpha\n",
    "def ridgeregCV(store, alphas, table=False):\n",
    "    for i in alphas:\n",
    "        ridgereg = Ridge(random_state=42, alpha=i)\n",
    "        print('Ridge Regression - CV - alpha=' + str(i) + ' - Store Type ' + str(store))\n",
    "        if store == 0:\n",
    "            X_train, y_train, X_test, y_test = cvX_train0, cvy_train0, cvX_test0, cvy_test0\n",
    "        elif store ==1:\n",
    "            X_train, y_train, X_test, y_test = cvX_train1, cvy_train1, cvX_test1, cvy_test1\n",
    "        else:\n",
    "            X_train, y_train, X_test, y_test = cvX_train2, cvy_train2, cvX_test2, cvy_test2\n",
    "            \n",
    "        cvmodeling(ridgereg, X_train, y_train, X_test, y_test, table)\n",
    "        print('\\n')"
   ]
  },
  {
   "cell_type": "markdown",
   "metadata": {},
   "source": [
    "#### Store Type 0"
   ]
  },
  {
   "cell_type": "code",
   "execution_count": 42,
   "metadata": {
    "scrolled": false
   },
   "outputs": [
    {
     "name": "stdout",
     "output_type": "stream",
     "text": [
      "Ridge Regression - CV - alpha=0.001 - Store Type 0\n",
      "Mean CV R2 training score = 0.9005\n",
      "Mean CV R2 testing score = 0.9051\n",
      "Mean CV Root-mean-squared test score = 4862\n",
      "\n",
      "\n",
      "Ridge Regression - CV - alpha=0.01 - Store Type 0\n",
      "Mean CV R2 training score = 0.9005\n",
      "Mean CV R2 testing score = 0.9054\n",
      "Mean CV Root-mean-squared test score = 4854\n",
      "\n",
      "\n",
      "Ridge Regression - CV - alpha=0.1 - Store Type 0\n",
      "Mean CV R2 training score = 0.9005\n",
      "Mean CV R2 testing score = 0.9061\n",
      "Mean CV Root-mean-squared test score = 4836\n",
      "\n",
      "\n",
      "Ridge Regression - CV - alpha=1 - Store Type 0\n",
      "Mean CV R2 training score = 0.9005\n",
      "Mean CV R2 testing score = 0.9061\n",
      "Mean CV Root-mean-squared test score = 4836\n",
      "\n",
      "\n",
      "Ridge Regression - CV - alpha=10 - Store Type 0\n",
      "Mean CV R2 training score = 0.8995\n",
      "Mean CV R2 testing score = 0.9038\n",
      "Mean CV Root-mean-squared test score = 4896\n",
      "\n",
      "\n",
      "Ridge Regression - CV - alpha=100 - Store Type 0\n",
      "Mean CV R2 training score = 0.8581\n",
      "Mean CV R2 testing score = 0.8555\n",
      "Mean CV Root-mean-squared test score = 5998\n",
      "\n",
      "\n",
      "Ridge Regression - CV - alpha=1000 - Store Type 0\n",
      "Mean CV R2 training score = 0.4386\n",
      "Mean CV R2 testing score = 0.4298\n",
      "Mean CV Root-mean-squared test score = 11906\n",
      "\n",
      "\n",
      "Wall time: 3.55 s\n"
     ]
    }
   ],
   "source": [
    "%%time\n",
    "ridgeregCV(0, [0.001, 0.01, 0.1, 1, 10, 100, 1000])"
   ]
  },
  {
   "cell_type": "code",
   "execution_count": 57,
   "metadata": {},
   "outputs": [
    {
     "name": "stdout",
     "output_type": "stream",
     "text": [
      "Best parameters are {'alpha': 0.1}\n",
      "Best score is 0.8988\n"
     ]
    }
   ],
   "source": [
    "# Compare results with GridSearchCV\n",
    "param_grid = {'alpha':[0.00, 0.01, 0.1, 1, 10, 100, 1000]}\n",
    "GSCV(Ridge(), param_grid, 0)"
   ]
  },
  {
   "cell_type": "markdown",
   "metadata": {},
   "source": [
    "#### Store Type 1"
   ]
  },
  {
   "cell_type": "code",
   "execution_count": 48,
   "metadata": {
    "scrolled": false
   },
   "outputs": [
    {
     "name": "stdout",
     "output_type": "stream",
     "text": [
      "Ridge Regression - CV - alpha=0.001 - Store Type 1\n",
      "Mean CV R2 training score = 0.65\n",
      "Mean CV R2 testing score = 0.6559\n",
      "Mean CV Root-mean-squared test score = 9718\n",
      "\n",
      "\n",
      "Ridge Regression - CV - alpha=0.01 - Store Type 1\n",
      "Mean CV R2 training score = 0.65\n",
      "Mean CV R2 testing score = 0.6579\n",
      "Mean CV Root-mean-squared test score = 9693\n",
      "\n",
      "\n",
      "Ridge Regression - CV - alpha=0.1 - Store Type 1\n",
      "Mean CV R2 training score = 0.65\n",
      "Mean CV R2 testing score = 0.6678\n",
      "Mean CV Root-mean-squared test score = 9572\n",
      "\n",
      "\n",
      "Ridge Regression - CV - alpha=1 - Store Type 1\n",
      "Mean CV R2 training score = 0.6499\n",
      "Mean CV R2 testing score = 0.6767\n",
      "Mean CV Root-mean-squared test score = 9456\n",
      "\n",
      "\n",
      "Ridge Regression - CV - alpha=10 - Store Type 1\n",
      "Mean CV R2 training score = 0.6492\n",
      "Mean CV R2 testing score = 0.6805\n",
      "Mean CV Root-mean-squared test score = 9405\n",
      "\n",
      "\n",
      "Ridge Regression - CV - alpha=100 - Store Type 1\n",
      "Mean CV R2 training score = 0.642\n",
      "Mean CV R2 testing score = 0.6825\n",
      "Mean CV Root-mean-squared test score = 9380\n",
      "\n",
      "\n",
      "Ridge Regression - CV - alpha=1000 - Store Type 1\n",
      "Mean CV R2 training score = 0.5093\n",
      "Mean CV R2 testing score = 0.548\n",
      "Mean CV Root-mean-squared test score = 11173\n",
      "\n",
      "\n",
      "Wall time: 11.9 s\n"
     ]
    }
   ],
   "source": [
    "%%time\n",
    "ridgeregCV(1, [0.001, 0.01, 0.1, 1, 10, 100, 1000])"
   ]
  },
  {
   "cell_type": "code",
   "execution_count": 58,
   "metadata": {
    "scrolled": true
   },
   "outputs": [
    {
     "name": "stdout",
     "output_type": "stream",
     "text": [
      "Best parameters are {'alpha': 1}\n",
      "Best score is 0.6364\n"
     ]
    }
   ],
   "source": [
    "# Compare results with GridSearchCV\n",
    "param_grid = {'alpha':[0.00, 0.01, 0.1, 1, 10, 100, 1000]}\n",
    "GSCV(Ridge(), param_grid, 1)"
   ]
  },
  {
   "cell_type": "markdown",
   "metadata": {},
   "source": [
    "#### Store Type 2"
   ]
  },
  {
   "cell_type": "code",
   "execution_count": 50,
   "metadata": {
    "scrolled": false
   },
   "outputs": [
    {
     "name": "stdout",
     "output_type": "stream",
     "text": [
      "Ridge Regression - CV - alpha=0.001 - Store Type 2\n",
      "Mean CV R2 training score = 0.7993\n",
      "Mean CV R2 testing score = 0.8166\n",
      "Mean CV Root-mean-squared test score = 11174\n",
      "\n",
      "\n",
      "Ridge Regression - CV - alpha=0.01 - Store Type 2\n",
      "Mean CV R2 training score = 0.7993\n",
      "Mean CV R2 testing score = 0.8168\n",
      "Mean CV Root-mean-squared test score = 11169\n",
      "\n",
      "\n",
      "Ridge Regression - CV - alpha=0.1 - Store Type 2\n",
      "Mean CV R2 training score = 0.7993\n",
      "Mean CV R2 testing score = 0.8173\n",
      "Mean CV Root-mean-squared test score = 11151\n",
      "\n",
      "\n",
      "Ridge Regression - CV - alpha=1 - Store Type 2\n",
      "Mean CV R2 training score = 0.7993\n",
      "Mean CV R2 testing score = 0.8177\n",
      "Mean CV Root-mean-squared test score = 11141\n",
      "\n",
      "\n",
      "Ridge Regression - CV - alpha=10 - Store Type 2\n",
      "Mean CV R2 training score = 0.799\n",
      "Mean CV R2 testing score = 0.8176\n",
      "Mean CV Root-mean-squared test score = 11145\n",
      "\n",
      "\n",
      "Ridge Regression - CV - alpha=100 - Store Type 2\n",
      "Mean CV R2 training score = 0.7936\n",
      "Mean CV R2 testing score = 0.8117\n",
      "Mean CV Root-mean-squared test score = 11324\n",
      "\n",
      "\n",
      "Ridge Regression - CV - alpha=1000 - Store Type 2\n",
      "Mean CV R2 training score = 0.6555\n",
      "Mean CV R2 testing score = 0.6666\n",
      "Mean CV Root-mean-squared test score = 15059\n",
      "\n",
      "\n",
      "Wall time: 15.4 s\n"
     ]
    }
   ],
   "source": [
    "%%time\n",
    "ridgeregCV(2, [0.001, 0.01, 0.1, 1, 10, 100, 1000])"
   ]
  },
  {
   "cell_type": "code",
   "execution_count": 59,
   "metadata": {},
   "outputs": [
    {
     "name": "stdout",
     "output_type": "stream",
     "text": [
      "Best parameters are {'alpha': 1}\n",
      "Best score is 0.7844\n"
     ]
    }
   ],
   "source": [
    "# Compare Results with GridSearchCV\n",
    "param_grid = {'alpha':[0.00, 0.01, 0.1, 1, 10, 100, 1000]}\n",
    "GSCV(Ridge(), param_grid, 2)"
   ]
  },
  {
   "cell_type": "markdown",
   "metadata": {},
   "source": [
    "### Random Forest"
   ]
  },
  {
   "cell_type": "markdown",
   "metadata": {},
   "source": [
    "#### Define Model Specific Functions"
   ]
  },
  {
   "cell_type": "code",
   "execution_count": 11,
   "metadata": {},
   "outputs": [],
   "source": [
    "# Define function for performing random forest cross validation for tuning of max_depth\n",
    "\n",
    "def rfCV(store, tuneparam=None, param_value=None, max_depth=None, min_samples_split=2, min_samples_leaf=1, \\\n",
    "         min_weight_fraction_leaf=0, n_jobs=-1, max_features='auto', table=False):\n",
    "    if param_value == None:\n",
    "        \n",
    "        rfreg = RandomForestRegressor(random_state=42, max_depth=max_depth, min_samples_split=min_samples_split, \\\n",
    "                                      min_samples_leaf=min_samples_leaf, min_weight_fraction_leaf=min_weight_fraction, \\\n",
    "                                      max_features=max_features, n_jobs=n_jobs)\n",
    "        \n",
    "        print('Random Forest Regression - CV - Store Type ' + str(store))\n",
    "        print('max_depth = ' + str(max_depth))\n",
    "        print('min_samples_split = ' + str(min_samples_split))\n",
    "        print('min_samples_leaf = ' + str(min_samples_leaf))\n",
    "        print('min_weight_fraction_leaf = ' + str(min_weight_fraction_leaf))\n",
    "        print('max_features = ' + str(max_features))\n",
    "        \n",
    "        if store == 0:\n",
    "            X_train, y_train, X_test, y_test = cvX_train0, cvy_train0, cvX_test0, cvy_test0\n",
    "        elif store ==1:\n",
    "            X_train, y_train, X_test, y_test = cvX_train1, cvy_train1, cvX_test1, cvy_test1\n",
    "        else:\n",
    "            X_train, y_train, X_test, y_test = cvX_train2, cvy_train2, cvX_test2, cvy_test2\n",
    "            \n",
    "        cvmodeling(rfreg, X_train, y_train, X_test, y_test, table)\n",
    "        print('\\n')\n",
    "        \n",
    "    else:\n",
    "        for i in param_value:\n",
    "        \n",
    "            if tuneparam == 'max_depth':\n",
    "                rfreg = RandomForestRegressor(random_state=42, max_depth=i, min_samples_split=min_samples_split, \\\n",
    "                                              min_samples_leaf=min_samples_leaf, \\\n",
    "                                              min_weight_fraction_leaf=min_weight_fraction_leaf, \\\n",
    "                                              max_features=max_features, n_jobs=n_jobs)\n",
    "                print('Random Forest Regression - CV - Store Type ' + str(store))\n",
    "                print('max_depth = ' + str(i))\n",
    "                print('min_samples_split = ' + str(min_samples_split))\n",
    "                print('min_samples_leaf = ' + str(min_samples_leaf))\n",
    "                print('min_weight_fraction_leaf = ' + str(min_weight_fraction_leaf))\n",
    "                print('max_features = ' + str(max_features))                \n",
    "                \n",
    "            elif tuneparam == 'min_samples_split':\n",
    "                rfreg = RandomForestRegressor(random_state=42, max_depth=max_depth, \\\n",
    "                                              min_samples_split=i, \\\n",
    "                                              min_samples_leaf=min_samples_leaf, \\\n",
    "                                              min_weight_fraction_leaf=min_weight_fraction_leaf, \\\n",
    "                                              max_features=max_features, n_jobs=n_jobs)\n",
    "                print('Random Forest Regression - CV - Store Type ' + str(store))\n",
    "                print('max_depth = ' + str(max_depth))\n",
    "                print('min_samples_split = ' + str(i))\n",
    "                print('min_samples_leaf = ' + str(min_samples_leaf))\n",
    "                print('min_weight_fraction_leaf = ' + str(min_weight_fraction_leaf))\n",
    "                print('max_features = ' + str(max_features))\n",
    "                \n",
    "            elif tuneparam == 'min_samples_leaf':\n",
    "                rfreg = RandomForestRegressor(random_state=42, max_depth=max_depth, \\\n",
    "                                              min_samples_split=min_samples_split, \\\n",
    "                                              min_samples_leaf=i, \\\n",
    "                                              min_weight_fraction_leaf=min_weight_fraction_leaf, \\\n",
    "                                              max_features=max_features, n_jobs=n_jobs)\n",
    "                print('Random Forest Regression - CV - Store Type ' + str(store))\n",
    "                print('max_depth = ' + str(max_depth))\n",
    "                print('min_samples_split = ' + str(min_samples_split))\n",
    "                print('min_samples_leaf = ' + str(i))\n",
    "                print('min_weight_fraction_leaf = ' + str(min_weight_fraction_leaf))\n",
    "                print('max_features = ' + str(max_features))  \n",
    "                \n",
    "            elif tuneparam == 'min_weight_fraction_leaf':\n",
    "                rfreg = RandomForestRegressor(random_state=42, max_depth=max_depth, \\\n",
    "                                              min_samples_split=min_samples_split, \\\n",
    "                                              min_samples_leaf=min_samples_leaf, \\\n",
    "                                              min_weight_fraction_leaf=i, \\\n",
    "                                              max_features=max_features, n_jobs=n_jobs)\n",
    "                print('Random Forest Regression - CV - Store Type ' + str(store))\n",
    "                print('max_depth = ' + str(max_depth))\n",
    "                print('min_samples_split = ' + str(min_samples_split))\n",
    "                print('min_samples_leaf = ' + str(min_samples_leaf))\n",
    "                print('min_weight_fraction_leaf = ' + str(i))\n",
    "                print('max_features = ' + str(max_features))\n",
    "                \n",
    "            elif tuneparam == 'max_features':\n",
    "                rfreg = RandomForestRegressor(random_state=42, max_depth=max_depth, \\\n",
    "                                              min_samples_split=min_samples_split, \\\n",
    "                                              min_samples_leaf=min_samples_leaf, \\\n",
    "                                              min_weight_fraction_leaf=min_weight_fraction_leaf, \\\n",
    "                                              max_features=i, n_jobs=n_jobs)\n",
    "                print('Random Forest Regression - CV - Store Type ' + str(store))\n",
    "                print('max_depth = ' + str(max_depth))\n",
    "                print('min_samples_split = ' + str(min_samples_split))\n",
    "                print('min_samples_leaf = ' + str(min_samples_leaf))\n",
    "                print('min_weight_fraction_leaf = ' + str(min_weight_fraction_leaf))\n",
    "                print('max_features = ' + str(i))\n",
    "                \n",
    "            if store == 0:\n",
    "                X_train, y_train, X_test, y_test = cvX_train0, cvy_train0, cvX_test0, cvy_test0\n",
    "            elif store ==1:\n",
    "                X_train, y_train, X_test, y_test = cvX_train1, cvy_train1, cvX_test1, cvy_test1\n",
    "            else:\n",
    "                X_train, y_train, X_test, y_test = cvX_train2, cvy_train2, cvX_test2, cvy_test2\n",
    "            \n",
    "            cvmodeling(rfreg, X_train, y_train, X_test, y_test, table)\n",
    "            print('\\n')"
   ]
  },
  {
   "cell_type": "markdown",
   "metadata": {},
   "source": [
    "#### Store Type 0"
   ]
  },
  {
   "cell_type": "code",
   "execution_count": 10,
   "metadata": {
    "scrolled": false
   },
   "outputs": [
    {
     "name": "stdout",
     "output_type": "stream",
     "text": [
      "Random Forest Regression - CV - Store Type 0\n",
      "max_depth = 20\n",
      "min_samples_split = 2\n",
      "min_samples_leaf = 1\n",
      "min_weight_fraction_leaf = 0\n",
      "max_features = auto\n",
      "Mean CV R2 training score = 0.9893\n",
      "Mean CV R2 testing score = 0.9749\n",
      "Mean CV Root-mean-squared test score = 2494\n",
      "\n",
      "\n",
      "Random Forest Regression - CV - Store Type 0\n",
      "max_depth = 40\n",
      "min_samples_split = 2\n",
      "min_samples_leaf = 1\n",
      "min_weight_fraction_leaf = 0\n",
      "max_features = auto\n",
      "Mean CV R2 training score = 0.9921\n",
      "Mean CV R2 testing score = 0.9767\n",
      "Mean CV Root-mean-squared test score = 2400\n",
      "\n",
      "\n",
      "Random Forest Regression - CV - Store Type 0\n",
      "max_depth = 60\n",
      "min_samples_split = 2\n",
      "min_samples_leaf = 1\n",
      "min_weight_fraction_leaf = 0\n",
      "max_features = auto\n",
      "Mean CV R2 training score = 0.9975\n",
      "Mean CV R2 testing score = 0.9805\n",
      "Mean CV Root-mean-squared test score = 2190\n",
      "\n",
      "\n",
      "Random Forest Regression - CV - Store Type 0\n",
      "max_depth = 80\n",
      "min_samples_split = 2\n",
      "min_samples_leaf = 1\n",
      "min_weight_fraction_leaf = 0\n",
      "max_features = auto\n",
      "Mean CV R2 training score = 0.9981\n",
      "Mean CV R2 testing score = 0.9808\n",
      "Mean CV Root-mean-squared test score = 2169\n",
      "\n",
      "\n",
      "Random Forest Regression - CV - Store Type 0\n",
      "max_depth = 100\n",
      "min_samples_split = 2\n",
      "min_samples_leaf = 1\n",
      "min_weight_fraction_leaf = 0\n",
      "max_features = auto\n",
      "Mean CV R2 training score = 0.9981\n",
      "Mean CV R2 testing score = 0.9808\n",
      "Mean CV Root-mean-squared test score = 2169\n",
      "\n",
      "\n",
      "Random Forest Regression - CV - Store Type 0\n",
      "max_depth = None\n",
      "min_samples_split = 2\n",
      "min_samples_leaf = 1\n",
      "min_weight_fraction_leaf = 0\n",
      "max_features = auto\n",
      "Mean CV R2 training score = 0.9981\n",
      "Mean CV R2 testing score = 0.9808\n",
      "Mean CV Root-mean-squared test score = 2169\n",
      "\n",
      "\n",
      "Wall time: 5min 18s\n"
     ]
    }
   ],
   "source": [
    "%%time\n",
    "# CV hyperparameter tuning of max_depth for Store Type 0\n",
    "rfCV(store=0, \\\n",
    "     tuneparam='max_depth', \\\n",
    "     param_value=[20, 40, 60, 80, 100, None])"
   ]
  },
  {
   "cell_type": "markdown",
   "metadata": {},
   "source": [
    "Let's use max_depth = 80"
   ]
  },
  {
   "cell_type": "code",
   "execution_count": 11,
   "metadata": {
    "scrolled": false
   },
   "outputs": [
    {
     "name": "stdout",
     "output_type": "stream",
     "text": [
      "Random Forest Regression - CV - Store Type 0\n",
      "max_depth = 80\n",
      "min_samples_split = 2\n",
      "min_samples_leaf = 1\n",
      "min_weight_fraction_leaf = 0\n",
      "max_features = auto\n",
      "Mean CV R2 training score = 0.9981\n",
      "Mean CV R2 testing score = 0.9808\n",
      "Mean CV Root-mean-squared test score = 2169\n",
      "\n",
      "\n",
      "Random Forest Regression - CV - Store Type 0\n",
      "max_depth = 80\n",
      "min_samples_split = 5\n",
      "min_samples_leaf = 1\n",
      "min_weight_fraction_leaf = 0\n",
      "max_features = auto\n",
      "Mean CV R2 training score = 0.9975\n",
      "Mean CV R2 testing score = 0.9807\n",
      "Mean CV Root-mean-squared test score = 2174\n",
      "\n",
      "\n",
      "Random Forest Regression - CV - Store Type 0\n",
      "max_depth = 80\n",
      "min_samples_split = 10\n",
      "min_samples_leaf = 1\n",
      "min_weight_fraction_leaf = 0\n",
      "max_features = auto\n",
      "Mean CV R2 training score = 0.9963\n",
      "Mean CV R2 testing score = 0.9809\n",
      "Mean CV Root-mean-squared test score = 2165\n",
      "\n",
      "\n",
      "Random Forest Regression - CV - Store Type 0\n",
      "max_depth = 80\n",
      "min_samples_split = 15\n",
      "min_samples_leaf = 1\n",
      "min_weight_fraction_leaf = 0\n",
      "max_features = auto\n",
      "Mean CV R2 training score = 0.9951\n",
      "Mean CV R2 testing score = 0.9809\n",
      "Mean CV Root-mean-squared test score = 2166\n",
      "\n",
      "\n",
      "Random Forest Regression - CV - Store Type 0\n",
      "max_depth = 80\n",
      "min_samples_split = 20\n",
      "min_samples_leaf = 1\n",
      "min_weight_fraction_leaf = 0\n",
      "max_features = auto\n",
      "Mean CV R2 training score = 0.9938\n",
      "Mean CV R2 testing score = 0.9807\n",
      "Mean CV Root-mean-squared test score = 2179\n",
      "\n",
      "\n",
      "Random Forest Regression - CV - Store Type 0\n",
      "max_depth = 80\n",
      "min_samples_split = 25\n",
      "min_samples_leaf = 1\n",
      "min_weight_fraction_leaf = 0\n",
      "max_features = auto\n",
      "Mean CV R2 training score = 0.9927\n",
      "Mean CV R2 testing score = 0.9803\n",
      "Mean CV Root-mean-squared test score = 2201\n",
      "\n",
      "\n",
      "Random Forest Regression - CV - Store Type 0\n",
      "max_depth = 80\n",
      "min_samples_split = 30\n",
      "min_samples_leaf = 1\n",
      "min_weight_fraction_leaf = 0\n",
      "max_features = auto\n",
      "Mean CV R2 training score = 0.9915\n",
      "Mean CV R2 testing score = 0.9799\n",
      "Mean CV Root-mean-squared test score = 2224\n",
      "\n",
      "\n",
      "Random Forest Regression - CV - Store Type 0\n",
      "max_depth = 80\n",
      "min_samples_split = 35\n",
      "min_samples_leaf = 1\n",
      "min_weight_fraction_leaf = 0\n",
      "max_features = auto\n",
      "Mean CV R2 training score = 0.9903\n",
      "Mean CV R2 testing score = 0.9793\n",
      "Mean CV Root-mean-squared test score = 2256\n",
      "\n",
      "\n",
      "Random Forest Regression - CV - Store Type 0\n",
      "max_depth = 80\n",
      "min_samples_split = 40\n",
      "min_samples_leaf = 1\n",
      "min_weight_fraction_leaf = 0\n",
      "max_features = auto\n",
      "Mean CV R2 training score = 0.9892\n",
      "Mean CV R2 testing score = 0.9787\n",
      "Mean CV Root-mean-squared test score = 2290\n",
      "\n",
      "\n",
      "Wall time: 7min 49s\n"
     ]
    }
   ],
   "source": [
    "%%time\n",
    "# CV hyperparameter tuning of min_samples_split for Store Type 0\n",
    "rfCV(store=0, \\\n",
    "     tuneparam='min_samples_split', \\\n",
    "     param_value=[2, 5, 10, 15, 20, 25, 30, 35, 40], \\\n",
    "     max_depth=80)"
   ]
  },
  {
   "cell_type": "markdown",
   "metadata": {},
   "source": [
    "Let's use min_samples_split = 10"
   ]
  },
  {
   "cell_type": "code",
   "execution_count": 12,
   "metadata": {
    "scrolled": false
   },
   "outputs": [
    {
     "name": "stdout",
     "output_type": "stream",
     "text": [
      "Random Forest Regression - CV - Store Type 0\n",
      "max_depth = 80\n",
      "min_samples_split = 10\n",
      "min_samples_leaf = 1\n",
      "min_weight_fraction_leaf = 0\n",
      "max_features = auto\n",
      "Mean CV R2 training score = 0.9963\n",
      "Mean CV R2 testing score = 0.9809\n",
      "Mean CV Root-mean-squared test score = 2165\n",
      "\n",
      "\n",
      "Random Forest Regression - CV - Store Type 0\n",
      "max_depth = 80\n",
      "min_samples_split = 10\n",
      "min_samples_leaf = 5\n",
      "min_weight_fraction_leaf = 0\n",
      "max_features = auto\n",
      "Mean CV R2 training score = 0.992\n",
      "Mean CV R2 testing score = 0.9787\n",
      "Mean CV Root-mean-squared test score = 2287\n",
      "\n",
      "\n",
      "Random Forest Regression - CV - Store Type 0\n",
      "max_depth = 80\n",
      "min_samples_split = 10\n",
      "min_samples_leaf = 10\n",
      "min_weight_fraction_leaf = 0\n",
      "max_features = auto\n",
      "Mean CV R2 training score = 0.9889\n",
      "Mean CV R2 testing score = 0.9781\n",
      "Mean CV Root-mean-squared test score = 2324\n",
      "\n",
      "\n",
      "Random Forest Regression - CV - Store Type 0\n",
      "max_depth = 80\n",
      "min_samples_split = 10\n",
      "min_samples_leaf = 15\n",
      "min_weight_fraction_leaf = 0\n",
      "max_features = auto\n",
      "Mean CV R2 training score = 0.9875\n",
      "Mean CV R2 testing score = 0.9773\n",
      "Mean CV Root-mean-squared test score = 2364\n",
      "\n",
      "\n",
      "Random Forest Regression - CV - Store Type 0\n",
      "max_depth = 80\n",
      "min_samples_split = 10\n",
      "min_samples_leaf = 20\n",
      "min_weight_fraction_leaf = 0\n",
      "max_features = auto\n",
      "Mean CV R2 training score = 0.986\n",
      "Mean CV R2 testing score = 0.9762\n",
      "Mean CV Root-mean-squared test score = 2419\n",
      "\n",
      "\n",
      "Wall time: 4min 13s\n"
     ]
    }
   ],
   "source": [
    "%%time\n",
    "# CV hyperparameter tuning of min_samples_leaf for Store Type 0\n",
    "rfCV(store=0, \\\n",
    "     tuneparam='min_samples_leaf', \\\n",
    "     param_value=[1, 5, 10, 15, 20], \\\n",
    "     max_depth=80, \\\n",
    "     min_samples_split=10)"
   ]
  },
  {
   "cell_type": "markdown",
   "metadata": {},
   "source": [
    "Let's use min_samples_leaf = 1"
   ]
  },
  {
   "cell_type": "code",
   "execution_count": 13,
   "metadata": {
    "scrolled": false
   },
   "outputs": [
    {
     "name": "stdout",
     "output_type": "stream",
     "text": [
      "Random Forest Regression - CV - Store Type 0\n",
      "max_depth = 80\n",
      "min_samples_split = 10\n",
      "min_samples_leaf = 1\n",
      "min_weight_fraction_leaf = 0\n",
      "max_features = auto\n",
      "Mean CV R2 training score = 0.9963\n",
      "Mean CV R2 testing score = 0.9809\n",
      "Mean CV Root-mean-squared test score = 2165\n",
      "\n",
      "\n",
      "Random Forest Regression - CV - Store Type 0\n",
      "max_depth = 80\n",
      "min_samples_split = 10\n",
      "min_samples_leaf = 1\n",
      "min_weight_fraction_leaf = 0.0001\n",
      "max_features = auto\n",
      "Mean CV R2 training score = 0.995\n",
      "Mean CV R2 testing score = 0.9803\n",
      "Mean CV Root-mean-squared test score = 2198\n",
      "\n",
      "\n",
      "Random Forest Regression - CV - Store Type 0\n",
      "max_depth = 80\n",
      "min_samples_split = 10\n",
      "min_samples_leaf = 1\n",
      "min_weight_fraction_leaf = 0.0005\n",
      "max_features = auto\n",
      "Mean CV R2 training score = 0.9909\n",
      "Mean CV R2 testing score = 0.9784\n",
      "Mean CV Root-mean-squared test score = 2305\n",
      "\n",
      "\n",
      "Random Forest Regression - CV - Store Type 0\n",
      "max_depth = 80\n",
      "min_samples_split = 10\n",
      "min_samples_leaf = 1\n",
      "min_weight_fraction_leaf = 0.001\n",
      "max_features = auto\n",
      "Mean CV R2 training score = 0.9883\n",
      "Mean CV R2 testing score = 0.9773\n",
      "Mean CV Root-mean-squared test score = 2361\n",
      "\n",
      "\n",
      "Random Forest Regression - CV - Store Type 0\n",
      "max_depth = 80\n",
      "min_samples_split = 10\n",
      "min_samples_leaf = 1\n",
      "min_weight_fraction_leaf = 0.005\n",
      "max_features = auto\n",
      "Mean CV R2 training score = 0.9442\n",
      "Mean CV R2 testing score = 0.9274\n",
      "Mean CV Root-mean-squared test score = 4233\n",
      "\n",
      "\n",
      "Wall time: 4min 4s\n"
     ]
    }
   ],
   "source": [
    "%%time\n",
    "# CV hyperparameter tuning of min_weight_fraction_leaf for Store Type 0\n",
    "rfCV(store=0, \\\n",
    "     tuneparam='min_weight_fraction_leaf', \\\n",
    "     param_value=[0, 0.0001, 0.0005, 0.001, 0.005], \\\n",
    "     max_depth=80, \\\n",
    "     min_samples_split=10, \\\n",
    "     min_samples_leaf=1)"
   ]
  },
  {
   "cell_type": "markdown",
   "metadata": {},
   "source": [
    "We'll leave min_weight_fraction_leaf = 0"
   ]
  },
  {
   "cell_type": "code",
   "execution_count": 14,
   "metadata": {
    "scrolled": false
   },
   "outputs": [
    {
     "name": "stdout",
     "output_type": "stream",
     "text": [
      "Random Forest Regression - CV - Store Type 0\n",
      "max_depth = 80\n",
      "min_samples_split = 10\n",
      "min_samples_leaf = 1\n",
      "min_weight_fraction_leaf = 0\n",
      "max_features = auto\n",
      "Mean CV R2 training score = 0.9963\n",
      "Mean CV R2 testing score = 0.9809\n",
      "Mean CV Root-mean-squared test score = 2165\n",
      "\n",
      "\n",
      "Random Forest Regression - CV - Store Type 0\n",
      "max_depth = 80\n",
      "min_samples_split = 10\n",
      "min_samples_leaf = 1\n",
      "min_weight_fraction_leaf = 0\n",
      "max_features = sqrt\n",
      "Mean CV R2 training score = 0.9907\n",
      "Mean CV R2 testing score = 0.9755\n",
      "Mean CV Root-mean-squared test score = 2461\n",
      "\n",
      "\n",
      "Random Forest Regression - CV - Store Type 0\n",
      "max_depth = 80\n",
      "min_samples_split = 10\n",
      "min_samples_leaf = 1\n",
      "min_weight_fraction_leaf = 0\n",
      "max_features = log2\n",
      "Mean CV R2 training score = 0.9791\n",
      "Mean CV R2 testing score = 0.9592\n",
      "Mean CV Root-mean-squared test score = 3183\n",
      "\n",
      "\n",
      "Wall time: 1min 18s\n"
     ]
    }
   ],
   "source": [
    "%%time\n",
    "# CV hyperparameter tuning of max_depth for Store Type 0\n",
    "rfCV(store=0, \\\n",
    "     tuneparam='max_features', \\\n",
    "     param_value=['auto', 'sqrt', 'log2'], \\\n",
    "     max_depth=80, \\\n",
    "     min_samples_split=10, \\\n",
    "     min_samples_leaf=1, \\\n",
    "     min_weight_fraction_leaf=0)"
   ]
  },
  {
   "cell_type": "markdown",
   "metadata": {},
   "source": [
    "We'll leave max_features as 'auto'"
   ]
  },
  {
   "cell_type": "code",
   "execution_count": 12,
   "metadata": {},
   "outputs": [
    {
     "name": "stdout",
     "output_type": "stream",
     "text": [
      "Best parameters are {'min_samples_split': 29, 'min_samples_leaf': 1, 'max_features': 'auto', 'max_depth': 90}\n",
      "Best RMSE score is 2057\n",
      "Wall time: 6min 56s\n"
     ]
    }
   ],
   "source": [
    "%%time\n",
    "#Let's try a RandomizedSearchCV on these parameters to see if there's interdependence between hyperparameters\n",
    "param_grid = {'max_depth':np.arange(10, 100, 10), \\\n",
    "              'min_samples_split':np.arange(2, 100, 1), \\\n",
    "              'min_samples_leaf':np.arange(1, 100, 1), \\\n",
    "              'max_features':['auto', 'sqrt', 'log2']}\n",
    "RSCV(RandomForestRegressor(n_jobs=-1), param_grid, 0, n_iter=100)"
   ]
  },
  {
   "cell_type": "markdown",
   "metadata": {},
   "source": [
    "#### Store Type 1"
   ]
  },
  {
   "cell_type": "code",
   "execution_count": 14,
   "metadata": {
    "scrolled": false
   },
   "outputs": [
    {
     "name": "stdout",
     "output_type": "stream",
     "text": [
      "Random Forest Regression - CV - Store Type 1\n",
      "max_depth = 20\n",
      "min_samples_split = 2\n",
      "min_samples_leaf = 1\n",
      "min_weight_fraction_leaf = 0\n",
      "max_features = auto\n",
      "Mean CV R2 training score = 0.8188\n",
      "Mean CV R2 testing score = 0.7932\n",
      "Mean CV Root-mean-squared test score = 6368\n",
      "\n",
      "\n",
      "Random Forest Regression - CV - Store Type 1\n",
      "max_depth = 40\n",
      "min_samples_split = 2\n",
      "min_samples_leaf = 1\n",
      "min_weight_fraction_leaf = 0\n",
      "max_features = auto\n",
      "Mean CV R2 training score = 0.9467\n",
      "Mean CV R2 testing score = 0.8818\n",
      "Mean CV Root-mean-squared test score = 4663\n",
      "\n",
      "\n",
      "Random Forest Regression - CV - Store Type 1\n",
      "max_depth = 60\n",
      "min_samples_split = 2\n",
      "min_samples_leaf = 1\n",
      "min_weight_fraction_leaf = 0\n",
      "max_features = auto\n",
      "Mean CV R2 training score = 0.9678\n",
      "Mean CV R2 testing score = 0.8936\n",
      "Mean CV Root-mean-squared test score = 4353\n",
      "\n",
      "\n",
      "Random Forest Regression - CV - Store Type 1\n",
      "max_depth = 80\n",
      "min_samples_split = 2\n",
      "min_samples_leaf = 1\n",
      "min_weight_fraction_leaf = 0\n",
      "max_features = auto\n",
      "Mean CV R2 training score = 0.9891\n",
      "Mean CV R2 testing score = 0.905\n",
      "Mean CV Root-mean-squared test score = 4040\n",
      "\n",
      "\n",
      "Random Forest Regression - CV - Store Type 1\n",
      "max_depth = 100\n",
      "min_samples_split = 2\n",
      "min_samples_leaf = 1\n",
      "min_weight_fraction_leaf = 0\n",
      "max_features = auto\n",
      "Mean CV R2 training score = 0.992\n",
      "Mean CV R2 testing score = 0.9058\n",
      "Mean CV Root-mean-squared test score = 4031\n",
      "\n",
      "\n",
      "Random Forest Regression - CV - Store Type 1\n",
      "max_depth = None\n",
      "min_samples_split = 2\n",
      "min_samples_leaf = 1\n",
      "min_weight_fraction_leaf = 0\n",
      "max_features = auto\n",
      "Mean CV R2 training score = 0.9921\n",
      "Mean CV R2 testing score = 0.9052\n",
      "Mean CV Root-mean-squared test score = 4042\n",
      "\n",
      "\n",
      "Wall time: 6min 34s\n"
     ]
    }
   ],
   "source": [
    "%%time\n",
    "# CV hyperparameter tuning of max_depth for Store Type 1\n",
    "rfCV(store=1, tuneparam='max_depth', param_value=[20, 40, 60, 80, 100, None])"
   ]
  },
  {
   "cell_type": "markdown",
   "metadata": {},
   "source": [
    "Let's use max_depth = 80"
   ]
  },
  {
   "cell_type": "code",
   "execution_count": 78,
   "metadata": {
    "scrolled": false
   },
   "outputs": [
    {
     "name": "stdout",
     "output_type": "stream",
     "text": [
      "Random Forest Regression - CV - Store Type 1\n",
      "max_depth = 80\n",
      "min_samples_split = 2\n",
      "min_samples_leaf = 1\n",
      "min_weight_fraction_leaf = 0\n",
      "max_features = auto\n",
      "Mean CV R2 training score = 0.983\n",
      "Mean CV R2 testing score = 0.8699\n",
      "Mean CV Root-mean-squared test score = 5349\n",
      "\n",
      "\n",
      "Random Forest Regression - CV - Store Type 1\n",
      "max_depth = 80\n",
      "min_samples_split = 5\n",
      "min_samples_leaf = 1\n",
      "min_weight_fraction_leaf = 0\n",
      "max_features = auto\n",
      "Mean CV R2 training score = 0.9779\n",
      "Mean CV R2 testing score = 0.8802\n",
      "Mean CV Root-mean-squared test score = 5191\n",
      "\n",
      "\n",
      "Random Forest Regression - CV - Store Type 1\n",
      "max_depth = 80\n",
      "min_samples_split = 10\n",
      "min_samples_leaf = 1\n",
      "min_weight_fraction_leaf = 0\n",
      "max_features = auto\n",
      "Mean CV R2 training score = 0.9645\n",
      "Mean CV R2 testing score = 0.8814\n",
      "Mean CV Root-mean-squared test score = 5222\n",
      "\n",
      "\n",
      "Random Forest Regression - CV - Store Type 1\n",
      "max_depth = 80\n",
      "min_samples_split = 15\n",
      "min_samples_leaf = 1\n",
      "min_weight_fraction_leaf = 0\n",
      "max_features = auto\n",
      "Mean CV R2 training score = 0.9493\n",
      "Mean CV R2 testing score = 0.881\n",
      "Mean CV Root-mean-squared test score = 5294\n",
      "\n",
      "\n",
      "Random Forest Regression - CV - Store Type 1\n",
      "max_depth = 80\n",
      "min_samples_split = 20\n",
      "min_samples_leaf = 1\n",
      "min_weight_fraction_leaf = 0\n",
      "max_features = auto\n",
      "Mean CV R2 training score = 0.9452\n",
      "Mean CV R2 testing score = 0.8795\n",
      "Mean CV Root-mean-squared test score = 5334\n",
      "\n",
      "\n",
      "Random Forest Regression - CV - Store Type 1\n",
      "max_depth = 80\n",
      "min_samples_split = 25\n",
      "min_samples_leaf = 1\n",
      "min_weight_fraction_leaf = 0\n",
      "max_features = auto\n",
      "Mean CV R2 training score = 0.9417\n",
      "Mean CV R2 testing score = 0.8837\n",
      "Mean CV Root-mean-squared test score = 5287\n",
      "\n",
      "\n",
      "Random Forest Regression - CV - Store Type 1\n",
      "max_depth = 80\n",
      "min_samples_split = 30\n",
      "min_samples_leaf = 1\n",
      "min_weight_fraction_leaf = 0\n",
      "max_features = auto\n",
      "Mean CV R2 training score = 0.9371\n",
      "Mean CV R2 testing score = 0.895\n",
      "Mean CV Root-mean-squared test score = 5130\n",
      "\n",
      "\n",
      "Random Forest Regression - CV - Store Type 1\n",
      "max_depth = 80\n",
      "min_samples_split = 35\n",
      "min_samples_leaf = 1\n",
      "min_weight_fraction_leaf = 0\n",
      "max_features = auto\n",
      "Mean CV R2 training score = 0.9305\n",
      "Mean CV R2 testing score = 0.9009\n",
      "Mean CV Root-mean-squared test score = 5049\n",
      "\n",
      "\n",
      "Random Forest Regression - CV - Store Type 1\n",
      "max_depth = 80\n",
      "min_samples_split = 40\n",
      "min_samples_leaf = 1\n",
      "min_weight_fraction_leaf = 0\n",
      "max_features = auto\n",
      "Mean CV R2 training score = 0.9242\n",
      "Mean CV R2 testing score = 0.8982\n",
      "Mean CV Root-mean-squared test score = 5131\n",
      "\n",
      "\n",
      "Wall time: 48min 23s\n"
     ]
    }
   ],
   "source": [
    "%%time\n",
    "# CV hyperparameter tuning of min_samples_split for Store Type 1\n",
    "rfCV(store=1, tuneparam='min_samples_split', param_value=[2, 5, 10, 15, 20, 25, 30, 35, 40], max_depth=80)"
   ]
  },
  {
   "cell_type": "markdown",
   "metadata": {},
   "source": [
    "min_samples_split=35 worked well"
   ]
  },
  {
   "cell_type": "markdown",
   "metadata": {},
   "source": [
    "Let's try keeping min_samples_split = 2 and doing the CV tuning on min_samples_leaf"
   ]
  },
  {
   "cell_type": "code",
   "execution_count": 83,
   "metadata": {
    "scrolled": false
   },
   "outputs": [
    {
     "name": "stdout",
     "output_type": "stream",
     "text": [
      "Random Forest Regression - CV - Store Type 1\n",
      "max_depth = 80\n",
      "min_samples_split = 2\n",
      "min_samples_leaf = 5\n",
      "min_weight_fraction_leaf = 0\n",
      "max_features = auto\n",
      "Mean CV R2 training score = 0.9419\n",
      "Mean CV R2 testing score = 0.8813\n",
      "Mean CV Root-mean-squared test score = 5424\n",
      "\n",
      "\n",
      "Random Forest Regression - CV - Store Type 1\n",
      "max_depth = 80\n",
      "min_samples_split = 2\n",
      "min_samples_leaf = 10\n",
      "min_weight_fraction_leaf = 0\n",
      "max_features = auto\n",
      "Mean CV R2 training score = 0.9062\n",
      "Mean CV R2 testing score = 0.8524\n",
      "Mean CV Root-mean-squared test score = 6031\n",
      "\n",
      "\n",
      "Random Forest Regression - CV - Store Type 1\n",
      "max_depth = 80\n",
      "min_samples_split = 2\n",
      "min_samples_leaf = 15\n",
      "min_weight_fraction_leaf = 0\n",
      "max_features = auto\n",
      "Mean CV R2 training score = 0.8774\n",
      "Mean CV R2 testing score = 0.8129\n",
      "Mean CV Root-mean-squared test score = 6685\n",
      "\n",
      "\n",
      "Random Forest Regression - CV - Store Type 1\n",
      "max_depth = 80\n",
      "min_samples_split = 2\n",
      "min_samples_leaf = 20\n",
      "min_weight_fraction_leaf = 0\n",
      "max_features = auto\n",
      "Mean CV R2 training score = 0.8607\n",
      "Mean CV R2 testing score = 0.8017\n",
      "Mean CV Root-mean-squared test score = 6901\n",
      "\n",
      "\n",
      "Wall time: 20min 43s\n"
     ]
    }
   ],
   "source": [
    "%%time\n",
    "# CV hyperparameter tuning of min_samples_leaf for Store Type 1\n",
    "rfCV(store=1, tuneparam='min_samples_leaf', param_value=[5, 10, 15, 20], max_depth=80, min_samples_split=2)"
   ]
  },
  {
   "cell_type": "markdown",
   "metadata": {},
   "source": [
    "Let's leaf min_samples_leaf=1 and set min_samples_split=35"
   ]
  },
  {
   "cell_type": "code",
   "execution_count": 41,
   "metadata": {
    "scrolled": false
   },
   "outputs": [
    {
     "name": "stdout",
     "output_type": "stream",
     "text": [
      "Random Forest Regression - CV - Store Type 1\n",
      "max_depth = 80\n",
      "min_samples_split = 35\n",
      "min_samples_leaf = 1\n",
      "min_weight_fraction_leaf = 0.0001\n",
      "max_features = auto\n",
      "Mean CV R2 training score = 0.9104\n",
      "Mean CV R2 testing score = 0.8865\n",
      "Mean CV Root-mean-squared test score = 5427\n",
      "\n",
      "\n",
      "Random Forest Regression - CV - Store Type 1\n",
      "max_depth = 80\n",
      "min_samples_split = 35\n",
      "min_samples_leaf = 1\n",
      "min_weight_fraction_leaf = 0.0005\n",
      "max_features = auto\n",
      "Mean CV R2 training score = 0.8517\n",
      "Mean CV R2 testing score = 0.7925\n",
      "Mean CV Root-mean-squared test score = 7143\n",
      "\n",
      "\n",
      "Random Forest Regression - CV - Store Type 1\n",
      "max_depth = 80\n",
      "min_samples_split = 35\n",
      "min_samples_leaf = 1\n",
      "min_weight_fraction_leaf = 0.001\n",
      "max_features = auto\n",
      "Mean CV R2 training score = 0.751\n",
      "Mean CV R2 testing score = 0.6868\n",
      "Mean CV Root-mean-squared test score = 9099\n",
      "\n",
      "\n",
      "Random Forest Regression - CV - Store Type 1\n",
      "max_depth = 80\n",
      "min_samples_split = 35\n",
      "min_samples_leaf = 1\n",
      "min_weight_fraction_leaf = 0.005\n",
      "max_features = auto\n",
      "Mean CV R2 training score = 0.5824\n",
      "Mean CV R2 testing score = 0.6072\n",
      "Mean CV Root-mean-squared test score = 10430\n",
      "\n",
      "\n",
      "Wall time: 18min 14s\n"
     ]
    }
   ],
   "source": [
    "%%time\n",
    "# CV hyperparameter tuning of min_weight_fraction_leaf for Store Type 1\n",
    "rfCV(store=1, tuneparam='min_weight_fraction_leaf', param_value=[0.0001, 0.0005, 0.001, 0.005], max_depth=80, \\\n",
    "     min_samples_split=35, min_samples_leaf=1)"
   ]
  },
  {
   "cell_type": "markdown",
   "metadata": {},
   "source": [
    "Leaving min_weight_fraction_leaf=0"
   ]
  },
  {
   "cell_type": "code",
   "execution_count": 43,
   "metadata": {
    "scrolled": false
   },
   "outputs": [
    {
     "name": "stdout",
     "output_type": "stream",
     "text": [
      "Random Forest Regression - CV - Store Type 1\n",
      "max_depth = 80\n",
      "min_samples_split = 35\n",
      "min_samples_leaf = 1\n",
      "min_weight_fraction_leaf = 0\n",
      "max_features = auto\n",
      "Mean CV R2 training score = 0.9305\n",
      "Mean CV R2 testing score = 0.9009\n",
      "Mean CV Root-mean-squared test score = 5049\n",
      "\n",
      "\n",
      "Random Forest Regression - CV - Store Type 1\n",
      "max_depth = 80\n",
      "min_samples_split = 35\n",
      "min_samples_leaf = 1\n",
      "min_weight_fraction_leaf = 0\n",
      "max_features = sqrt\n",
      "Mean CV R2 training score = 0.8883\n",
      "Mean CV R2 testing score = 0.8715\n",
      "Mean CV Root-mean-squared test score = 5818\n",
      "\n",
      "\n",
      "Random Forest Regression - CV - Store Type 1\n",
      "max_depth = 80\n",
      "min_samples_split = 35\n",
      "min_samples_leaf = 1\n",
      "min_weight_fraction_leaf = 0\n",
      "max_features = log2\n",
      "Mean CV R2 training score = 0.8598\n",
      "Mean CV R2 testing score = 0.8541\n",
      "Mean CV Root-mean-squared test score = 6249\n",
      "\n",
      "\n",
      "Wall time: 6min 10s\n"
     ]
    }
   ],
   "source": [
    "%%time\n",
    "# CV hyperparameter tuning of max_depth for Store Type 1\n",
    "rfCV(store=1, tuneparam='max_features', param_value=['auto', 'sqrt', 'log2'], max_depth=80, \\\n",
    "     min_samples_split=35, min_samples_leaf=1, min_weight_fraction_leaf=0)"
   ]
  },
  {
   "cell_type": "markdown",
   "metadata": {},
   "source": [
    "Leaving max_features='auto'"
   ]
  },
  {
   "cell_type": "code",
   "execution_count": 13,
   "metadata": {},
   "outputs": [
    {
     "name": "stdout",
     "output_type": "stream",
     "text": [
      "Best parameters are {'min_samples_split': 3, 'min_samples_leaf': 1, 'max_depth': 80}\n",
      "Best RMSE score is 4115\n",
      "Wall time: 1h 14min 26s\n"
     ]
    }
   ],
   "source": [
    "%%time\n",
    "# Now let's try with RandomizedSearchCV\n",
    "param_grid = {'max_depth':np.arange(10, 100, 10), \\\n",
    "              'min_samples_split':np.arange(2, 10, 1), \\\n",
    "              'min_samples_leaf':np.arange(1, 10, 1)}\n",
    "RSCV(RandomForestRegressor(n_jobs=-1), param_grid, 1, n_iter=100)"
   ]
  },
  {
   "cell_type": "code",
   "execution_count": null,
   "metadata": {},
   "outputs": [],
   "source": [
    "%%time\n",
    "# Now let's try with RandomizedSearchCV\n",
    "param_grid = {'max_depth':np.arange(10, 100, 10), \\\n",
    "              'min_samples_split':np.arange(2, 10, 1), \\\n",
    "              'min_samples_leaf':np.arange(1, 10, 1)}\n",
    "RSCV(RandomForestRegressor(n_jobs=13), param_grid, 1, n_iter=100)"
   ]
  },
  {
   "cell_type": "markdown",
   "metadata": {},
   "source": [
    "Seems like I got better results previously"
   ]
  },
  {
   "cell_type": "markdown",
   "metadata": {},
   "source": [
    "Not bad, but we'll try to improve it through additional measures later\n"
   ]
  },
  {
   "cell_type": "markdown",
   "metadata": {},
   "source": [
    "#### Store Type 2"
   ]
  },
  {
   "cell_type": "markdown",
   "metadata": {},
   "source": [
    "It seems like max_depth and min_samples_split are the two main parameters to tune. Will only focus on those for Store Type 2"
   ]
  },
  {
   "cell_type": "code",
   "execution_count": 46,
   "metadata": {
    "scrolled": false
   },
   "outputs": [
    {
     "name": "stdout",
     "output_type": "stream",
     "text": [
      "Random Forest Regression - CV - Store Type 2\n",
      "max_depth = 40\n",
      "min_samples_split = 2\n",
      "min_samples_leaf = 1\n",
      "min_weight_fraction_leaf = 0\n",
      "max_features = auto\n",
      "Mean CV R2 training score = 0.9674\n",
      "Mean CV R2 testing score = 0.9362\n",
      "Mean CV Root-mean-squared test score = 6480\n",
      "\n",
      "\n",
      "Random Forest Regression - CV - Store Type 2\n",
      "max_depth = 60\n",
      "min_samples_split = 2\n",
      "min_samples_leaf = 1\n",
      "min_weight_fraction_leaf = 0\n",
      "max_features = auto\n",
      "Mean CV R2 training score = 0.9803\n",
      "Mean CV R2 testing score = 0.9434\n",
      "Mean CV Root-mean-squared test score = 6062\n",
      "\n",
      "\n",
      "Random Forest Regression - CV - Store Type 2\n",
      "max_depth = 80\n",
      "min_samples_split = 2\n",
      "min_samples_leaf = 1\n",
      "min_weight_fraction_leaf = 0\n",
      "max_features = auto\n",
      "Mean CV R2 training score = 0.99\n",
      "Mean CV R2 testing score = 0.9488\n",
      "Mean CV Root-mean-squared test score = 5748\n",
      "\n",
      "\n",
      "Random Forest Regression - CV - Store Type 2\n",
      "max_depth = 100\n",
      "min_samples_split = 2\n",
      "min_samples_leaf = 1\n",
      "min_weight_fraction_leaf = 0\n",
      "max_features = auto\n",
      "Mean CV R2 training score = 0.9943\n",
      "Mean CV R2 testing score = 0.9504\n",
      "Mean CV Root-mean-squared test score = 5649\n",
      "\n",
      "\n",
      "Random Forest Regression - CV - Store Type 2\n",
      "max_depth = None\n",
      "min_samples_split = 2\n",
      "min_samples_leaf = 1\n",
      "min_weight_fraction_leaf = 0\n",
      "max_features = auto\n",
      "Mean CV R2 training score = 0.9943\n",
      "Mean CV R2 testing score = 0.9504\n",
      "Mean CV Root-mean-squared test score = 5652\n",
      "\n",
      "\n",
      "Wall time: 41min 37s\n"
     ]
    }
   ],
   "source": [
    "%%time\n",
    "# CV hyperparameter tuning of max_depth for Store Type 2\n",
    "rfCV(store=2, tuneparam='max_depth', param_value=[40, 60, 80, 100, None])"
   ]
  },
  {
   "cell_type": "markdown",
   "metadata": {},
   "source": [
    "Let's use max_depth = 100"
   ]
  },
  {
   "cell_type": "markdown",
   "metadata": {},
   "source": [
    "*(I am now running on my laptop with 2 cores rather than my desktop with 4. To maintain CPU temp I'm setting n_jobs=-2 rather than n_jobs=-1. Will take significantly longer than it would on my desktop running with all cores in parallel.)*"
   ]
  },
  {
   "cell_type": "code",
   "execution_count": 50,
   "metadata": {
    "scrolled": false
   },
   "outputs": [
    {
     "name": "stdout",
     "output_type": "stream",
     "text": [
      "Random Forest Regression - CV - Store Type 2\n",
      "max_depth = 100\n",
      "min_samples_split = 5\n",
      "min_samples_leaf = 1\n",
      "min_weight_fraction_leaf = 0\n",
      "max_features = auto\n",
      "Mean CV R2 training score = 0.9919\n",
      "Mean CV R2 testing score = 0.9509\n",
      "Mean CV Root-mean-squared test score = 5623\n",
      "\n",
      "\n",
      "Random Forest Regression - CV - Store Type 2\n",
      "max_depth = 100\n",
      "min_samples_split = 10\n",
      "min_samples_leaf = 1\n",
      "min_weight_fraction_leaf = 0\n",
      "max_features = auto\n",
      "Mean CV R2 training score = 0.986\n",
      "Mean CV R2 testing score = 0.9507\n",
      "Mean CV Root-mean-squared test score = 5638\n",
      "\n",
      "\n",
      "Random Forest Regression - CV - Store Type 2\n",
      "max_depth = 100\n",
      "min_samples_split = 15\n",
      "min_samples_leaf = 1\n",
      "min_weight_fraction_leaf = 0\n",
      "max_features = auto\n",
      "Mean CV R2 training score = 0.9801\n",
      "Mean CV R2 testing score = 0.9496\n",
      "Mean CV Root-mean-squared test score = 5710\n",
      "\n",
      "\n",
      "Random Forest Regression - CV - Store Type 2\n",
      "max_depth = 100\n",
      "min_samples_split = 20\n",
      "min_samples_leaf = 1\n",
      "min_weight_fraction_leaf = 0\n",
      "max_features = auto\n",
      "Mean CV R2 training score = 0.9753\n",
      "Mean CV R2 testing score = 0.9485\n",
      "Mean CV Root-mean-squared test score = 5785\n",
      "\n",
      "\n",
      "Random Forest Regression - CV - Store Type 2\n",
      "max_depth = 100\n",
      "min_samples_split = 25\n",
      "min_samples_leaf = 1\n",
      "min_weight_fraction_leaf = 0\n",
      "max_features = auto\n",
      "Mean CV R2 training score = 0.973\n",
      "Mean CV R2 testing score = 0.9482\n",
      "Mean CV Root-mean-squared test score = 5806\n",
      "\n",
      "\n",
      "Random Forest Regression - CV - Store Type 2\n",
      "max_depth = 100\n",
      "min_samples_split = 30\n",
      "min_samples_leaf = 1\n",
      "min_weight_fraction_leaf = 0\n",
      "max_features = auto\n",
      "Mean CV R2 training score = 0.9711\n",
      "Mean CV R2 testing score = 0.9483\n",
      "Mean CV Root-mean-squared test score = 5806\n",
      "\n",
      "\n",
      "Random Forest Regression - CV - Store Type 2\n",
      "max_depth = 100\n",
      "min_samples_split = 35\n",
      "min_samples_leaf = 1\n",
      "min_weight_fraction_leaf = 0\n",
      "max_features = auto\n",
      "Mean CV R2 training score = 0.9692\n",
      "Mean CV R2 testing score = 0.9483\n",
      "Mean CV Root-mean-squared test score = 5813\n",
      "\n",
      "\n",
      "Random Forest Regression - CV - Store Type 2\n",
      "max_depth = 100\n",
      "min_samples_split = 40\n",
      "min_samples_leaf = 1\n",
      "min_weight_fraction_leaf = 0\n",
      "max_features = auto\n",
      "Mean CV R2 training score = 0.9675\n",
      "Mean CV R2 testing score = 0.9479\n",
      "Mean CV Root-mean-squared test score = 5838\n",
      "\n",
      "\n",
      "CPU times: user 3h 41min 35s, sys: 35.9 s, total: 3h 42min 11s\n",
      "Wall time: 3h 44min\n"
     ]
    }
   ],
   "source": [
    "%%time\n",
    "# CV hyperparameter tuning of min_samples_split for Store Type 2\n",
    "rfCV(store=2, tuneparam='min_samples_split', param_value=[5, 10, 15, 20, 25, 30, 35, 40], max_depth=100, n_jobs=None)"
   ]
  },
  {
   "cell_type": "markdown",
   "metadata": {},
   "source": [
    "Use min_samples_split = 5"
   ]
  },
  {
   "cell_type": "code",
   "execution_count": 42,
   "metadata": {},
   "outputs": [
    {
     "name": "stdout",
     "output_type": "stream",
     "text": [
      "Best parameters are {'min_samples_split': 5, 'min_samples_leaf': 2, 'max_depth': 90}\n",
      "Best RMSE score is 7058.0\n",
      "Wall time: 1h 16min 39s\n"
     ]
    }
   ],
   "source": [
    "%%time\n",
    "# Now let's try with RandomizedSearchCV\n",
    "param_grid = {'max_depth':np.arange(10, 100, 10), \\\n",
    "              'min_samples_split':np.arange(5, 50, 5), \\\n",
    "              'min_samples_leaf':np.arange(1, 20, 1)}\n",
    "RSCV(RandomForestRegressor(n_jobs=-2), param_grid, 2, n_iter=10)"
   ]
  },
  {
   "cell_type": "markdown",
   "metadata": {},
   "source": [
    "### PCA"
   ]
  },
  {
   "cell_type": "markdown",
   "metadata": {},
   "source": [
    "Let's attempt to improve the Store Type 1 model by performing PCA prior to fitting a Random Forest Regressor"
   ]
  },
  {
   "cell_type": "markdown",
   "metadata": {},
   "source": [
    "#### Define Model Specific Functions"
   ]
  },
  {
   "cell_type": "code",
   "execution_count": 34,
   "metadata": {},
   "outputs": [],
   "source": [
    "# Define function for performing PCA transform prior to runnin CV on Default Random Forest\n",
    "def pcaRfCV(store, n_components=[None], max_depth=None, min_samples_split=2, min_samples_leaf=1, \\\n",
    "            min_weight_fraction_leaf=0, max_features='auto', n_jobs=-1, table=False):\n",
    "           \n",
    "    if store == 0:\n",
    "        X_train, y_train, X_test, y_test = cvX_train0, cvy_train0, cvX_test0, cvy_test0\n",
    "    elif store ==1:\n",
    "        X_train, y_train, X_test, y_test = cvX_train1, cvy_train1, cvX_test1, cvy_test1\n",
    "    else:\n",
    "        X_train, y_train, X_test, y_test = cvX_train2, cvy_train2, cvX_test2, cvy_test2\n",
    "    \n",
    "    for i in n_components:\n",
    "        \n",
    "        X_train0, X_train1, X_train2, X_train3, X_train4 = X_train[0], X_train[1], X_train[2], X_train[3], X_train[4]\n",
    "        X_test0, X_test1, X_test2, X_test3, X_test4 = X_test[0], X_test[1], X_test[2], X_test[3], X_test[4]\n",
    "             \n",
    "        pca0 = PCA(random_state=42, n_components=i)\n",
    "        pcaX_train0 = pca0.fit_transform(X_train0)\n",
    "        pcaX_test0 = pca0.transform(X_test0)\n",
    "        \n",
    "        pca1 = PCA(random_state=42, n_components=i)\n",
    "        pcaX_train1 = pca1.fit_transform(X_train1)\n",
    "        pcaX_test1 = pca1.transform(X_test1)\n",
    "        \n",
    "        pca2 = PCA(random_state=42, n_components=i)\n",
    "        pcaX_train2 = pca1.fit_transform(X_train2)\n",
    "        pcaX_test2 = pca1.transform(X_test2)\n",
    "        \n",
    "        pca3 = PCA(random_state=42, n_components=i)\n",
    "        pcaX_train3 = pca1.fit_transform(X_train3)\n",
    "        pcaX_test3 = pca1.transform(X_test3)\n",
    "        \n",
    "        pca4 = PCA(random_state=42, n_components=i)\n",
    "        pcaX_train4 = pca4.fit_transform(X_train4)\n",
    "        pcaX_test4 = pca4.transform(X_test4)\n",
    "        \n",
    "        pcaX_train = [pcaX_train0, pcaX_train1, pcaX_train2, pcaX_train3, pcaX_train4]\n",
    "        pcaX_test = [pcaX_test0, pcaX_test1, pcaX_test2, pcaX_test3, pcaX_test4]\n",
    "         \n",
    "        rfreg = RandomForestRegressor(random_state=42, max_depth=max_depth, min_samples_split=min_samples_split, \\\n",
    "                                      min_samples_leaf=min_samples_leaf, \\\n",
    "                                      min_weight_fraction_leaf=min_weight_fraction_leaf, \\\n",
    "                                      max_features=max_features, n_jobs=n_jobs)\n",
    "        \n",
    "        print('PCA Transformed - Random Forest Regression - Store Type ' + str(store))\n",
    "        print('n_components = ' + str(i))\n",
    "        print('max_depth = ' + str(max_depth))\n",
    "        print('min_samples_split = ' + str(min_samples_split))\n",
    "        print('min_samples_leaf = ' + str(min_samples_leaf))\n",
    "        print('min_weight_fraction_leaf = ' + str(min_weight_fraction_leaf))\n",
    "        print('max_features = ' + str(max_features))      \n",
    "        \n",
    "        cvmodeling(rfreg, pcaX_train, y_train, pcaX_test, y_test, False)\n",
    "        print('\\n')"
   ]
  },
  {
   "cell_type": "markdown",
   "metadata": {},
   "source": [
    "#### Store Type 1"
   ]
  },
  {
   "cell_type": "code",
   "execution_count": 66,
   "metadata": {
    "scrolled": false
   },
   "outputs": [
    {
     "name": "stdout",
     "output_type": "stream",
     "text": [
      "PCA Transformed - Random Forest Regression - Store Type 1\n",
      "n_components = 20\n",
      "max_depth = 80\n",
      "min_samples_split = 35\n",
      "min_samples_leaf = 1\n",
      "min_weight_fraction_leaf = 0\n",
      "max_features = auto\n",
      "Mean CV R2 training score = 0.504\n",
      "Mean CV R2 testing score = -0.4317\n",
      "Mean CV Root-mean-squared test score = 19681\n",
      "\n",
      "\n",
      "PCA Transformed - Random Forest Regression - Store Type 1\n",
      "n_components = 40\n",
      "max_depth = 80\n",
      "min_samples_split = 35\n",
      "min_samples_leaf = 1\n",
      "min_weight_fraction_leaf = 0\n",
      "max_features = auto\n",
      "Mean CV R2 training score = 0.6437\n",
      "Mean CV R2 testing score = 0.0307\n",
      "Mean CV Root-mean-squared test score = 16323\n",
      "\n",
      "\n",
      "PCA Transformed - Random Forest Regression - Store Type 1\n",
      "n_components = 60\n",
      "max_depth = 80\n",
      "min_samples_split = 35\n",
      "min_samples_leaf = 1\n",
      "min_weight_fraction_leaf = 0\n",
      "max_features = auto\n",
      "Mean CV R2 training score = 0.923\n",
      "Mean CV R2 testing score = 0.8483\n",
      "Mean CV Root-mean-squared test score = 6449\n",
      "\n",
      "\n",
      "PCA Transformed - Random Forest Regression - Store Type 1\n",
      "n_components = 80\n",
      "max_depth = 80\n",
      "min_samples_split = 35\n",
      "min_samples_leaf = 1\n",
      "min_weight_fraction_leaf = 0\n",
      "max_features = auto\n",
      "Mean CV R2 training score = 0.9328\n",
      "Mean CV R2 testing score = 0.8526\n",
      "Mean CV Root-mean-squared test score = 6338\n",
      "\n",
      "\n",
      "PCA Transformed - Random Forest Regression - Store Type 1\n",
      "n_components = 100\n",
      "max_depth = 80\n",
      "min_samples_split = 35\n",
      "min_samples_leaf = 1\n",
      "min_weight_fraction_leaf = 0\n",
      "max_features = auto\n",
      "Mean CV R2 training score = 0.9338\n",
      "Mean CV R2 testing score = 0.8657\n",
      "Mean CV Root-mean-squared test score = 6086\n",
      "\n",
      "\n",
      "PCA Transformed - Random Forest Regression - Store Type 1\n",
      "n_components = 120\n",
      "max_depth = 80\n",
      "min_samples_split = 35\n",
      "min_samples_leaf = 1\n",
      "min_weight_fraction_leaf = 0\n",
      "max_features = auto\n",
      "Mean CV R2 training score = 0.933\n",
      "Mean CV R2 testing score = 0.8718\n",
      "Mean CV Root-mean-squared test score = 5943\n",
      "\n",
      "\n",
      "PCA Transformed - Random Forest Regression - Store Type 1\n",
      "n_components = 140\n",
      "max_depth = 80\n",
      "min_samples_split = 35\n",
      "min_samples_leaf = 1\n",
      "min_weight_fraction_leaf = 0\n",
      "max_features = auto\n",
      "Mean CV R2 training score = 0.9197\n",
      "Mean CV R2 testing score = 0.8728\n",
      "Mean CV Root-mean-squared test score = 5890\n",
      "\n",
      "\n",
      "CPU times: user 7h 41min 26s, sys: 43.1 s, total: 7h 42min 9s\n",
      "Wall time: 2h 37min 23s\n"
     ]
    }
   ],
   "source": [
    "%%time\n",
    "pcaRfCV(1, [20, 40, 60, 80, 100, 120, 140], max_depth=80, min_samples_split=35, n_jobs=-2)"
   ]
  },
  {
   "cell_type": "markdown",
   "metadata": {
    "scrolled": false
   },
   "source": [
    "%%time\n",
    "pcaRfCV(1, [None], max_depth=80, min_samples_split=35, n_jobs=-1)"
   ]
  },
  {
   "cell_type": "markdown",
   "metadata": {},
   "source": [
    "n_components=None performed the best, but let's see how it does with default Random Forest Regressor hyperparameters"
   ]
  },
  {
   "cell_type": "code",
   "execution_count": 85,
   "metadata": {
    "scrolled": false
   },
   "outputs": [
    {
     "name": "stdout",
     "output_type": "stream",
     "text": [
      "PCA Transformed - Random Forest Regression - Store Type 1\n",
      "n_components = None\n",
      "max_depth = None\n",
      "min_samples_split = 2\n",
      "min_samples_leaf = 1\n",
      "min_weight_fraction_leaf = 0\n",
      "max_features = auto\n",
      "Mean CV R2 training score = 0.9871\n",
      "Mean CV R2 testing score = 0.8874\n",
      "Mean CV Root-mean-squared test score = 5530\n",
      "\n",
      "\n",
      "CPU times: user 1h 52min 27s, sys: 19.7 s, total: 1h 52min 46s\n",
      "Wall time: 38min 46s\n"
     ]
    }
   ],
   "source": [
    "%%time\n",
    "pcaRfCV(1, [None], n_jobs=-2)"
   ]
  },
  {
   "cell_type": "code",
   "execution_count": 39,
   "metadata": {},
   "outputs": [
    {
     "name": "stdout",
     "output_type": "stream",
     "text": [
      "Best parameters are {'reg__min_samples_split': 25, 'reg__min_samples_leaf': 4, 'reg__max_depth': 60, 'pca__n_components': 80}\n",
      "Best RMSE score is 7710.0\n",
      "Wall time: 1h 34min 30s\n"
     ]
    }
   ],
   "source": [
    "%%time\n",
    "# Let's try a pipeline of PCA to RandomForestRegression, and doing RandomizedSearchCV on it\n",
    "pipeline = Pipeline([('pca', PCA()), ('reg', RandomForestRegressor(random_state=42, n_jobs=-1))])\n",
    "param_grid = {'pca__n_components':np.arange(10, 100, 10), \\\n",
    "              'reg__max_depth':np.arange(10, 100, 10), \\\n",
    "              'reg__min_samples_split':np.arange(5, 50, 5), \\\n",
    "              'reg__min_samples_leaf':np.arange(1, 20, 1)}\n",
    "RSCV(pipeline, param_grid, 1, n_iter=20)"
   ]
  },
  {
   "cell_type": "markdown",
   "metadata": {},
   "source": [
    "Best settings are no PCA and RFRegressor with max_depth=80 and min_samples_split=35"
   ]
  },
  {
   "cell_type": "markdown",
   "metadata": {},
   "source": [
    "### Export CV Tables"
   ]
  },
  {
   "cell_type": "code",
   "execution_count": 30,
   "metadata": {},
   "outputs": [],
   "source": [
    "# Create dataframes with cross-validation results\n",
    "CV0df = pd.DataFrame({'Model':['Linear Regression', 'Ridge Regression', 'Random Forest Regression'], \\\n",
    "                      'R2 Score':['-8.93e+23', '0.9061', '0.9809'], \\\n",
    "                      'RMSE Score':['$9.38e+15', '$4,836', '$2,165']})\n",
    "CV0df.set_index('Model', inplace=True)\n",
    "\n",
    "CV1df = pd.DataFrame({'Model':['Linear Regression', 'Ridge Regression', 'Random Forest Regression', 'PCA - Random Forest Regression'], \\\n",
    "                      'R2 Score':['-2.56e+24', '0.6825', '0.9009', '0.8778'], \\\n",
    "                      'RMSE Score':['$2.00e+16', '$9,380', '$5,049', '$5,772']})\n",
    "CV1df.set_index('Model', inplace=True)\n",
    "\n",
    "CV2df = pd.DataFrame({'Model':['Linear Regression', 'Ridge Regression', 'Random Forest Regression'], \\\n",
    "                      'R2 Score':['-3.10e+24', '0.8177', '0.9509'], \\\n",
    "                      'RMSE Score':['$3.93e+16', '$11,141', '$5,623']})\n",
    "CV2df.set_index('Model', inplace=True)\n"
   ]
  },
  {
   "cell_type": "code",
   "execution_count": 32,
   "metadata": {},
   "outputs": [],
   "source": [
    "# Export dataframes as .png\n",
    "os.chdir('../../figures')\n",
    "dfi.export(CV0df, 'CV0df.png')\n",
    "dfi.export(CV1df, 'CV1df.png')\n",
    "dfi.export(CV2df, 'CV2df.png')"
   ]
  },
  {
   "cell_type": "markdown",
   "metadata": {},
   "source": [
    "## Final Models"
   ]
  },
  {
   "cell_type": "markdown",
   "metadata": {},
   "source": [
    "### Store Type 0 (C)"
   ]
  },
  {
   "cell_type": "code",
   "execution_count": 18,
   "metadata": {
    "scrolled": true
   },
   "outputs": [
    {
     "data": {
      "text/plain": [
       "RandomForestRegressor(max_depth=80, min_samples_split=10, n_jobs=-1)"
      ]
     },
     "execution_count": 18,
     "metadata": {},
     "output_type": "execute_result"
    }
   ],
   "source": [
    "# Store Type 0 model:\n",
    "model0 = RandomForestRegressor(max_depth=80, min_samples_split=10, n_jobs=-1)\n",
    "model0.fit(X_train0, np.ravel(y_train0))"
   ]
  },
  {
   "cell_type": "markdown",
   "metadata": {},
   "source": [
    "### Store Type 1 (B)"
   ]
  },
  {
   "cell_type": "code",
   "execution_count": 14,
   "metadata": {
    "scrolled": true
   },
   "outputs": [
    {
     "data": {
      "text/plain": [
       "RandomForestRegressor(max_depth=80, min_samples_split=3,\n",
       "                      min_weight_fraction_leaf=0, n_jobs=-1)"
      ]
     },
     "execution_count": 14,
     "metadata": {},
     "output_type": "execute_result"
    }
   ],
   "source": [
    "# Store Type 1 model:\n",
    "model1 = RandomForestRegressor(max_depth=80, min_samples_split=3,\n",
    "                               min_samples_leaf=1, min_weight_fraction_leaf = 0,\n",
    "                               max_features='auto', n_jobs=-1)\n",
    "model1.fit(X_train1, np.ravel(y_train1))"
   ]
  },
  {
   "cell_type": "markdown",
   "metadata": {},
   "source": [
    "### Store Type 2 (A)"
   ]
  },
  {
   "cell_type": "code",
   "execution_count": 11,
   "metadata": {},
   "outputs": [
    {
     "data": {
      "text/plain": [
       "RandomForestRegressor(max_depth=100, min_samples_split=5, n_jobs=-1)"
      ]
     },
     "execution_count": 11,
     "metadata": {},
     "output_type": "execute_result"
    }
   ],
   "source": [
    "# Store Type 2 model:\n",
    "model2 = RandomForestRegressor(max_depth=100, min_samples_split=5, n_jobs=-1)\n",
    "model2.fit(X_train2, np.ravel(y_train2))"
   ]
  },
  {
   "cell_type": "markdown",
   "metadata": {},
   "source": [
    "## Final Metrics"
   ]
  },
  {
   "cell_type": "markdown",
   "metadata": {},
   "source": [
    "### Store Type 0 (C)"
   ]
  },
  {
   "cell_type": "code",
   "execution_count": 19,
   "metadata": {},
   "outputs": [],
   "source": [
    "y_pred0 = model0.predict(X_test0)"
   ]
  },
  {
   "cell_type": "code",
   "execution_count": 23,
   "metadata": {
    "scrolled": false
   },
   "outputs": [
    {
     "name": "stdout",
     "output_type": "stream",
     "text": [
      "Store Type 0 Model Results\n",
      "R2 training score = 0.996\n",
      "R2 testing score = 0.9787\n",
      "Root-mean-squared test score = 2393\n"
     ]
    },
    {
     "data": {
      "image/png": "[encoded data removed]",
      "text/plain": [
       "<Figure size 720x504 with 1 Axes>"
      ]
     },
     "metadata": {},
     "output_type": "display_data"
    }
   ],
   "source": [
    "# Store Type 0\n",
    "print('Store Type 0 Model Results')\n",
    "print('R2 training score = ' + str(round(model0.score(X_train0, y_train0), 4)))\n",
    "print('R2 testing score = ' + str(round(r2_score(y_test0, y_pred0), 4)))\n",
    "print('Root-mean-squared test score = ' + str(round(mean_squared_error(y_test0, y_pred0, squared=False))))\n",
    "\n",
    "_ = plt.figure(figsize=(10, 7))\n",
    "_ = plt.scatter(np.ravel(y_test0), y_pred0)\n",
    "_ = plt.plot([1, y_test0.max()], [1, y_test0.max()], c='black')\n",
    "plt.xlabel('y_test0')\n",
    "plt.ylabel('y_prediction0')\n",
    "plt.title('Store Type 0 Model Results')\n",
    "_ = plt.show()"
   ]
  },
  {
   "cell_type": "markdown",
   "metadata": {},
   "source": [
    "### Store Type 1 (B)"
   ]
  },
  {
   "cell_type": "code",
   "execution_count": 15,
   "metadata": {},
   "outputs": [],
   "source": [
    "y_pred1 = model1.predict(X_test1)"
   ]
  },
  {
   "cell_type": "code",
   "execution_count": 16,
   "metadata": {
    "scrolled": false
   },
   "outputs": [
    {
     "name": "stdout",
     "output_type": "stream",
     "text": [
      "Store Type 1 Model Results\n",
      "R2 training score = 0.9893\n",
      "R2 testing score = 0.8909\n",
      "Root-mean-squared test score = 4693\n"
     ]
    },
    {
     "data": {
      "image/png": "[encoded data removed]",
      "text/plain": [
       "<Figure size 720x504 with 1 Axes>"
      ]
     },
     "metadata": {},
     "output_type": "display_data"
    }
   ],
   "source": [
    "# Store Type 1\n",
    "print('Store Type 1 Model Results')\n",
    "print('R2 training score = ' + str(round(model1.score(X_train1, y_train1), 4)))\n",
    "print('R2 testing score = ' + str(round(r2_score(y_test1, y_pred1), 4)))\n",
    "print('Root-mean-squared test score = ' + str(round(mean_squared_error(y_test1, y_pred1, squared=False))))\n",
    "\n",
    "_ = plt.figure(figsize=(10, 7))\n",
    "_ = plt.scatter(np.ravel(y_test1), y_pred1)\n",
    "_ = plt.plot([1, y_test1.max()], [1, y_test1.max()], c='black')\n",
    "plt.xlabel('y_test1')\n",
    "plt.ylabel('y_prediction1')\n",
    "plt.title('Store Type 1 Model Results')\n",
    "_ = plt.show()"
   ]
  },
  {
   "cell_type": "markdown",
   "metadata": {},
   "source": [
    "### Store Type 2 (A)"
   ]
  },
  {
   "cell_type": "code",
   "execution_count": 14,
   "metadata": {},
   "outputs": [],
   "source": [
    "y_pred2 = model2.predict(X_test2)"
   ]
  },
  {
   "cell_type": "code",
   "execution_count": 15,
   "metadata": {
    "scrolled": false
   },
   "outputs": [
    {
     "name": "stdout",
     "output_type": "stream",
     "text": [
      "Store Type 2 Model Results\n",
      "R2 training score = 0.9934\n",
      "R2 testing score = 0.937\n",
      "Root-mean-squared test score = 6543\n"
     ]
    },
    {
     "data": {
      "image/png": "[encoded data removed]",
      "text/plain": [
       "<Figure size 720x504 with 1 Axes>"
      ]
     },
     "metadata": {},
     "output_type": "display_data"
    }
   ],
   "source": [
    "# Store Type 2\n",
    "\n",
    "print('Store Type 2 Model Results')\n",
    "print('R2 training score = ' + str(round(model2.score(X_train2, y_train2), 4)))\n",
    "print('R2 testing score = ' + str(round(r2_score(y_test2, y_pred2), 4)))\n",
    "print('Root-mean-squared test score = ' + str(round(mean_squared_error(y_test2, y_pred2, squared=False))))\n",
    "\n",
    "_ = plt.figure(figsize=(10, 7))\n",
    "_ = plt.scatter(np.ravel(y_test2), y_pred2)\n",
    "_ = plt.plot([1, y_test2.max()], [1, y_test2.max()], c='black')\n",
    "plt.xlabel('y_test2')\n",
    "plt.ylabel('y_prediction2')\n",
    "plt.title('Store Type 2 Model Results')\n",
    "_ = plt.show()"
   ]
  },
  {
   "cell_type": "markdown",
   "metadata": {},
   "source": [
    "### Export Final Metric Tables"
   ]
  },
  {
   "cell_type": "code",
   "execution_count": 16,
   "metadata": {},
   "outputs": [],
   "source": [
    "FinalMetrics = pd.DataFrame({'Store Type':['0 (C)', '1 (B)', '2 (A)'], \\\n",
    "                             'R2 Score':['0.9787', '0.8403', '0.9370'], \\\n",
    "                             'RMSE Score':['$2,393', '$6,329', '$6,543']})\n",
    "\n",
    "FinalMetrics.set_index('Store Type', inplace=True)"
   ]
  },
  {
   "cell_type": "code",
   "execution_count": 17,
   "metadata": {},
   "outputs": [],
   "source": [
    "dfi.export(FinalMetrics, 'FinalMetrics.png')"
   ]
  },
  {
   "cell_type": "code",
   "execution_count": null,
   "metadata": {},
   "outputs": [],
   "source": []
  }
 ],
 "metadata": {
  "kernelspec": {
   "display_name": "Python 3",
   "language": "python",
   "name": "python3"
  },
  "language_info": {
   "codemirror_mode": {
    "name": "ipython",
    "version": 3
   },
   "file_extension": ".py",
   "mimetype": "text/x-python",
   "name": "python",
   "nbconvert_exporter": "python",
   "pygments_lexer": "ipython3",
   "version": "3.7.9"
  },
  "toc": {
   "base_numbering": 1,
   "nav_menu": {},
   "number_sections": true,
   "sideBar": true,
   "skip_h1_title": false,
   "title_cell": "Table of Contents",
   "title_sidebar": "Contents",
   "toc_cell": false,
   "toc_position": {
    "height": "875.45px",
    "left": "48px",
    "top": "53.65px",
    "width": "351.333px"
   },
   "toc_section_display": true,
   "toc_window_display": true
  },
  "varInspector": {
   "cols": {
    "lenName": 16,
    "lenType": 16,
    "lenVar": 40
   },
   "kernels_config": {
    "python": {
     "delete_cmd_postfix": "",
     "delete_cmd_prefix": "del ",
     "library": "var_list.py",
     "varRefreshCmd": "print(var_dic_list())"
    },
    "r": {
     "delete_cmd_postfix": ") ",
     "delete_cmd_prefix": "rm(",
     "library": "var_list.r",
     "varRefreshCmd": "cat(var_dic_list()) "
    }
   },
   "types_to_exclude": [
    "module",
    "function",
    "builtin_function_or_method",
    "instance",
    "_Feature"
   ],
   "window_display": false
  }
 },
 "nbformat": 4,
 "nbformat_minor": 4
}
